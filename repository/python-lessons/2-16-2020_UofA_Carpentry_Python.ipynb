{
 "cells": [
  {
   "cell_type": "markdown",
   "metadata": {},
   "source": [
    "# 02/16/2020\n",
    "\n",
    "# Python\n",
    "\n",
    "## Nathalia Graf-Grachet"
   ]
  },
  {
   "cell_type": "markdown",
   "metadata": {},
   "source": [
    "## Goals:\n",
    "\n",
    "**Morning:**\n",
    "1. Short review\n",
    "2. For loops and conditionals\n",
    "3. Functions\n",
    "4. Use `pandas` for data analysis\n",
    "\n",
    "**Afternoon:**\n",
    "5. Continue with `pandas` for data analysis\n",
    "6. Visualize data in publication quality plots "
   ]
  },
  {
   "cell_type": "markdown",
   "metadata": {},
   "source": [
    "**Useful links:**  \n",
    "- Software Carpentry Lesson: http://swcarpentry.github.io/python-novice-gapminder/\n",
    "- Gapminder: https://www.gapminder.org\n",
    "- Pandas Cheat Sheet: https://ugoproto.github.io/ugo_py_doc/Pandas_DataFrame_Notes.pdf"
   ]
  },
  {
   "cell_type": "markdown",
   "metadata": {},
   "source": [
    "# For loops\n",
    "\n",
    "A for loop executes the same command through each value in a collection.\n",
    "\n",
    "Building blocks of a for loop:\n",
    "\n",
    "`for` `each-item` `in` `variable` `:`  \n",
    "`(tab)` `do-something`\n",
    "\n",
    "Start the for loop with `for`  \n",
    "use `in` to indicate the variable  \n",
    "end the first line with `:`  \n",
    "indent the second line with `tab` (Jupyter does the indent automatically!)\n",
    " \n",
    "`each-item` is an arbitrary name for each item in the variable/list.  \n",
    "`do-something` is a command."
   ]
  },
  {
   "cell_type": "code",
   "execution_count": 1,
   "metadata": {},
   "outputs": [
    {
     "name": "stdout",
     "output_type": "stream",
     "text": [
      "0\n",
      "1\n",
      "2\n",
      "3\n",
      "4\n",
      "5\n",
      "6\n",
      "7\n",
      "8\n",
      "9\n"
     ]
    }
   ],
   "source": [
    "for number in range(10): # does not include 10! \n",
    "    print(number)"
   ]
  },
  {
   "cell_type": "code",
   "execution_count": 2,
   "metadata": {},
   "outputs": [
    {
     "name": "stdout",
     "output_type": "stream",
     "text": [
      "0\n",
      "1\n",
      "3\n",
      "6\n",
      "10\n",
      "15\n",
      "21\n",
      "28\n",
      "36\n",
      "45\n"
     ]
    }
   ],
   "source": [
    "total=0 # global variable\n",
    "\n",
    "\n",
    "# if total wasn't created outside the loop, it would be just a local variable\n",
    "# which means that total would only be accessible within the loop\n",
    "# when the loop is over, bye bye total...\n",
    "\n",
    "\n",
    "for i in range(10):\n",
    "    total=total+i \n",
    "    print(total) "
   ]
  },
  {
   "cell_type": "code",
   "execution_count": 3,
   "metadata": {},
   "outputs": [
    {
     "name": "stdout",
     "output_type": "stream",
     "text": [
      "45\n"
     ]
    }
   ],
   "source": [
    "total=0\n",
    "\n",
    "for i in range(10):\n",
    "    total=total+i\n",
    "\n",
    "print(total)"
   ]
  },
  {
   "cell_type": "code",
   "execution_count": 4,
   "metadata": {},
   "outputs": [
    {
     "name": "stdout",
     "output_type": "stream",
     "text": [
      "[70, 90, 120, 3.0, 80, 100]\n"
     ]
    }
   ],
   "source": [
    "data=[35,45,60,1.5,40,50]\n",
    "data2=[]\n",
    "\n",
    "for i in data:\n",
    "    data2.append(i*2)\n",
    "    \n",
    "print(data2)"
   ]
  },
  {
   "cell_type": "markdown",
   "metadata": {},
   "source": [
    "# Challenge: reverse the string using a for loop\n",
    "\n",
    "There's many ways to reverse a string. I want to challenge you to use a for loop. The goal is to practice how to build a for loop (use multiple print statements), and understand what's happening in each step."
   ]
  },
  {
   "cell_type": "code",
   "execution_count": 5,
   "metadata": {},
   "outputs": [
    {
     "name": "stdout",
     "output_type": "stream",
     "text": [
      "llafretaw\n"
     ]
    }
   ],
   "source": [
    "original = \"waterfall\"\n",
    "\n",
    "result = \"\"\n",
    "\n",
    "for char in original:\n",
    "    #print(result)\n",
    "    result = char + result\n",
    "    #print(char)\n",
    "    #print(result)\n",
    "    #print()\n",
    "\n",
    "print(result)"
   ]
  },
  {
   "cell_type": "code",
   "execution_count": 6,
   "metadata": {},
   "outputs": [
    {
     "data": {
      "text/plain": [
       "'llafretaw'"
      ]
     },
     "execution_count": 6,
     "metadata": {},
     "output_type": "execute_result"
    }
   ],
   "source": [
    "original = \"waterfall\"\n",
    "original[::-1]"
   ]
  },
  {
   "cell_type": "markdown",
   "metadata": {},
   "source": [
    "# `if/else` statements \n",
    "\n",
    "conditional statement\n",
    "\n",
    "serve to control the data inside the loop, control execution of the code\n",
    "\n",
    "`if` `some-condition` `:`    \n",
    "`(tab)` `do-something`  \n",
    "`else` `:`  \n",
    "`(tab)` `do-the-other-thing`\n",
    "\n",
    "Start with `if`  \n",
    "`some-condition` is a test that you want to run with your data  \n",
    "end the line with `:`  \n",
    "indent the line after if with `tab` (Jupyter does the indent automatically!)  \n",
    "End the statement with `else` and `:` (notice that if and else are in the same indent)  \n",
    "indent the line after the else with `tab`  \n",
    "`do-the-other-thing` is the opposite test from the if statement.\n",
    "\n",
    "## Operators:\n",
    "\n",
    "## Comparison operators:\n",
    "\n",
    "`==` equality\n",
    "\n",
    "`!=` not equal\n",
    "\n",
    "`>` greater than, `>=` greater than or equal to\n",
    "\n",
    "`<` less than, `<=` less than or equal to"
   ]
  },
  {
   "cell_type": "code",
   "execution_count": 7,
   "metadata": {},
   "outputs": [
    {
     "name": "stdout",
     "output_type": "stream",
     "text": [
      "3.56 is greater or equal than 2\n"
     ]
    }
   ],
   "source": [
    "weight=3.56\n",
    "\n",
    "if weight >= 2:\n",
    "    print(weight,'is greater or equal than 2')\n",
    "else:\n",
    "    print(weight,'is less than 2')"
   ]
  },
  {
   "cell_type": "markdown",
   "metadata": {},
   "source": [
    "## Membership operators:\n",
    "\n",
    "`in` and `not in`"
   ]
  },
  {
   "cell_type": "code",
   "execution_count": 8,
   "metadata": {},
   "outputs": [
    {
     "name": "stdout",
     "output_type": "stream",
     "text": [
      "Don't need basil\n"
     ]
    }
   ],
   "source": [
    "groceries=['bread', 'tomato', 'hot sauce', 'cheese']\n",
    "\n",
    "if 'basil' in groceries: \n",
    "    print('Will buy basil')\n",
    "else:\n",
    "    print(\"Don't need basil\")"
   ]
  },
  {
   "cell_type": "markdown",
   "metadata": {},
   "source": [
    "# Use `if/else` conditionals inside a loop"
   ]
  },
  {
   "cell_type": "code",
   "execution_count": 9,
   "metadata": {},
   "outputs": [
    {
     "name": "stdout",
     "output_type": "stream",
     "text": [
      "35\n",
      "45\n",
      "60 is even\n",
      "1.5\n",
      "40 is even\n",
      "50 is even\n"
     ]
    }
   ],
   "source": [
    "for i in data:\n",
    "    if i %2 == 0:\n",
    "        print(i, 'is even')\n",
    "    else:\n",
    "        print(i)"
   ]
  },
  {
   "cell_type": "code",
   "execution_count": 10,
   "metadata": {},
   "outputs": [
    {
     "name": "stdout",
     "output_type": "stream",
     "text": [
      "Data that are even:\n",
      "60 40 50 "
     ]
    }
   ],
   "source": [
    "print('Data that are even:')\n",
    "for i in data:\n",
    "    if i %2 == 0:\n",
    "        print(i, end=' ')\n",
    "    else:\n",
    "        continue # do a print('a') to see what's going on..."
   ]
  },
  {
   "cell_type": "code",
   "execution_count": 11,
   "metadata": {},
   "outputs": [
    {
     "name": "stdout",
     "output_type": "stream",
     "text": [
      "Data that are even:\n",
      "40 50 60 "
     ]
    }
   ],
   "source": [
    "print('Data that are even:')\n",
    "for i in sorted(data):\n",
    "    if i %2 == 0:\n",
    "        print(i, end=' ')\n",
    "    else:\n",
    "        continue # do a print('a') to see what's going on..."
   ]
  },
  {
   "cell_type": "code",
   "execution_count": 12,
   "metadata": {},
   "outputs": [
    {
     "name": "stdout",
     "output_type": "stream",
     "text": [
      "0\n",
      "1\n",
      "2\n",
      "3\n",
      "4\n",
      "-> 5 is exactly 5!\n",
      "6 is greater than 5\n",
      "7 is greater than 5\n",
      "8 is greater than 5\n",
      "9 is greater than 5\n",
      "10 is greater than 5\n",
      "11 is greater than 5\n",
      "12 is greater than 5\n",
      "13 is greater than 5\n",
      "14 is greater than 5\n"
     ]
    }
   ],
   "source": [
    "for i in range(15):\n",
    "    if i < 5:\n",
    "        print(i)\n",
    "        #continue\n",
    "    elif i == 5:\n",
    "        print('->',i,'is exactly 5!')\n",
    "    else:\n",
    "        print(i,'is greater than 5')"
   ]
  },
  {
   "cell_type": "markdown",
   "metadata": {},
   "source": [
    "# Challenge: Print the rainfall values in milimeters and the temperature in Celsius. Skip pressure_psi."
   ]
  },
  {
   "cell_type": "code",
   "execution_count": 13,
   "metadata": {},
   "outputs": [
    {
     "data": {
      "text/plain": [
       "{'rainfall_inches': [1.34, 1.56, 4.33],\n",
       " 'temperature_F': [75, 80, 96],\n",
       " 'pressure_psi': [10, 2, 35]}"
      ]
     },
     "execution_count": 13,
     "metadata": {},
     "output_type": "execute_result"
    }
   ],
   "source": [
    "data={'rainfall_inches':[1.34,1.56,4.33],\n",
    "      'temperature_F':[75,80,96],\n",
    "      'pressure_psi':[10,2,35]}\n",
    "data"
   ]
  },
  {
   "cell_type": "code",
   "execution_count": 14,
   "metadata": {},
   "outputs": [
    {
     "ename": "KeyError",
     "evalue": "0",
     "output_type": "error",
     "traceback": [
      "\u001b[0;31m---------------------------------------------------------------------------\u001b[0m",
      "\u001b[0;31mKeyError\u001b[0m                                  Traceback (most recent call last)",
      "\u001b[0;32m<ipython-input-14-e032479c7b24>\u001b[0m in \u001b[0;36m<module>\u001b[0;34m\u001b[0m\n\u001b[1;32m      1\u001b[0m \u001b[0;31m# accessing it like a list doesn't work:\u001b[0m\u001b[0;34m\u001b[0m\u001b[0;34m\u001b[0m\u001b[0m\n\u001b[0;32m----> 2\u001b[0;31m \u001b[0mdata\u001b[0m\u001b[0;34m[\u001b[0m\u001b[0;36m0\u001b[0m\u001b[0;34m]\u001b[0m\u001b[0;34m\u001b[0m\u001b[0m\n\u001b[0m",
      "\u001b[0;31mKeyError\u001b[0m: 0"
     ]
    }
   ],
   "source": [
    "# accessing it like a list doesn't work:\n",
    "data[0]"
   ]
  },
  {
   "cell_type": "markdown",
   "metadata": {},
   "source": [
    "We need to use a for loop to access data in dictionaries. \n",
    "\n",
    "Dictionary stores data in key-value pairs. "
   ]
  },
  {
   "cell_type": "code",
   "execution_count": null,
   "metadata": {},
   "outputs": [],
   "source": [
    "for i in data:\n",
    "    #print(i)\n",
    "    #print(data[i])\n",
    "    if 'rain' in i: # test if i startswith 'rain', if True goes inside the elif loop; if False goes to else\n",
    "        print('These are the rainfall in mm:')\n",
    "        rain=data[i]\n",
    "        for z in rain:\n",
    "            print(round(z*25.4,1))\n",
    "            \n",
    "    elif i.startswith('temp'):\n",
    "        print('These are the temperatures in Celsius:')\n",
    "        temp=data[i]\n",
    "        for j in temp:\n",
    "            print(round((j-32)*5/9,2))\n",
    "            \n",
    "    else:\n",
    "        continue"
   ]
  },
  {
   "cell_type": "markdown",
   "metadata": {},
   "source": [
    "# Functions:\n",
    "\n",
    "Created your own functions, specially if you need to make the same operation many times. This will make you code cleaner."
   ]
  },
  {
   "cell_type": "code",
   "execution_count": 15,
   "metadata": {},
   "outputs": [],
   "source": [
    "def reverse_text(string):\n",
    "    \"\"\"Function to reverse text in strings.\n",
    "    \n",
    "    \"\"\"\n",
    "    result=string[::-1]\n",
    "    return result"
   ]
  },
  {
   "cell_type": "code",
   "execution_count": 16,
   "metadata": {},
   "outputs": [
    {
     "data": {
      "text/plain": [
       "'llafretaw'"
      ]
     },
     "execution_count": 16,
     "metadata": {},
     "output_type": "execute_result"
    }
   ],
   "source": [
    "reverse_text(\"waterfall\")"
   ]
  },
  {
   "cell_type": "code",
   "execution_count": 17,
   "metadata": {},
   "outputs": [
    {
     "data": {
      "text/plain": [
       "'loop'"
      ]
     },
     "execution_count": 17,
     "metadata": {},
     "output_type": "execute_result"
    }
   ],
   "source": [
    "original='pool'\n",
    "reverse_text(original)"
   ]
  },
  {
   "cell_type": "code",
   "execution_count": 18,
   "metadata": {},
   "outputs": [],
   "source": [
    "def convert_temp(temperature,unit):\n",
    "    \"\"\"Function to convert temperature from F to C, and vice-versa.\n",
    "    Need temperature (integer or float) and unit (string, uppercase F or C)\n",
    "    \n",
    "    \"\"\"\n",
    "    t=int(temperature)\n",
    "    u=str(unit)\n",
    "    \n",
    "    if u == 'C':\n",
    "        fahr=(9/5*t)+32\n",
    "        print('{}C is {}F'.format(t,int(fahr)))\n",
    "    \n",
    "    elif u == 'F': # or else:\n",
    "        celsius=(t-32)*5/9\n",
    "        print('{}F is {}C'.format(t,int(celsius)))"
   ]
  },
  {
   "cell_type": "code",
   "execution_count": 19,
   "metadata": {},
   "outputs": [
    {
     "name": "stdout",
     "output_type": "stream",
     "text": [
      "85C is 185F\n"
     ]
    }
   ],
   "source": [
    "convert_temp(85,'C')"
   ]
  },
  {
   "cell_type": "code",
   "execution_count": 20,
   "metadata": {},
   "outputs": [],
   "source": [
    "convert_temp?"
   ]
  },
  {
   "cell_type": "code",
   "execution_count": 21,
   "metadata": {},
   "outputs": [],
   "source": [
    "# will demonstrate this depending on time\n",
    "\n",
    "def convert_temp2():\n",
    "    \"\"\"Function to convert temperature from F to C, and vice-versa.\n",
    "    User input.\n",
    "    \n",
    "    \"\"\"\n",
    "    t=int(input('Enter temperature:'))\n",
    "    u=str(input('Enter unit (F or C):'))\n",
    "    \n",
    "    if u == 'C':\n",
    "        fahr=9/5*t+32\n",
    "        return '{}C is {}F'.format(t,int(fahr))\n",
    "    \n",
    "    elif u == 'F':\n",
    "        celsius=(t-32)*5/9\n",
    "        return '{}F is {}C'.format(t,int(celsius))\n",
    "    \n",
    "    else:\n",
    "        return \"Don't know how to convert...\""
   ]
  },
  {
   "cell_type": "code",
   "execution_count": 38,
   "metadata": {},
   "outputs": [
    {
     "name": "stdout",
     "output_type": "stream",
     "text": [
      "Enter temperature:115\n",
      "Enter unit (F or C):F\n"
     ]
    },
    {
     "data": {
      "text/plain": [
       "'115F is 46C'"
      ]
     },
     "execution_count": 38,
     "metadata": {},
     "output_type": "execute_result"
    }
   ],
   "source": [
    "convert_temp2()"
   ]
  },
  {
   "cell_type": "code",
   "execution_count": 39,
   "metadata": {},
   "outputs": [
    {
     "name": "stdout",
     "output_type": "stream",
     "text": [
      "Enter temperature:25\n",
      "Enter unit (F or C):C\n"
     ]
    },
    {
     "data": {
      "text/plain": [
       "'25C is 77F'"
      ]
     },
     "execution_count": 39,
     "metadata": {},
     "output_type": "execute_result"
    }
   ],
   "source": [
    "convert_temp2()"
   ]
  },
  {
   "cell_type": "code",
   "execution_count": 40,
   "metadata": {
    "scrolled": true
   },
   "outputs": [
    {
     "name": "stdout",
     "output_type": "stream",
     "text": [
      "Enter temperature:200\n",
      "Enter unit (F or C):K\n"
     ]
    },
    {
     "data": {
      "text/plain": [
       "\"Don't know how to convert...\""
      ]
     },
     "execution_count": 40,
     "metadata": {},
     "output_type": "execute_result"
    }
   ],
   "source": [
    "convert_temp2()"
   ]
  },
  {
   "cell_type": "markdown",
   "metadata": {},
   "source": [
    "# Coffee break #1"
   ]
  },
  {
   "cell_type": "markdown",
   "metadata": {},
   "source": [
    "# 1 - First things first...\n",
    "\n",
    "Import pandas library using an alias:"
   ]
  },
  {
   "cell_type": "code",
   "execution_count": 41,
   "metadata": {},
   "outputs": [],
   "source": [
    "import pandas as pd\n",
    "import glob"
   ]
  },
  {
   "cell_type": "markdown",
   "metadata": {},
   "source": [
    "If you're here yesterday, y'all used Unix to combine individual country's GDP files in the command line. If you're not here, that's okay. We'll solve that same problem using Python.\n",
    "\n",
    "1- Find files in `2020_February_Bash_Python/shell-lessons/data/gapminder_data/gapminder_by_country/`  \n",
    "2- Get all filenames into a list  \n",
    "3- Remove `countries.cc.txt`  \n",
    "4- For loop to append file lines into a pandas dataframe  \n",
    "5- Add column names from `countries.cc.txt`  "
   ]
  },
  {
   "cell_type": "code",
   "execution_count": 42,
   "metadata": {},
   "outputs": [
    {
     "data": {
      "text/plain": [
       "'/Users/grachetng/Carpentry_Workshops_at_UofA/2-16-2020_UofA_Carpentry_Python_day2/2020_February_Bash_Python/python-lessons'"
      ]
     },
     "execution_count": 42,
     "metadata": {},
     "output_type": "execute_result"
    }
   ],
   "source": [
    "pwd"
   ]
  },
  {
   "cell_type": "code",
   "execution_count": 46,
   "metadata": {},
   "outputs": [
    {
     "data": {
      "text/plain": [
       "143"
      ]
     },
     "execution_count": 46,
     "metadata": {},
     "output_type": "execute_result"
    }
   ],
   "source": [
    "# glob.glob will match files in the current directory based on a pattern\n",
    "countries=sorted(glob.glob('../shell-lessons/data/gapminder_data/gapminder_by_country/*.cc.txt'))\n",
    "len(countries)"
   ]
  },
  {
   "cell_type": "code",
   "execution_count": 48,
   "metadata": {},
   "outputs": [
    {
     "data": {
      "text/plain": [
       "142"
      ]
     },
     "execution_count": 48,
     "metadata": {},
     "output_type": "execute_result"
    }
   ],
   "source": [
    "for item in countries:\n",
    "    if item.endswith('country.cc.txt'):\n",
    "        #print('found it')\n",
    "        countries.remove(item)\n",
    "        \n",
    "len(countries)"
   ]
  },
  {
   "cell_type": "code",
   "execution_count": 49,
   "metadata": {},
   "outputs": [],
   "source": [
    "# creating dataframe from a for loop:\n",
    "df=pd.DataFrame()\n",
    "\n",
    "for country in countries:\n",
    "    c=pd.read_csv(country,sep='\\t',header=None)\n",
    "    df=df.append(c,ignore_index=True)"
   ]
  },
  {
   "cell_type": "code",
   "execution_count": 50,
   "metadata": {},
   "outputs": [
    {
     "data": {
      "text/plain": [
       "(1704, 6)"
      ]
     },
     "execution_count": 50,
     "metadata": {},
     "output_type": "execute_result"
    }
   ],
   "source": [
    "df.shape"
   ]
  },
  {
   "cell_type": "code",
   "execution_count": 51,
   "metadata": {},
   "outputs": [
    {
     "data": {
      "text/html": [
       "<div>\n",
       "<style scoped>\n",
       "    .dataframe tbody tr th:only-of-type {\n",
       "        vertical-align: middle;\n",
       "    }\n",
       "\n",
       "    .dataframe tbody tr th {\n",
       "        vertical-align: top;\n",
       "    }\n",
       "\n",
       "    .dataframe thead th {\n",
       "        text-align: right;\n",
       "    }\n",
       "</style>\n",
       "<table border=\"1\" class=\"dataframe\">\n",
       "  <thead>\n",
       "    <tr style=\"text-align: right;\">\n",
       "      <th></th>\n",
       "      <th>0</th>\n",
       "      <th>1</th>\n",
       "      <th>2</th>\n",
       "      <th>3</th>\n",
       "      <th>4</th>\n",
       "      <th>5</th>\n",
       "    </tr>\n",
       "  </thead>\n",
       "  <tbody>\n",
       "    <tr>\n",
       "      <th>0</th>\n",
       "      <td>Afghanistan</td>\n",
       "      <td>1997</td>\n",
       "      <td>22227415.0</td>\n",
       "      <td>Asia</td>\n",
       "      <td>41.763</td>\n",
       "      <td>635.341351</td>\n",
       "    </tr>\n",
       "    <tr>\n",
       "      <th>1</th>\n",
       "      <td>Afghanistan</td>\n",
       "      <td>2002</td>\n",
       "      <td>25268405.0</td>\n",
       "      <td>Asia</td>\n",
       "      <td>42.129</td>\n",
       "      <td>726.734055</td>\n",
       "    </tr>\n",
       "    <tr>\n",
       "      <th>2</th>\n",
       "      <td>Afghanistan</td>\n",
       "      <td>2007</td>\n",
       "      <td>31889923.0</td>\n",
       "      <td>Asia</td>\n",
       "      <td>43.828</td>\n",
       "      <td>974.580338</td>\n",
       "    </tr>\n",
       "    <tr>\n",
       "      <th>3</th>\n",
       "      <td>Afghanistan</td>\n",
       "      <td>1952</td>\n",
       "      <td>8425333.0</td>\n",
       "      <td>Asia</td>\n",
       "      <td>28.801</td>\n",
       "      <td>779.445314</td>\n",
       "    </tr>\n",
       "    <tr>\n",
       "      <th>4</th>\n",
       "      <td>Afghanistan</td>\n",
       "      <td>1957</td>\n",
       "      <td>9240934.0</td>\n",
       "      <td>Asia</td>\n",
       "      <td>30.332</td>\n",
       "      <td>820.853030</td>\n",
       "    </tr>\n",
       "    <tr>\n",
       "      <th>...</th>\n",
       "      <td>...</td>\n",
       "      <td>...</td>\n",
       "      <td>...</td>\n",
       "      <td>...</td>\n",
       "      <td>...</td>\n",
       "      <td>...</td>\n",
       "    </tr>\n",
       "    <tr>\n",
       "      <th>1699</th>\n",
       "      <td>Zimbabwe</td>\n",
       "      <td>1987</td>\n",
       "      <td>9216418.0</td>\n",
       "      <td>Africa</td>\n",
       "      <td>62.351</td>\n",
       "      <td>706.157306</td>\n",
       "    </tr>\n",
       "    <tr>\n",
       "      <th>1700</th>\n",
       "      <td>Zimbabwe</td>\n",
       "      <td>1992</td>\n",
       "      <td>10704340.0</td>\n",
       "      <td>Africa</td>\n",
       "      <td>60.377</td>\n",
       "      <td>693.420786</td>\n",
       "    </tr>\n",
       "    <tr>\n",
       "      <th>1701</th>\n",
       "      <td>Zimbabwe</td>\n",
       "      <td>1997</td>\n",
       "      <td>11404948.0</td>\n",
       "      <td>Africa</td>\n",
       "      <td>46.809</td>\n",
       "      <td>792.449960</td>\n",
       "    </tr>\n",
       "    <tr>\n",
       "      <th>1702</th>\n",
       "      <td>Zimbabwe</td>\n",
       "      <td>2002</td>\n",
       "      <td>11926563.0</td>\n",
       "      <td>Africa</td>\n",
       "      <td>39.989</td>\n",
       "      <td>672.038623</td>\n",
       "    </tr>\n",
       "    <tr>\n",
       "      <th>1703</th>\n",
       "      <td>Zimbabwe</td>\n",
       "      <td>2007</td>\n",
       "      <td>12311143.0</td>\n",
       "      <td>Africa</td>\n",
       "      <td>43.487</td>\n",
       "      <td>469.709298</td>\n",
       "    </tr>\n",
       "  </tbody>\n",
       "</table>\n",
       "<p>1704 rows × 6 columns</p>\n",
       "</div>"
      ],
      "text/plain": [
       "                0     1           2       3       4           5\n",
       "0     Afghanistan  1997  22227415.0    Asia  41.763  635.341351\n",
       "1     Afghanistan  2002  25268405.0    Asia  42.129  726.734055\n",
       "2     Afghanistan  2007  31889923.0    Asia  43.828  974.580338\n",
       "3     Afghanistan  1952   8425333.0    Asia  28.801  779.445314\n",
       "4     Afghanistan  1957   9240934.0    Asia  30.332  820.853030\n",
       "...           ...   ...         ...     ...     ...         ...\n",
       "1699     Zimbabwe  1987   9216418.0  Africa  62.351  706.157306\n",
       "1700     Zimbabwe  1992  10704340.0  Africa  60.377  693.420786\n",
       "1701     Zimbabwe  1997  11404948.0  Africa  46.809  792.449960\n",
       "1702     Zimbabwe  2002  11926563.0  Africa  39.989  672.038623\n",
       "1703     Zimbabwe  2007  12311143.0  Africa  43.487  469.709298\n",
       "\n",
       "[1704 rows x 6 columns]"
      ]
     },
     "execution_count": 51,
     "metadata": {},
     "output_type": "execute_result"
    }
   ],
   "source": [
    "df"
   ]
  },
  {
   "cell_type": "code",
   "execution_count": 52,
   "metadata": {},
   "outputs": [],
   "source": [
    "# enter columns manually:\n",
    "df.columns=['Country','Year','Population','Continent','LifeExp','gdpPercap']"
   ]
  },
  {
   "cell_type": "code",
   "execution_count": 55,
   "metadata": {},
   "outputs": [
    {
     "data": {
      "text/plain": [
       "['country', 'year', 'pop', 'continent', 'lifeExp', 'gdpPercap']"
      ]
     },
     "execution_count": 55,
     "metadata": {},
     "output_type": "execute_result"
    }
   ],
   "source": [
    "# or use python to read file and put the column names into a list:\n",
    "gapminder_columns=[]\n",
    "with open('../shell-lessons/data/gapminder_data/gapminder_by_country/country.cc.txt','r') as file:\n",
    "    for line in file:\n",
    "        \n",
    "        #line=line.split('\\t')\n",
    "        \n",
    "        line=line.rstrip().split('\\t')\n",
    "        \n",
    "        #print(line)\n",
    "        gapminder_columns=line\n",
    "        \n",
    "gapminder_columns"
   ]
  },
  {
   "cell_type": "code",
   "execution_count": 56,
   "metadata": {},
   "outputs": [
    {
     "data": {
      "text/html": [
       "<div>\n",
       "<style scoped>\n",
       "    .dataframe tbody tr th:only-of-type {\n",
       "        vertical-align: middle;\n",
       "    }\n",
       "\n",
       "    .dataframe tbody tr th {\n",
       "        vertical-align: top;\n",
       "    }\n",
       "\n",
       "    .dataframe thead th {\n",
       "        text-align: right;\n",
       "    }\n",
       "</style>\n",
       "<table border=\"1\" class=\"dataframe\">\n",
       "  <thead>\n",
       "    <tr style=\"text-align: right;\">\n",
       "      <th></th>\n",
       "      <th>country</th>\n",
       "      <th>year</th>\n",
       "      <th>pop</th>\n",
       "      <th>continent</th>\n",
       "      <th>lifeExp</th>\n",
       "      <th>gdpPercap</th>\n",
       "    </tr>\n",
       "  </thead>\n",
       "  <tbody>\n",
       "    <tr>\n",
       "      <th>0</th>\n",
       "      <td>Afghanistan</td>\n",
       "      <td>1997</td>\n",
       "      <td>22227415.0</td>\n",
       "      <td>Asia</td>\n",
       "      <td>41.763</td>\n",
       "      <td>635.341351</td>\n",
       "    </tr>\n",
       "    <tr>\n",
       "      <th>1</th>\n",
       "      <td>Afghanistan</td>\n",
       "      <td>2002</td>\n",
       "      <td>25268405.0</td>\n",
       "      <td>Asia</td>\n",
       "      <td>42.129</td>\n",
       "      <td>726.734055</td>\n",
       "    </tr>\n",
       "    <tr>\n",
       "      <th>2</th>\n",
       "      <td>Afghanistan</td>\n",
       "      <td>2007</td>\n",
       "      <td>31889923.0</td>\n",
       "      <td>Asia</td>\n",
       "      <td>43.828</td>\n",
       "      <td>974.580338</td>\n",
       "    </tr>\n",
       "    <tr>\n",
       "      <th>3</th>\n",
       "      <td>Afghanistan</td>\n",
       "      <td>1952</td>\n",
       "      <td>8425333.0</td>\n",
       "      <td>Asia</td>\n",
       "      <td>28.801</td>\n",
       "      <td>779.445314</td>\n",
       "    </tr>\n",
       "    <tr>\n",
       "      <th>4</th>\n",
       "      <td>Afghanistan</td>\n",
       "      <td>1957</td>\n",
       "      <td>9240934.0</td>\n",
       "      <td>Asia</td>\n",
       "      <td>30.332</td>\n",
       "      <td>820.853030</td>\n",
       "    </tr>\n",
       "  </tbody>\n",
       "</table>\n",
       "</div>"
      ],
      "text/plain": [
       "       country  year         pop continent  lifeExp   gdpPercap\n",
       "0  Afghanistan  1997  22227415.0      Asia   41.763  635.341351\n",
       "1  Afghanistan  2002  25268405.0      Asia   42.129  726.734055\n",
       "2  Afghanistan  2007  31889923.0      Asia   43.828  974.580338\n",
       "3  Afghanistan  1952   8425333.0      Asia   28.801  779.445314\n",
       "4  Afghanistan  1957   9240934.0      Asia   30.332  820.853030"
      ]
     },
     "execution_count": 56,
     "metadata": {},
     "output_type": "execute_result"
    }
   ],
   "source": [
    "df.columns=gapminder_columns\n",
    "df.head()"
   ]
  },
  {
   "cell_type": "code",
   "execution_count": 57,
   "metadata": {
    "scrolled": true
   },
   "outputs": [
    {
     "data": {
      "text/plain": [
       "country       object\n",
       "year           int64\n",
       "pop          float64\n",
       "continent     object\n",
       "lifeExp      float64\n",
       "gdpPercap    float64\n",
       "dtype: object"
      ]
     },
     "execution_count": 57,
     "metadata": {},
     "output_type": "execute_result"
    }
   ],
   "source": [
    "df.dtypes"
   ]
  },
  {
   "cell_type": "markdown",
   "metadata": {},
   "source": [
    "`object\tstr or mixed\tstring_, unicode_, mixed types`"
   ]
  },
  {
   "cell_type": "code",
   "execution_count": 58,
   "metadata": {},
   "outputs": [
    {
     "data": {
      "text/plain": [
       "False"
      ]
     },
     "execution_count": 58,
     "metadata": {},
     "output_type": "execute_result"
    }
   ],
   "source": [
    "df.isna().values.any()"
   ]
  },
  {
   "cell_type": "markdown",
   "metadata": {},
   "source": [
    "https://datascience.stackexchange.com/questions/37878/difference-between-isna-and-isnull-in-pandas?rq=1"
   ]
  },
  {
   "cell_type": "code",
   "execution_count": 59,
   "metadata": {},
   "outputs": [
    {
     "data": {
      "text/html": [
       "<div>\n",
       "<style scoped>\n",
       "    .dataframe tbody tr th:only-of-type {\n",
       "        vertical-align: middle;\n",
       "    }\n",
       "\n",
       "    .dataframe tbody tr th {\n",
       "        vertical-align: top;\n",
       "    }\n",
       "\n",
       "    .dataframe thead th {\n",
       "        text-align: right;\n",
       "    }\n",
       "</style>\n",
       "<table border=\"1\" class=\"dataframe\">\n",
       "  <thead>\n",
       "    <tr style=\"text-align: right;\">\n",
       "      <th></th>\n",
       "      <th>country</th>\n",
       "      <th>year</th>\n",
       "      <th>pop</th>\n",
       "      <th>continent</th>\n",
       "      <th>lifeExp</th>\n",
       "      <th>gdpPercap</th>\n",
       "    </tr>\n",
       "  </thead>\n",
       "  <tbody>\n",
       "    <tr>\n",
       "      <th>0</th>\n",
       "      <td>Afghanistan</td>\n",
       "      <td>1997</td>\n",
       "      <td>22227415.0</td>\n",
       "      <td>Asia</td>\n",
       "      <td>41.763</td>\n",
       "      <td>635.341351</td>\n",
       "    </tr>\n",
       "    <tr>\n",
       "      <th>11</th>\n",
       "      <td>Afghanistan</td>\n",
       "      <td>1992</td>\n",
       "      <td>16317921.0</td>\n",
       "      <td>Asia</td>\n",
       "      <td>41.674</td>\n",
       "      <td>649.341395</td>\n",
       "    </tr>\n",
       "    <tr>\n",
       "      <th>10</th>\n",
       "      <td>Afghanistan</td>\n",
       "      <td>1987</td>\n",
       "      <td>13867957.0</td>\n",
       "      <td>Asia</td>\n",
       "      <td>40.822</td>\n",
       "      <td>852.395945</td>\n",
       "    </tr>\n",
       "    <tr>\n",
       "      <th>9</th>\n",
       "      <td>Afghanistan</td>\n",
       "      <td>1982</td>\n",
       "      <td>12881816.0</td>\n",
       "      <td>Asia</td>\n",
       "      <td>39.854</td>\n",
       "      <td>978.011439</td>\n",
       "    </tr>\n",
       "    <tr>\n",
       "      <th>7</th>\n",
       "      <td>Afghanistan</td>\n",
       "      <td>1972</td>\n",
       "      <td>13079460.0</td>\n",
       "      <td>Asia</td>\n",
       "      <td>36.088</td>\n",
       "      <td>739.981106</td>\n",
       "    </tr>\n",
       "    <tr>\n",
       "      <th>...</th>\n",
       "      <td>...</td>\n",
       "      <td>...</td>\n",
       "      <td>...</td>\n",
       "      <td>...</td>\n",
       "      <td>...</td>\n",
       "      <td>...</td>\n",
       "    </tr>\n",
       "    <tr>\n",
       "      <th>1693</th>\n",
       "      <td>Zimbabwe</td>\n",
       "      <td>1957</td>\n",
       "      <td>3646340.0</td>\n",
       "      <td>Africa</td>\n",
       "      <td>50.469</td>\n",
       "      <td>518.764268</td>\n",
       "    </tr>\n",
       "    <tr>\n",
       "      <th>1692</th>\n",
       "      <td>Zimbabwe</td>\n",
       "      <td>1952</td>\n",
       "      <td>3080907.0</td>\n",
       "      <td>Africa</td>\n",
       "      <td>48.451</td>\n",
       "      <td>406.884115</td>\n",
       "    </tr>\n",
       "    <tr>\n",
       "      <th>1702</th>\n",
       "      <td>Zimbabwe</td>\n",
       "      <td>2002</td>\n",
       "      <td>11926563.0</td>\n",
       "      <td>Africa</td>\n",
       "      <td>39.989</td>\n",
       "      <td>672.038623</td>\n",
       "    </tr>\n",
       "    <tr>\n",
       "      <th>1696</th>\n",
       "      <td>Zimbabwe</td>\n",
       "      <td>1972</td>\n",
       "      <td>5861135.0</td>\n",
       "      <td>Africa</td>\n",
       "      <td>55.635</td>\n",
       "      <td>799.362176</td>\n",
       "    </tr>\n",
       "    <tr>\n",
       "      <th>1703</th>\n",
       "      <td>Zimbabwe</td>\n",
       "      <td>2007</td>\n",
       "      <td>12311143.0</td>\n",
       "      <td>Africa</td>\n",
       "      <td>43.487</td>\n",
       "      <td>469.709298</td>\n",
       "    </tr>\n",
       "  </tbody>\n",
       "</table>\n",
       "<p>1704 rows × 6 columns</p>\n",
       "</div>"
      ],
      "text/plain": [
       "          country  year         pop continent  lifeExp   gdpPercap\n",
       "0     Afghanistan  1997  22227415.0      Asia   41.763  635.341351\n",
       "11    Afghanistan  1992  16317921.0      Asia   41.674  649.341395\n",
       "10    Afghanistan  1987  13867957.0      Asia   40.822  852.395945\n",
       "9     Afghanistan  1982  12881816.0      Asia   39.854  978.011439\n",
       "7     Afghanistan  1972  13079460.0      Asia   36.088  739.981106\n",
       "...           ...   ...         ...       ...      ...         ...\n",
       "1693     Zimbabwe  1957   3646340.0    Africa   50.469  518.764268\n",
       "1692     Zimbabwe  1952   3080907.0    Africa   48.451  406.884115\n",
       "1702     Zimbabwe  2002  11926563.0    Africa   39.989  672.038623\n",
       "1696     Zimbabwe  1972   5861135.0    Africa   55.635  799.362176\n",
       "1703     Zimbabwe  2007  12311143.0    Africa   43.487  469.709298\n",
       "\n",
       "[1704 rows x 6 columns]"
      ]
     },
     "execution_count": 59,
     "metadata": {},
     "output_type": "execute_result"
    }
   ],
   "source": [
    "df.sort_values(by=['country'])"
   ]
  },
  {
   "cell_type": "code",
   "execution_count": 60,
   "metadata": {},
   "outputs": [
    {
     "data": {
      "text/plain": [
       "array(['Asia', 'Europe', 'Africa', 'Americas', 'Oceania'], dtype=object)"
      ]
     },
     "execution_count": 60,
     "metadata": {},
     "output_type": "execute_result"
    }
   ],
   "source": [
    "df['continent'].unique()"
   ]
  },
  {
   "cell_type": "code",
   "execution_count": 61,
   "metadata": {},
   "outputs": [
    {
     "data": {
      "text/plain": [
       "Index(['country', 'year', 'pop', 'continent', 'lifeExp', 'gdpPercap'], dtype='object')"
      ]
     },
     "execution_count": 61,
     "metadata": {},
     "output_type": "execute_result"
    }
   ],
   "source": [
    "df.columns"
   ]
  },
  {
   "cell_type": "code",
   "execution_count": 62,
   "metadata": {},
   "outputs": [
    {
     "data": {
      "text/html": [
       "<div>\n",
       "<style scoped>\n",
       "    .dataframe tbody tr th:only-of-type {\n",
       "        vertical-align: middle;\n",
       "    }\n",
       "\n",
       "    .dataframe tbody tr th {\n",
       "        vertical-align: top;\n",
       "    }\n",
       "\n",
       "    .dataframe thead th {\n",
       "        text-align: right;\n",
       "    }\n",
       "</style>\n",
       "<table border=\"1\" class=\"dataframe\">\n",
       "  <thead>\n",
       "    <tr style=\"text-align: right;\">\n",
       "      <th></th>\n",
       "      <th>continent</th>\n",
       "      <th>country</th>\n",
       "      <th>year</th>\n",
       "      <th>pop</th>\n",
       "      <th>lifeExp</th>\n",
       "      <th>gdpPercap</th>\n",
       "    </tr>\n",
       "  </thead>\n",
       "  <tbody>\n",
       "    <tr>\n",
       "      <th>0</th>\n",
       "      <td>Asia</td>\n",
       "      <td>Afghanistan</td>\n",
       "      <td>1997</td>\n",
       "      <td>22227415.0</td>\n",
       "      <td>41.763</td>\n",
       "      <td>635.341351</td>\n",
       "    </tr>\n",
       "    <tr>\n",
       "      <th>1</th>\n",
       "      <td>Asia</td>\n",
       "      <td>Afghanistan</td>\n",
       "      <td>2002</td>\n",
       "      <td>25268405.0</td>\n",
       "      <td>42.129</td>\n",
       "      <td>726.734055</td>\n",
       "    </tr>\n",
       "    <tr>\n",
       "      <th>2</th>\n",
       "      <td>Asia</td>\n",
       "      <td>Afghanistan</td>\n",
       "      <td>2007</td>\n",
       "      <td>31889923.0</td>\n",
       "      <td>43.828</td>\n",
       "      <td>974.580338</td>\n",
       "    </tr>\n",
       "    <tr>\n",
       "      <th>3</th>\n",
       "      <td>Asia</td>\n",
       "      <td>Afghanistan</td>\n",
       "      <td>1952</td>\n",
       "      <td>8425333.0</td>\n",
       "      <td>28.801</td>\n",
       "      <td>779.445314</td>\n",
       "    </tr>\n",
       "    <tr>\n",
       "      <th>4</th>\n",
       "      <td>Asia</td>\n",
       "      <td>Afghanistan</td>\n",
       "      <td>1957</td>\n",
       "      <td>9240934.0</td>\n",
       "      <td>30.332</td>\n",
       "      <td>820.853030</td>\n",
       "    </tr>\n",
       "    <tr>\n",
       "      <th>...</th>\n",
       "      <td>...</td>\n",
       "      <td>...</td>\n",
       "      <td>...</td>\n",
       "      <td>...</td>\n",
       "      <td>...</td>\n",
       "      <td>...</td>\n",
       "    </tr>\n",
       "    <tr>\n",
       "      <th>1699</th>\n",
       "      <td>Africa</td>\n",
       "      <td>Zimbabwe</td>\n",
       "      <td>1987</td>\n",
       "      <td>9216418.0</td>\n",
       "      <td>62.351</td>\n",
       "      <td>706.157306</td>\n",
       "    </tr>\n",
       "    <tr>\n",
       "      <th>1700</th>\n",
       "      <td>Africa</td>\n",
       "      <td>Zimbabwe</td>\n",
       "      <td>1992</td>\n",
       "      <td>10704340.0</td>\n",
       "      <td>60.377</td>\n",
       "      <td>693.420786</td>\n",
       "    </tr>\n",
       "    <tr>\n",
       "      <th>1701</th>\n",
       "      <td>Africa</td>\n",
       "      <td>Zimbabwe</td>\n",
       "      <td>1997</td>\n",
       "      <td>11404948.0</td>\n",
       "      <td>46.809</td>\n",
       "      <td>792.449960</td>\n",
       "    </tr>\n",
       "    <tr>\n",
       "      <th>1702</th>\n",
       "      <td>Africa</td>\n",
       "      <td>Zimbabwe</td>\n",
       "      <td>2002</td>\n",
       "      <td>11926563.0</td>\n",
       "      <td>39.989</td>\n",
       "      <td>672.038623</td>\n",
       "    </tr>\n",
       "    <tr>\n",
       "      <th>1703</th>\n",
       "      <td>Africa</td>\n",
       "      <td>Zimbabwe</td>\n",
       "      <td>2007</td>\n",
       "      <td>12311143.0</td>\n",
       "      <td>43.487</td>\n",
       "      <td>469.709298</td>\n",
       "    </tr>\n",
       "  </tbody>\n",
       "</table>\n",
       "<p>1704 rows × 6 columns</p>\n",
       "</div>"
      ],
      "text/plain": [
       "     continent      country  year         pop  lifeExp   gdpPercap\n",
       "0         Asia  Afghanistan  1997  22227415.0   41.763  635.341351\n",
       "1         Asia  Afghanistan  2002  25268405.0   42.129  726.734055\n",
       "2         Asia  Afghanistan  2007  31889923.0   43.828  974.580338\n",
       "3         Asia  Afghanistan  1952   8425333.0   28.801  779.445314\n",
       "4         Asia  Afghanistan  1957   9240934.0   30.332  820.853030\n",
       "...        ...          ...   ...         ...      ...         ...\n",
       "1699    Africa     Zimbabwe  1987   9216418.0   62.351  706.157306\n",
       "1700    Africa     Zimbabwe  1992  10704340.0   60.377  693.420786\n",
       "1701    Africa     Zimbabwe  1997  11404948.0   46.809  792.449960\n",
       "1702    Africa     Zimbabwe  2002  11926563.0   39.989  672.038623\n",
       "1703    Africa     Zimbabwe  2007  12311143.0   43.487  469.709298\n",
       "\n",
       "[1704 rows x 6 columns]"
      ]
     },
     "execution_count": 62,
     "metadata": {},
     "output_type": "execute_result"
    }
   ],
   "source": [
    "df=df[['continent','country', 'year', 'pop', 'lifeExp', 'gdpPercap']]\n",
    "df"
   ]
  },
  {
   "cell_type": "markdown",
   "metadata": {},
   "source": [
    "Save a copy into our Python directory... so let's go back to where we were before this:"
   ]
  },
  {
   "cell_type": "code",
   "execution_count": 64,
   "metadata": {},
   "outputs": [],
   "source": [
    "df.to_csv('gapminder_final.csv',index=False)"
   ]
  },
  {
   "cell_type": "code",
   "execution_count": 65,
   "metadata": {
    "scrolled": true
   },
   "outputs": [
    {
     "name": "stdout",
     "output_type": "stream",
     "text": [
      "2-16-2020_UofA_Carpentry_Python.ipynb  \u001b[34mold_materials\u001b[m\u001b[m/\r\n",
      "gapminder_final.csv\r\n"
     ]
    }
   ],
   "source": [
    "ls"
   ]
  },
  {
   "cell_type": "markdown",
   "metadata": {},
   "source": [
    "# 2 - Obtain summary statistics"
   ]
  },
  {
   "cell_type": "code",
   "execution_count": 66,
   "metadata": {},
   "outputs": [
    {
     "data": {
      "text/html": [
       "<div>\n",
       "<style scoped>\n",
       "    .dataframe tbody tr th:only-of-type {\n",
       "        vertical-align: middle;\n",
       "    }\n",
       "\n",
       "    .dataframe tbody tr th {\n",
       "        vertical-align: top;\n",
       "    }\n",
       "\n",
       "    .dataframe thead th {\n",
       "        text-align: right;\n",
       "    }\n",
       "</style>\n",
       "<table border=\"1\" class=\"dataframe\">\n",
       "  <thead>\n",
       "    <tr style=\"text-align: right;\">\n",
       "      <th></th>\n",
       "      <th>year</th>\n",
       "      <th>pop</th>\n",
       "      <th>lifeExp</th>\n",
       "      <th>gdpPercap</th>\n",
       "    </tr>\n",
       "  </thead>\n",
       "  <tbody>\n",
       "    <tr>\n",
       "      <th>count</th>\n",
       "      <td>1704.00000</td>\n",
       "      <td>1.704000e+03</td>\n",
       "      <td>1704.000000</td>\n",
       "      <td>1704.000000</td>\n",
       "    </tr>\n",
       "    <tr>\n",
       "      <th>mean</th>\n",
       "      <td>1979.50000</td>\n",
       "      <td>2.960121e+07</td>\n",
       "      <td>59.474439</td>\n",
       "      <td>7215.327081</td>\n",
       "    </tr>\n",
       "    <tr>\n",
       "      <th>std</th>\n",
       "      <td>17.26533</td>\n",
       "      <td>1.061579e+08</td>\n",
       "      <td>12.917107</td>\n",
       "      <td>9857.454543</td>\n",
       "    </tr>\n",
       "    <tr>\n",
       "      <th>min</th>\n",
       "      <td>1952.00000</td>\n",
       "      <td>6.001100e+04</td>\n",
       "      <td>23.599000</td>\n",
       "      <td>241.165877</td>\n",
       "    </tr>\n",
       "    <tr>\n",
       "      <th>25%</th>\n",
       "      <td>1965.75000</td>\n",
       "      <td>2.793664e+06</td>\n",
       "      <td>48.198000</td>\n",
       "      <td>1202.060309</td>\n",
       "    </tr>\n",
       "    <tr>\n",
       "      <th>50%</th>\n",
       "      <td>1979.50000</td>\n",
       "      <td>7.023596e+06</td>\n",
       "      <td>60.712500</td>\n",
       "      <td>3531.846989</td>\n",
       "    </tr>\n",
       "    <tr>\n",
       "      <th>75%</th>\n",
       "      <td>1993.25000</td>\n",
       "      <td>1.958522e+07</td>\n",
       "      <td>70.845500</td>\n",
       "      <td>9325.462346</td>\n",
       "    </tr>\n",
       "    <tr>\n",
       "      <th>max</th>\n",
       "      <td>2007.00000</td>\n",
       "      <td>1.318683e+09</td>\n",
       "      <td>82.603000</td>\n",
       "      <td>113523.132900</td>\n",
       "    </tr>\n",
       "  </tbody>\n",
       "</table>\n",
       "</div>"
      ],
      "text/plain": [
       "             year           pop      lifeExp      gdpPercap\n",
       "count  1704.00000  1.704000e+03  1704.000000    1704.000000\n",
       "mean   1979.50000  2.960121e+07    59.474439    7215.327081\n",
       "std      17.26533  1.061579e+08    12.917107    9857.454543\n",
       "min    1952.00000  6.001100e+04    23.599000     241.165877\n",
       "25%    1965.75000  2.793664e+06    48.198000    1202.060309\n",
       "50%    1979.50000  7.023596e+06    60.712500    3531.846989\n",
       "75%    1993.25000  1.958522e+07    70.845500    9325.462346\n",
       "max    2007.00000  1.318683e+09    82.603000  113523.132900"
      ]
     },
     "execution_count": 66,
     "metadata": {},
     "output_type": "execute_result"
    }
   ],
   "source": [
    "df.describe()"
   ]
  },
  {
   "cell_type": "markdown",
   "metadata": {},
   "source": [
    "# 3 - Save to file"
   ]
  },
  {
   "cell_type": "markdown",
   "metadata": {},
   "source": [
    "`to_csv`, create a NEW file name, otherwise will overwrite the files we downloaded!"
   ]
  },
  {
   "cell_type": "code",
   "execution_count": 67,
   "metadata": {},
   "outputs": [],
   "source": [
    "df.describe().to_csv('gapminder_summ_stats.csv')"
   ]
  },
  {
   "cell_type": "code",
   "execution_count": 68,
   "metadata": {
    "scrolled": true
   },
   "outputs": [
    {
     "name": "stdout",
     "output_type": "stream",
     "text": [
      "2-16-2020_UofA_Carpentry_Python.ipynb  gapminder_summ_stats.csv\r\n",
      "gapminder_final.csv                    \u001b[34mold_materials\u001b[m\u001b[m/\r\n"
     ]
    }
   ],
   "source": [
    "ls"
   ]
  },
  {
   "cell_type": "markdown",
   "metadata": {},
   "source": [
    "# 4 - Slicing and selecting values"
   ]
  },
  {
   "cell_type": "markdown",
   "metadata": {},
   "source": [
    "**Quick recap of list, index and slicing**"
   ]
  },
  {
   "cell_type": "markdown",
   "metadata": {},
   "source": [
    "<div class=\"alert alert-block alert-success\">\n",
    "<b>Pandas Dataframe:</b>   \n",
    "- 2-dimensional representation of a table  \n",
    "- Series is the data-structure Pandas use to represent a column.\n",
    "</div>\n",
    "\n",
    "\n",
    "Because it's a 2D, have to tell which rows and which columns want to select.  "
   ]
  },
  {
   "cell_type": "code",
   "execution_count": 69,
   "metadata": {
    "scrolled": true
   },
   "outputs": [
    {
     "data": {
      "text/html": [
       "<div>\n",
       "<style scoped>\n",
       "    .dataframe tbody tr th:only-of-type {\n",
       "        vertical-align: middle;\n",
       "    }\n",
       "\n",
       "    .dataframe tbody tr th {\n",
       "        vertical-align: top;\n",
       "    }\n",
       "\n",
       "    .dataframe thead th {\n",
       "        text-align: right;\n",
       "    }\n",
       "</style>\n",
       "<table border=\"1\" class=\"dataframe\">\n",
       "  <thead>\n",
       "    <tr style=\"text-align: right;\">\n",
       "      <th></th>\n",
       "      <th>continent</th>\n",
       "      <th>country</th>\n",
       "      <th>year</th>\n",
       "      <th>pop</th>\n",
       "      <th>lifeExp</th>\n",
       "      <th>gdpPercap</th>\n",
       "    </tr>\n",
       "  </thead>\n",
       "  <tbody>\n",
       "    <tr>\n",
       "      <th>0</th>\n",
       "      <td>Asia</td>\n",
       "      <td>Afghanistan</td>\n",
       "      <td>1997</td>\n",
       "      <td>22227415.0</td>\n",
       "      <td>41.763</td>\n",
       "      <td>635.341351</td>\n",
       "    </tr>\n",
       "    <tr>\n",
       "      <th>1</th>\n",
       "      <td>Asia</td>\n",
       "      <td>Afghanistan</td>\n",
       "      <td>2002</td>\n",
       "      <td>25268405.0</td>\n",
       "      <td>42.129</td>\n",
       "      <td>726.734055</td>\n",
       "    </tr>\n",
       "    <tr>\n",
       "      <th>2</th>\n",
       "      <td>Asia</td>\n",
       "      <td>Afghanistan</td>\n",
       "      <td>2007</td>\n",
       "      <td>31889923.0</td>\n",
       "      <td>43.828</td>\n",
       "      <td>974.580338</td>\n",
       "    </tr>\n",
       "    <tr>\n",
       "      <th>3</th>\n",
       "      <td>Asia</td>\n",
       "      <td>Afghanistan</td>\n",
       "      <td>1952</td>\n",
       "      <td>8425333.0</td>\n",
       "      <td>28.801</td>\n",
       "      <td>779.445314</td>\n",
       "    </tr>\n",
       "    <tr>\n",
       "      <th>4</th>\n",
       "      <td>Asia</td>\n",
       "      <td>Afghanistan</td>\n",
       "      <td>1957</td>\n",
       "      <td>9240934.0</td>\n",
       "      <td>30.332</td>\n",
       "      <td>820.853030</td>\n",
       "    </tr>\n",
       "  </tbody>\n",
       "</table>\n",
       "</div>"
      ],
      "text/plain": [
       "  continent      country  year         pop  lifeExp   gdpPercap\n",
       "0      Asia  Afghanistan  1997  22227415.0   41.763  635.341351\n",
       "1      Asia  Afghanistan  2002  25268405.0   42.129  726.734055\n",
       "2      Asia  Afghanistan  2007  31889923.0   43.828  974.580338\n",
       "3      Asia  Afghanistan  1952   8425333.0   28.801  779.445314\n",
       "4      Asia  Afghanistan  1957   9240934.0   30.332  820.853030"
      ]
     },
     "execution_count": 69,
     "metadata": {},
     "output_type": "execute_result"
    }
   ],
   "source": [
    "df.head()"
   ]
  },
  {
   "cell_type": "markdown",
   "metadata": {},
   "source": [
    "**`.loc[]` to select values by the name**\n",
    "\n",
    "\n",
    "**`.loc[a:b,i:j]`**, where  \n",
    "    a and b are the rows/countries   \n",
    "    i and j are the columns/years"
   ]
  },
  {
   "cell_type": "markdown",
   "metadata": {},
   "source": [
    "Need to set index first:"
   ]
  },
  {
   "cell_type": "code",
   "execution_count": 70,
   "metadata": {},
   "outputs": [
    {
     "data": {
      "text/html": [
       "<div>\n",
       "<style scoped>\n",
       "    .dataframe tbody tr th:only-of-type {\n",
       "        vertical-align: middle;\n",
       "    }\n",
       "\n",
       "    .dataframe tbody tr th {\n",
       "        vertical-align: top;\n",
       "    }\n",
       "\n",
       "    .dataframe thead th {\n",
       "        text-align: right;\n",
       "    }\n",
       "</style>\n",
       "<table border=\"1\" class=\"dataframe\">\n",
       "  <thead>\n",
       "    <tr style=\"text-align: right;\">\n",
       "      <th></th>\n",
       "      <th>continent</th>\n",
       "      <th>year</th>\n",
       "      <th>pop</th>\n",
       "      <th>lifeExp</th>\n",
       "      <th>gdpPercap</th>\n",
       "    </tr>\n",
       "    <tr>\n",
       "      <th>country</th>\n",
       "      <th></th>\n",
       "      <th></th>\n",
       "      <th></th>\n",
       "      <th></th>\n",
       "      <th></th>\n",
       "    </tr>\n",
       "  </thead>\n",
       "  <tbody>\n",
       "    <tr>\n",
       "      <th>Afghanistan</th>\n",
       "      <td>Asia</td>\n",
       "      <td>1997</td>\n",
       "      <td>22227415.0</td>\n",
       "      <td>41.763</td>\n",
       "      <td>635.341351</td>\n",
       "    </tr>\n",
       "    <tr>\n",
       "      <th>Afghanistan</th>\n",
       "      <td>Asia</td>\n",
       "      <td>2002</td>\n",
       "      <td>25268405.0</td>\n",
       "      <td>42.129</td>\n",
       "      <td>726.734055</td>\n",
       "    </tr>\n",
       "    <tr>\n",
       "      <th>Afghanistan</th>\n",
       "      <td>Asia</td>\n",
       "      <td>2007</td>\n",
       "      <td>31889923.0</td>\n",
       "      <td>43.828</td>\n",
       "      <td>974.580338</td>\n",
       "    </tr>\n",
       "    <tr>\n",
       "      <th>Afghanistan</th>\n",
       "      <td>Asia</td>\n",
       "      <td>1952</td>\n",
       "      <td>8425333.0</td>\n",
       "      <td>28.801</td>\n",
       "      <td>779.445314</td>\n",
       "    </tr>\n",
       "    <tr>\n",
       "      <th>Afghanistan</th>\n",
       "      <td>Asia</td>\n",
       "      <td>1957</td>\n",
       "      <td>9240934.0</td>\n",
       "      <td>30.332</td>\n",
       "      <td>820.853030</td>\n",
       "    </tr>\n",
       "    <tr>\n",
       "      <th>...</th>\n",
       "      <td>...</td>\n",
       "      <td>...</td>\n",
       "      <td>...</td>\n",
       "      <td>...</td>\n",
       "      <td>...</td>\n",
       "    </tr>\n",
       "    <tr>\n",
       "      <th>Zimbabwe</th>\n",
       "      <td>Africa</td>\n",
       "      <td>1987</td>\n",
       "      <td>9216418.0</td>\n",
       "      <td>62.351</td>\n",
       "      <td>706.157306</td>\n",
       "    </tr>\n",
       "    <tr>\n",
       "      <th>Zimbabwe</th>\n",
       "      <td>Africa</td>\n",
       "      <td>1992</td>\n",
       "      <td>10704340.0</td>\n",
       "      <td>60.377</td>\n",
       "      <td>693.420786</td>\n",
       "    </tr>\n",
       "    <tr>\n",
       "      <th>Zimbabwe</th>\n",
       "      <td>Africa</td>\n",
       "      <td>1997</td>\n",
       "      <td>11404948.0</td>\n",
       "      <td>46.809</td>\n",
       "      <td>792.449960</td>\n",
       "    </tr>\n",
       "    <tr>\n",
       "      <th>Zimbabwe</th>\n",
       "      <td>Africa</td>\n",
       "      <td>2002</td>\n",
       "      <td>11926563.0</td>\n",
       "      <td>39.989</td>\n",
       "      <td>672.038623</td>\n",
       "    </tr>\n",
       "    <tr>\n",
       "      <th>Zimbabwe</th>\n",
       "      <td>Africa</td>\n",
       "      <td>2007</td>\n",
       "      <td>12311143.0</td>\n",
       "      <td>43.487</td>\n",
       "      <td>469.709298</td>\n",
       "    </tr>\n",
       "  </tbody>\n",
       "</table>\n",
       "<p>1704 rows × 5 columns</p>\n",
       "</div>"
      ],
      "text/plain": [
       "            continent  year         pop  lifeExp   gdpPercap\n",
       "country                                                     \n",
       "Afghanistan      Asia  1997  22227415.0   41.763  635.341351\n",
       "Afghanistan      Asia  2002  25268405.0   42.129  726.734055\n",
       "Afghanistan      Asia  2007  31889923.0   43.828  974.580338\n",
       "Afghanistan      Asia  1952   8425333.0   28.801  779.445314\n",
       "Afghanistan      Asia  1957   9240934.0   30.332  820.853030\n",
       "...               ...   ...         ...      ...         ...\n",
       "Zimbabwe       Africa  1987   9216418.0   62.351  706.157306\n",
       "Zimbabwe       Africa  1992  10704340.0   60.377  693.420786\n",
       "Zimbabwe       Africa  1997  11404948.0   46.809  792.449960\n",
       "Zimbabwe       Africa  2002  11926563.0   39.989  672.038623\n",
       "Zimbabwe       Africa  2007  12311143.0   43.487  469.709298\n",
       "\n",
       "[1704 rows x 5 columns]"
      ]
     },
     "execution_count": 70,
     "metadata": {},
     "output_type": "execute_result"
    }
   ],
   "source": [
    "df=df.set_index('country')\n",
    "df"
   ]
  },
  {
   "cell_type": "code",
   "execution_count": 71,
   "metadata": {},
   "outputs": [
    {
     "data": {
      "text/html": [
       "<div>\n",
       "<style scoped>\n",
       "    .dataframe tbody tr th:only-of-type {\n",
       "        vertical-align: middle;\n",
       "    }\n",
       "\n",
       "    .dataframe tbody tr th {\n",
       "        vertical-align: top;\n",
       "    }\n",
       "\n",
       "    .dataframe thead th {\n",
       "        text-align: right;\n",
       "    }\n",
       "</style>\n",
       "<table border=\"1\" class=\"dataframe\">\n",
       "  <thead>\n",
       "    <tr style=\"text-align: right;\">\n",
       "      <th></th>\n",
       "      <th>continent</th>\n",
       "      <th>year</th>\n",
       "      <th>pop</th>\n",
       "      <th>lifeExp</th>\n",
       "      <th>gdpPercap</th>\n",
       "    </tr>\n",
       "    <tr>\n",
       "      <th>country</th>\n",
       "      <th></th>\n",
       "      <th></th>\n",
       "      <th></th>\n",
       "      <th></th>\n",
       "      <th></th>\n",
       "    </tr>\n",
       "  </thead>\n",
       "  <tbody>\n",
       "    <tr>\n",
       "      <th>Brazil</th>\n",
       "      <td>Americas</td>\n",
       "      <td>1952</td>\n",
       "      <td>56602560.0</td>\n",
       "      <td>50.917</td>\n",
       "      <td>2108.944355</td>\n",
       "    </tr>\n",
       "    <tr>\n",
       "      <th>Brazil</th>\n",
       "      <td>Americas</td>\n",
       "      <td>1957</td>\n",
       "      <td>65551171.0</td>\n",
       "      <td>53.285</td>\n",
       "      <td>2487.365989</td>\n",
       "    </tr>\n",
       "    <tr>\n",
       "      <th>Brazil</th>\n",
       "      <td>Americas</td>\n",
       "      <td>1962</td>\n",
       "      <td>76039390.0</td>\n",
       "      <td>55.665</td>\n",
       "      <td>3336.585802</td>\n",
       "    </tr>\n",
       "    <tr>\n",
       "      <th>Brazil</th>\n",
       "      <td>Americas</td>\n",
       "      <td>1967</td>\n",
       "      <td>88049823.0</td>\n",
       "      <td>57.632</td>\n",
       "      <td>3429.864357</td>\n",
       "    </tr>\n",
       "    <tr>\n",
       "      <th>Brazil</th>\n",
       "      <td>Americas</td>\n",
       "      <td>1972</td>\n",
       "      <td>100840058.0</td>\n",
       "      <td>59.504</td>\n",
       "      <td>4985.711467</td>\n",
       "    </tr>\n",
       "    <tr>\n",
       "      <th>Brazil</th>\n",
       "      <td>Americas</td>\n",
       "      <td>1977</td>\n",
       "      <td>114313951.0</td>\n",
       "      <td>61.489</td>\n",
       "      <td>6660.118654</td>\n",
       "    </tr>\n",
       "    <tr>\n",
       "      <th>Brazil</th>\n",
       "      <td>Americas</td>\n",
       "      <td>1982</td>\n",
       "      <td>128962939.0</td>\n",
       "      <td>63.336</td>\n",
       "      <td>7030.835878</td>\n",
       "    </tr>\n",
       "    <tr>\n",
       "      <th>Brazil</th>\n",
       "      <td>Americas</td>\n",
       "      <td>1987</td>\n",
       "      <td>142938076.0</td>\n",
       "      <td>65.205</td>\n",
       "      <td>7807.095818</td>\n",
       "    </tr>\n",
       "    <tr>\n",
       "      <th>Brazil</th>\n",
       "      <td>Americas</td>\n",
       "      <td>1992</td>\n",
       "      <td>155975974.0</td>\n",
       "      <td>67.057</td>\n",
       "      <td>6950.283021</td>\n",
       "    </tr>\n",
       "    <tr>\n",
       "      <th>Brazil</th>\n",
       "      <td>Americas</td>\n",
       "      <td>1997</td>\n",
       "      <td>168546719.0</td>\n",
       "      <td>69.388</td>\n",
       "      <td>7957.980824</td>\n",
       "    </tr>\n",
       "    <tr>\n",
       "      <th>Brazil</th>\n",
       "      <td>Americas</td>\n",
       "      <td>2002</td>\n",
       "      <td>179914212.0</td>\n",
       "      <td>71.006</td>\n",
       "      <td>8131.212843</td>\n",
       "    </tr>\n",
       "    <tr>\n",
       "      <th>Brazil</th>\n",
       "      <td>Americas</td>\n",
       "      <td>2007</td>\n",
       "      <td>190010647.0</td>\n",
       "      <td>72.390</td>\n",
       "      <td>9065.800825</td>\n",
       "    </tr>\n",
       "  </tbody>\n",
       "</table>\n",
       "</div>"
      ],
      "text/plain": [
       "        continent  year          pop  lifeExp    gdpPercap\n",
       "country                                                   \n",
       "Brazil   Americas  1952   56602560.0   50.917  2108.944355\n",
       "Brazil   Americas  1957   65551171.0   53.285  2487.365989\n",
       "Brazil   Americas  1962   76039390.0   55.665  3336.585802\n",
       "Brazil   Americas  1967   88049823.0   57.632  3429.864357\n",
       "Brazil   Americas  1972  100840058.0   59.504  4985.711467\n",
       "Brazil   Americas  1977  114313951.0   61.489  6660.118654\n",
       "Brazil   Americas  1982  128962939.0   63.336  7030.835878\n",
       "Brazil   Americas  1987  142938076.0   65.205  7807.095818\n",
       "Brazil   Americas  1992  155975974.0   67.057  6950.283021\n",
       "Brazil   Americas  1997  168546719.0   69.388  7957.980824\n",
       "Brazil   Americas  2002  179914212.0   71.006  8131.212843\n",
       "Brazil   Americas  2007  190010647.0   72.390  9065.800825"
      ]
     },
     "execution_count": 71,
     "metadata": {},
     "output_type": "execute_result"
    }
   ],
   "source": [
    "df.loc['Brazil']"
   ]
  },
  {
   "cell_type": "code",
   "execution_count": 72,
   "metadata": {
    "scrolled": true
   },
   "outputs": [
    {
     "data": {
      "text/html": [
       "<div>\n",
       "<style scoped>\n",
       "    .dataframe tbody tr th:only-of-type {\n",
       "        vertical-align: middle;\n",
       "    }\n",
       "\n",
       "    .dataframe tbody tr th {\n",
       "        vertical-align: top;\n",
       "    }\n",
       "\n",
       "    .dataframe thead th {\n",
       "        text-align: right;\n",
       "    }\n",
       "</style>\n",
       "<table border=\"1\" class=\"dataframe\">\n",
       "  <thead>\n",
       "    <tr style=\"text-align: right;\">\n",
       "      <th></th>\n",
       "      <th>continent</th>\n",
       "      <th>year</th>\n",
       "      <th>pop</th>\n",
       "      <th>lifeExp</th>\n",
       "      <th>gdpPercap</th>\n",
       "    </tr>\n",
       "    <tr>\n",
       "      <th>country</th>\n",
       "      <th></th>\n",
       "      <th></th>\n",
       "      <th></th>\n",
       "      <th></th>\n",
       "      <th></th>\n",
       "    </tr>\n",
       "  </thead>\n",
       "  <tbody>\n",
       "    <tr>\n",
       "      <th>Brazil</th>\n",
       "      <td>Americas</td>\n",
       "      <td>1952</td>\n",
       "      <td>56602560.0</td>\n",
       "      <td>50.917</td>\n",
       "      <td>2108.944355</td>\n",
       "    </tr>\n",
       "    <tr>\n",
       "      <th>Brazil</th>\n",
       "      <td>Americas</td>\n",
       "      <td>1957</td>\n",
       "      <td>65551171.0</td>\n",
       "      <td>53.285</td>\n",
       "      <td>2487.365989</td>\n",
       "    </tr>\n",
       "    <tr>\n",
       "      <th>Brazil</th>\n",
       "      <td>Americas</td>\n",
       "      <td>1962</td>\n",
       "      <td>76039390.0</td>\n",
       "      <td>55.665</td>\n",
       "      <td>3336.585802</td>\n",
       "    </tr>\n",
       "    <tr>\n",
       "      <th>Brazil</th>\n",
       "      <td>Americas</td>\n",
       "      <td>1967</td>\n",
       "      <td>88049823.0</td>\n",
       "      <td>57.632</td>\n",
       "      <td>3429.864357</td>\n",
       "    </tr>\n",
       "    <tr>\n",
       "      <th>Brazil</th>\n",
       "      <td>Americas</td>\n",
       "      <td>1972</td>\n",
       "      <td>100840058.0</td>\n",
       "      <td>59.504</td>\n",
       "      <td>4985.711467</td>\n",
       "    </tr>\n",
       "    <tr>\n",
       "      <th>...</th>\n",
       "      <td>...</td>\n",
       "      <td>...</td>\n",
       "      <td>...</td>\n",
       "      <td>...</td>\n",
       "      <td>...</td>\n",
       "    </tr>\n",
       "    <tr>\n",
       "      <th>Ecuador</th>\n",
       "      <td>Americas</td>\n",
       "      <td>1987</td>\n",
       "      <td>9545158.0</td>\n",
       "      <td>67.231</td>\n",
       "      <td>6481.776993</td>\n",
       "    </tr>\n",
       "    <tr>\n",
       "      <th>Ecuador</th>\n",
       "      <td>Americas</td>\n",
       "      <td>1992</td>\n",
       "      <td>10748394.0</td>\n",
       "      <td>69.613</td>\n",
       "      <td>7103.702595</td>\n",
       "    </tr>\n",
       "    <tr>\n",
       "      <th>Ecuador</th>\n",
       "      <td>Americas</td>\n",
       "      <td>1997</td>\n",
       "      <td>11911819.0</td>\n",
       "      <td>72.312</td>\n",
       "      <td>7429.455877</td>\n",
       "    </tr>\n",
       "    <tr>\n",
       "      <th>Ecuador</th>\n",
       "      <td>Americas</td>\n",
       "      <td>2002</td>\n",
       "      <td>12921234.0</td>\n",
       "      <td>74.173</td>\n",
       "      <td>5773.044512</td>\n",
       "    </tr>\n",
       "    <tr>\n",
       "      <th>Ecuador</th>\n",
       "      <td>Americas</td>\n",
       "      <td>2007</td>\n",
       "      <td>13755680.0</td>\n",
       "      <td>74.994</td>\n",
       "      <td>6873.262326</td>\n",
       "    </tr>\n",
       "  </tbody>\n",
       "</table>\n",
       "<p>288 rows × 5 columns</p>\n",
       "</div>"
      ],
      "text/plain": [
       "        continent  year          pop  lifeExp    gdpPercap\n",
       "country                                                   \n",
       "Brazil   Americas  1952   56602560.0   50.917  2108.944355\n",
       "Brazil   Americas  1957   65551171.0   53.285  2487.365989\n",
       "Brazil   Americas  1962   76039390.0   55.665  3336.585802\n",
       "Brazil   Americas  1967   88049823.0   57.632  3429.864357\n",
       "Brazil   Americas  1972  100840058.0   59.504  4985.711467\n",
       "...           ...   ...          ...      ...          ...\n",
       "Ecuador  Americas  1987    9545158.0   67.231  6481.776993\n",
       "Ecuador  Americas  1992   10748394.0   69.613  7103.702595\n",
       "Ecuador  Americas  1997   11911819.0   72.312  7429.455877\n",
       "Ecuador  Americas  2002   12921234.0   74.173  5773.044512\n",
       "Ecuador  Americas  2007   13755680.0   74.994  6873.262326\n",
       "\n",
       "[288 rows x 5 columns]"
      ]
     },
     "execution_count": 72,
     "metadata": {},
     "output_type": "execute_result"
    }
   ],
   "source": [
    "df.loc['Brazil':'Ecuador']"
   ]
  },
  {
   "cell_type": "code",
   "execution_count": 73,
   "metadata": {
    "scrolled": true
   },
   "outputs": [
    {
     "data": {
      "text/html": [
       "<div>\n",
       "<style scoped>\n",
       "    .dataframe tbody tr th:only-of-type {\n",
       "        vertical-align: middle;\n",
       "    }\n",
       "\n",
       "    .dataframe tbody tr th {\n",
       "        vertical-align: top;\n",
       "    }\n",
       "\n",
       "    .dataframe thead th {\n",
       "        text-align: right;\n",
       "    }\n",
       "</style>\n",
       "<table border=\"1\" class=\"dataframe\">\n",
       "  <thead>\n",
       "    <tr style=\"text-align: right;\">\n",
       "      <th></th>\n",
       "      <th>year</th>\n",
       "      <th>pop</th>\n",
       "      <th>lifeExp</th>\n",
       "    </tr>\n",
       "    <tr>\n",
       "      <th>country</th>\n",
       "      <th></th>\n",
       "      <th></th>\n",
       "      <th></th>\n",
       "    </tr>\n",
       "  </thead>\n",
       "  <tbody>\n",
       "    <tr>\n",
       "      <th>Brazil</th>\n",
       "      <td>1952</td>\n",
       "      <td>56602560.0</td>\n",
       "      <td>50.917</td>\n",
       "    </tr>\n",
       "    <tr>\n",
       "      <th>Brazil</th>\n",
       "      <td>1957</td>\n",
       "      <td>65551171.0</td>\n",
       "      <td>53.285</td>\n",
       "    </tr>\n",
       "    <tr>\n",
       "      <th>Brazil</th>\n",
       "      <td>1962</td>\n",
       "      <td>76039390.0</td>\n",
       "      <td>55.665</td>\n",
       "    </tr>\n",
       "    <tr>\n",
       "      <th>Brazil</th>\n",
       "      <td>1967</td>\n",
       "      <td>88049823.0</td>\n",
       "      <td>57.632</td>\n",
       "    </tr>\n",
       "    <tr>\n",
       "      <th>Brazil</th>\n",
       "      <td>1972</td>\n",
       "      <td>100840058.0</td>\n",
       "      <td>59.504</td>\n",
       "    </tr>\n",
       "    <tr>\n",
       "      <th>...</th>\n",
       "      <td>...</td>\n",
       "      <td>...</td>\n",
       "      <td>...</td>\n",
       "    </tr>\n",
       "    <tr>\n",
       "      <th>Ecuador</th>\n",
       "      <td>1987</td>\n",
       "      <td>9545158.0</td>\n",
       "      <td>67.231</td>\n",
       "    </tr>\n",
       "    <tr>\n",
       "      <th>Ecuador</th>\n",
       "      <td>1992</td>\n",
       "      <td>10748394.0</td>\n",
       "      <td>69.613</td>\n",
       "    </tr>\n",
       "    <tr>\n",
       "      <th>Ecuador</th>\n",
       "      <td>1997</td>\n",
       "      <td>11911819.0</td>\n",
       "      <td>72.312</td>\n",
       "    </tr>\n",
       "    <tr>\n",
       "      <th>Ecuador</th>\n",
       "      <td>2002</td>\n",
       "      <td>12921234.0</td>\n",
       "      <td>74.173</td>\n",
       "    </tr>\n",
       "    <tr>\n",
       "      <th>Ecuador</th>\n",
       "      <td>2007</td>\n",
       "      <td>13755680.0</td>\n",
       "      <td>74.994</td>\n",
       "    </tr>\n",
       "  </tbody>\n",
       "</table>\n",
       "<p>288 rows × 3 columns</p>\n",
       "</div>"
      ],
      "text/plain": [
       "         year          pop  lifeExp\n",
       "country                            \n",
       "Brazil   1952   56602560.0   50.917\n",
       "Brazil   1957   65551171.0   53.285\n",
       "Brazil   1962   76039390.0   55.665\n",
       "Brazil   1967   88049823.0   57.632\n",
       "Brazil   1972  100840058.0   59.504\n",
       "...       ...          ...      ...\n",
       "Ecuador  1987    9545158.0   67.231\n",
       "Ecuador  1992   10748394.0   69.613\n",
       "Ecuador  1997   11911819.0   72.312\n",
       "Ecuador  2002   12921234.0   74.173\n",
       "Ecuador  2007   13755680.0   74.994\n",
       "\n",
       "[288 rows x 3 columns]"
      ]
     },
     "execution_count": 73,
     "metadata": {},
     "output_type": "execute_result"
    }
   ],
   "source": [
    "df.loc['Brazil':'Ecuador','year':'lifeExp']"
   ]
  },
  {
   "cell_type": "code",
   "execution_count": 74,
   "metadata": {
    "scrolled": true
   },
   "outputs": [
    {
     "data": {
      "text/html": [
       "<div>\n",
       "<style scoped>\n",
       "    .dataframe tbody tr th:only-of-type {\n",
       "        vertical-align: middle;\n",
       "    }\n",
       "\n",
       "    .dataframe tbody tr th {\n",
       "        vertical-align: top;\n",
       "    }\n",
       "\n",
       "    .dataframe thead th {\n",
       "        text-align: right;\n",
       "    }\n",
       "</style>\n",
       "<table border=\"1\" class=\"dataframe\">\n",
       "  <thead>\n",
       "    <tr style=\"text-align: right;\">\n",
       "      <th></th>\n",
       "      <th>year</th>\n",
       "      <th>pop</th>\n",
       "      <th>lifeExp</th>\n",
       "    </tr>\n",
       "    <tr>\n",
       "      <th>country</th>\n",
       "      <th></th>\n",
       "      <th></th>\n",
       "      <th></th>\n",
       "    </tr>\n",
       "  </thead>\n",
       "  <tbody>\n",
       "    <tr>\n",
       "      <th>Brazil</th>\n",
       "      <td>1952</td>\n",
       "      <td>56602560.0</td>\n",
       "      <td>50.917</td>\n",
       "    </tr>\n",
       "    <tr>\n",
       "      <th>Brazil</th>\n",
       "      <td>1957</td>\n",
       "      <td>65551171.0</td>\n",
       "      <td>53.285</td>\n",
       "    </tr>\n",
       "    <tr>\n",
       "      <th>Brazil</th>\n",
       "      <td>1962</td>\n",
       "      <td>76039390.0</td>\n",
       "      <td>55.665</td>\n",
       "    </tr>\n",
       "    <tr>\n",
       "      <th>Brazil</th>\n",
       "      <td>1967</td>\n",
       "      <td>88049823.0</td>\n",
       "      <td>57.632</td>\n",
       "    </tr>\n",
       "    <tr>\n",
       "      <th>Brazil</th>\n",
       "      <td>1972</td>\n",
       "      <td>100840058.0</td>\n",
       "      <td>59.504</td>\n",
       "    </tr>\n",
       "    <tr>\n",
       "      <th>Brazil</th>\n",
       "      <td>1977</td>\n",
       "      <td>114313951.0</td>\n",
       "      <td>61.489</td>\n",
       "    </tr>\n",
       "    <tr>\n",
       "      <th>Brazil</th>\n",
       "      <td>1982</td>\n",
       "      <td>128962939.0</td>\n",
       "      <td>63.336</td>\n",
       "    </tr>\n",
       "    <tr>\n",
       "      <th>Brazil</th>\n",
       "      <td>1987</td>\n",
       "      <td>142938076.0</td>\n",
       "      <td>65.205</td>\n",
       "    </tr>\n",
       "    <tr>\n",
       "      <th>Brazil</th>\n",
       "      <td>1992</td>\n",
       "      <td>155975974.0</td>\n",
       "      <td>67.057</td>\n",
       "    </tr>\n",
       "    <tr>\n",
       "      <th>Brazil</th>\n",
       "      <td>1997</td>\n",
       "      <td>168546719.0</td>\n",
       "      <td>69.388</td>\n",
       "    </tr>\n",
       "    <tr>\n",
       "      <th>Brazil</th>\n",
       "      <td>2002</td>\n",
       "      <td>179914212.0</td>\n",
       "      <td>71.006</td>\n",
       "    </tr>\n",
       "    <tr>\n",
       "      <th>Brazil</th>\n",
       "      <td>2007</td>\n",
       "      <td>190010647.0</td>\n",
       "      <td>72.390</td>\n",
       "    </tr>\n",
       "    <tr>\n",
       "      <th>Ecuador</th>\n",
       "      <td>1952</td>\n",
       "      <td>3548753.0</td>\n",
       "      <td>48.357</td>\n",
       "    </tr>\n",
       "    <tr>\n",
       "      <th>Ecuador</th>\n",
       "      <td>1957</td>\n",
       "      <td>4058385.0</td>\n",
       "      <td>51.356</td>\n",
       "    </tr>\n",
       "    <tr>\n",
       "      <th>Ecuador</th>\n",
       "      <td>1962</td>\n",
       "      <td>4681707.0</td>\n",
       "      <td>54.640</td>\n",
       "    </tr>\n",
       "    <tr>\n",
       "      <th>Ecuador</th>\n",
       "      <td>1967</td>\n",
       "      <td>5432424.0</td>\n",
       "      <td>56.678</td>\n",
       "    </tr>\n",
       "    <tr>\n",
       "      <th>Ecuador</th>\n",
       "      <td>1972</td>\n",
       "      <td>6298651.0</td>\n",
       "      <td>58.796</td>\n",
       "    </tr>\n",
       "    <tr>\n",
       "      <th>Ecuador</th>\n",
       "      <td>1977</td>\n",
       "      <td>7278866.0</td>\n",
       "      <td>61.310</td>\n",
       "    </tr>\n",
       "    <tr>\n",
       "      <th>Ecuador</th>\n",
       "      <td>1982</td>\n",
       "      <td>8365850.0</td>\n",
       "      <td>64.342</td>\n",
       "    </tr>\n",
       "    <tr>\n",
       "      <th>Ecuador</th>\n",
       "      <td>1987</td>\n",
       "      <td>9545158.0</td>\n",
       "      <td>67.231</td>\n",
       "    </tr>\n",
       "    <tr>\n",
       "      <th>Ecuador</th>\n",
       "      <td>1992</td>\n",
       "      <td>10748394.0</td>\n",
       "      <td>69.613</td>\n",
       "    </tr>\n",
       "    <tr>\n",
       "      <th>Ecuador</th>\n",
       "      <td>1997</td>\n",
       "      <td>11911819.0</td>\n",
       "      <td>72.312</td>\n",
       "    </tr>\n",
       "    <tr>\n",
       "      <th>Ecuador</th>\n",
       "      <td>2002</td>\n",
       "      <td>12921234.0</td>\n",
       "      <td>74.173</td>\n",
       "    </tr>\n",
       "    <tr>\n",
       "      <th>Ecuador</th>\n",
       "      <td>2007</td>\n",
       "      <td>13755680.0</td>\n",
       "      <td>74.994</td>\n",
       "    </tr>\n",
       "  </tbody>\n",
       "</table>\n",
       "</div>"
      ],
      "text/plain": [
       "         year          pop  lifeExp\n",
       "country                            \n",
       "Brazil   1952   56602560.0   50.917\n",
       "Brazil   1957   65551171.0   53.285\n",
       "Brazil   1962   76039390.0   55.665\n",
       "Brazil   1967   88049823.0   57.632\n",
       "Brazil   1972  100840058.0   59.504\n",
       "Brazil   1977  114313951.0   61.489\n",
       "Brazil   1982  128962939.0   63.336\n",
       "Brazil   1987  142938076.0   65.205\n",
       "Brazil   1992  155975974.0   67.057\n",
       "Brazil   1997  168546719.0   69.388\n",
       "Brazil   2002  179914212.0   71.006\n",
       "Brazil   2007  190010647.0   72.390\n",
       "Ecuador  1952    3548753.0   48.357\n",
       "Ecuador  1957    4058385.0   51.356\n",
       "Ecuador  1962    4681707.0   54.640\n",
       "Ecuador  1967    5432424.0   56.678\n",
       "Ecuador  1972    6298651.0   58.796\n",
       "Ecuador  1977    7278866.0   61.310\n",
       "Ecuador  1982    8365850.0   64.342\n",
       "Ecuador  1987    9545158.0   67.231\n",
       "Ecuador  1992   10748394.0   69.613\n",
       "Ecuador  1997   11911819.0   72.312\n",
       "Ecuador  2002   12921234.0   74.173\n",
       "Ecuador  2007   13755680.0   74.994"
      ]
     },
     "execution_count": 74,
     "metadata": {},
     "output_type": "execute_result"
    }
   ],
   "source": [
    "df.loc[['Brazil','Ecuador'],'year':'lifeExp']"
   ]
  },
  {
   "cell_type": "markdown",
   "metadata": {},
   "source": [
    "**`.iloc[]` to select values by the index**\n",
    "\n",
    "\n",
    "**`.iloc[a:b,i:j]`**, where  \n",
    "    a and b are the indexes of rows    \n",
    "    i and j are the indexes of columns"
   ]
  },
  {
   "cell_type": "code",
   "execution_count": 75,
   "metadata": {},
   "outputs": [
    {
     "data": {
      "text/html": [
       "<div>\n",
       "<style scoped>\n",
       "    .dataframe tbody tr th:only-of-type {\n",
       "        vertical-align: middle;\n",
       "    }\n",
       "\n",
       "    .dataframe tbody tr th {\n",
       "        vertical-align: top;\n",
       "    }\n",
       "\n",
       "    .dataframe thead th {\n",
       "        text-align: right;\n",
       "    }\n",
       "</style>\n",
       "<table border=\"1\" class=\"dataframe\">\n",
       "  <thead>\n",
       "    <tr style=\"text-align: right;\">\n",
       "      <th></th>\n",
       "      <th>continent</th>\n",
       "      <th>year</th>\n",
       "      <th>pop</th>\n",
       "      <th>lifeExp</th>\n",
       "    </tr>\n",
       "    <tr>\n",
       "      <th>country</th>\n",
       "      <th></th>\n",
       "      <th></th>\n",
       "      <th></th>\n",
       "      <th></th>\n",
       "    </tr>\n",
       "  </thead>\n",
       "  <tbody>\n",
       "    <tr>\n",
       "      <th>Afghanistan</th>\n",
       "      <td>Asia</td>\n",
       "      <td>1982</td>\n",
       "      <td>12881816.0</td>\n",
       "      <td>39.854</td>\n",
       "    </tr>\n",
       "    <tr>\n",
       "      <th>Afghanistan</th>\n",
       "      <td>Asia</td>\n",
       "      <td>1987</td>\n",
       "      <td>13867957.0</td>\n",
       "      <td>40.822</td>\n",
       "    </tr>\n",
       "    <tr>\n",
       "      <th>Afghanistan</th>\n",
       "      <td>Asia</td>\n",
       "      <td>1992</td>\n",
       "      <td>16317921.0</td>\n",
       "      <td>41.674</td>\n",
       "    </tr>\n",
       "    <tr>\n",
       "      <th>Albania</th>\n",
       "      <td>Europe</td>\n",
       "      <td>1952</td>\n",
       "      <td>1282697.0</td>\n",
       "      <td>55.230</td>\n",
       "    </tr>\n",
       "    <tr>\n",
       "      <th>Albania</th>\n",
       "      <td>Europe</td>\n",
       "      <td>1957</td>\n",
       "      <td>1476505.0</td>\n",
       "      <td>59.280</td>\n",
       "    </tr>\n",
       "    <tr>\n",
       "      <th>Albania</th>\n",
       "      <td>Europe</td>\n",
       "      <td>1962</td>\n",
       "      <td>1728137.0</td>\n",
       "      <td>64.820</td>\n",
       "    </tr>\n",
       "    <tr>\n",
       "      <th>Albania</th>\n",
       "      <td>Europe</td>\n",
       "      <td>1967</td>\n",
       "      <td>1984060.0</td>\n",
       "      <td>66.220</td>\n",
       "    </tr>\n",
       "  </tbody>\n",
       "</table>\n",
       "</div>"
      ],
      "text/plain": [
       "            continent  year         pop  lifeExp\n",
       "country                                         \n",
       "Afghanistan      Asia  1982  12881816.0   39.854\n",
       "Afghanistan      Asia  1987  13867957.0   40.822\n",
       "Afghanistan      Asia  1992  16317921.0   41.674\n",
       "Albania        Europe  1952   1282697.0   55.230\n",
       "Albania        Europe  1957   1476505.0   59.280\n",
       "Albania        Europe  1962   1728137.0   64.820\n",
       "Albania        Europe  1967   1984060.0   66.220"
      ]
     },
     "execution_count": 75,
     "metadata": {},
     "output_type": "execute_result"
    }
   ],
   "source": [
    "df.iloc[9:16,:-1]"
   ]
  },
  {
   "cell_type": "markdown",
   "metadata": {},
   "source": [
    "**Observation:**   \n",
    "```\n",
    "    -3:-1, omits the final index (column gdpPercap) in the range provided, while a named slice includes the final element.\n",
    "    ```"
   ]
  },
  {
   "cell_type": "code",
   "execution_count": 76,
   "metadata": {},
   "outputs": [
    {
     "data": {
      "text/html": [
       "<div>\n",
       "<style scoped>\n",
       "    .dataframe tbody tr th:only-of-type {\n",
       "        vertical-align: middle;\n",
       "    }\n",
       "\n",
       "    .dataframe tbody tr th {\n",
       "        vertical-align: top;\n",
       "    }\n",
       "\n",
       "    .dataframe thead th {\n",
       "        text-align: right;\n",
       "    }\n",
       "</style>\n",
       "<table border=\"1\" class=\"dataframe\">\n",
       "  <thead>\n",
       "    <tr style=\"text-align: right;\">\n",
       "      <th></th>\n",
       "      <th>pop</th>\n",
       "      <th>lifeExp</th>\n",
       "    </tr>\n",
       "    <tr>\n",
       "      <th>country</th>\n",
       "      <th></th>\n",
       "      <th></th>\n",
       "    </tr>\n",
       "  </thead>\n",
       "  <tbody>\n",
       "    <tr>\n",
       "      <th>Afghanistan</th>\n",
       "      <td>12881816.0</td>\n",
       "      <td>39.854</td>\n",
       "    </tr>\n",
       "    <tr>\n",
       "      <th>Albania</th>\n",
       "      <td>2263554.0</td>\n",
       "      <td>67.690</td>\n",
       "    </tr>\n",
       "  </tbody>\n",
       "</table>\n",
       "</div>"
      ],
      "text/plain": [
       "                    pop  lifeExp\n",
       "country                         \n",
       "Afghanistan  12881816.0   39.854\n",
       "Albania       2263554.0   67.690"
      ]
     },
     "execution_count": 76,
     "metadata": {},
     "output_type": "execute_result"
    }
   ],
   "source": [
    "df.iloc[[9,16],-3:-1]"
   ]
  },
  {
   "cell_type": "markdown",
   "metadata": {},
   "source": [
    "# CHEEKY EXERCISE!\n",
    "\n",
    "# Select two countries of your interest. Slice the `df` to select only these countries. Then, obtain summary statistics by country, and save to a file."
   ]
  },
  {
   "cell_type": "code",
   "execution_count": 77,
   "metadata": {},
   "outputs": [],
   "source": [
    "subset=df.loc[['Paraguay','Uruguay'],'pop':]\n",
    "subset.describe().to_csv('two_countries_summ_stats.csv')"
   ]
  },
  {
   "cell_type": "markdown",
   "metadata": {},
   "source": [
    "# 5 - Plots"
   ]
  },
  {
   "cell_type": "code",
   "execution_count": 78,
   "metadata": {},
   "outputs": [],
   "source": [
    "%matplotlib inline\n",
    "import matplotlib.pyplot as plt"
   ]
  },
  {
   "cell_type": "code",
   "execution_count": 79,
   "metadata": {
    "scrolled": false
   },
   "outputs": [
    {
     "data": {
      "text/plain": [
       "Text(0, 0.5, 'Position km')"
      ]
     },
     "execution_count": 79,
     "metadata": {},
     "output_type": "execute_result"
    },
    {
     "data": {
      "image/png": "[encoded data removed]",
      "text/plain": [
       "<Figure size 432x288 with 1 Axes>"
      ]
     },
     "metadata": {
      "needs_background": "light"
     },
     "output_type": "display_data"
    }
   ],
   "source": [
    "# This is just to make sure we all see a plot \n",
    "time=[0,1,2,3,4]\n",
    "position=[0,100,200,300,400]\n",
    "plt.plot(time,position)\n",
    "plt.xlabel('Time h')\n",
    "plt.ylabel('Position km')"
   ]
  },
  {
   "cell_type": "markdown",
   "metadata": {},
   "source": [
    "# LUNCH"
   ]
  },
  {
   "cell_type": "markdown",
   "metadata": {},
   "source": [
    "Let's plot two countries: Australia and New Zealand."
   ]
  },
  {
   "cell_type": "code",
   "execution_count": 80,
   "metadata": {
    "scrolled": true
   },
   "outputs": [
    {
     "data": {
      "text/html": [
       "<div>\n",
       "<style scoped>\n",
       "    .dataframe tbody tr th:only-of-type {\n",
       "        vertical-align: middle;\n",
       "    }\n",
       "\n",
       "    .dataframe tbody tr th {\n",
       "        vertical-align: top;\n",
       "    }\n",
       "\n",
       "    .dataframe thead th {\n",
       "        text-align: right;\n",
       "    }\n",
       "</style>\n",
       "<table border=\"1\" class=\"dataframe\">\n",
       "  <thead>\n",
       "    <tr style=\"text-align: right;\">\n",
       "      <th></th>\n",
       "      <th>year</th>\n",
       "      <th>gdpPercap</th>\n",
       "    </tr>\n",
       "    <tr>\n",
       "      <th>country</th>\n",
       "      <th></th>\n",
       "      <th></th>\n",
       "    </tr>\n",
       "  </thead>\n",
       "  <tbody>\n",
       "    <tr>\n",
       "      <th>Australia</th>\n",
       "      <td>1952</td>\n",
       "      <td>10039.59564</td>\n",
       "    </tr>\n",
       "    <tr>\n",
       "      <th>Australia</th>\n",
       "      <td>1957</td>\n",
       "      <td>10949.64959</td>\n",
       "    </tr>\n",
       "    <tr>\n",
       "      <th>Australia</th>\n",
       "      <td>1962</td>\n",
       "      <td>12217.22686</td>\n",
       "    </tr>\n",
       "    <tr>\n",
       "      <th>Australia</th>\n",
       "      <td>1967</td>\n",
       "      <td>14526.12465</td>\n",
       "    </tr>\n",
       "    <tr>\n",
       "      <th>Australia</th>\n",
       "      <td>1972</td>\n",
       "      <td>16788.62948</td>\n",
       "    </tr>\n",
       "    <tr>\n",
       "      <th>Australia</th>\n",
       "      <td>1977</td>\n",
       "      <td>18334.19751</td>\n",
       "    </tr>\n",
       "    <tr>\n",
       "      <th>Australia</th>\n",
       "      <td>1982</td>\n",
       "      <td>19477.00928</td>\n",
       "    </tr>\n",
       "    <tr>\n",
       "      <th>Australia</th>\n",
       "      <td>1987</td>\n",
       "      <td>21888.88903</td>\n",
       "    </tr>\n",
       "    <tr>\n",
       "      <th>Australia</th>\n",
       "      <td>1992</td>\n",
       "      <td>23424.76683</td>\n",
       "    </tr>\n",
       "    <tr>\n",
       "      <th>Australia</th>\n",
       "      <td>1997</td>\n",
       "      <td>26997.93657</td>\n",
       "    </tr>\n",
       "    <tr>\n",
       "      <th>Australia</th>\n",
       "      <td>2002</td>\n",
       "      <td>30687.75473</td>\n",
       "    </tr>\n",
       "    <tr>\n",
       "      <th>Australia</th>\n",
       "      <td>2007</td>\n",
       "      <td>34435.36744</td>\n",
       "    </tr>\n",
       "    <tr>\n",
       "      <th>New Zealand</th>\n",
       "      <td>1952</td>\n",
       "      <td>10556.57566</td>\n",
       "    </tr>\n",
       "    <tr>\n",
       "      <th>New Zealand</th>\n",
       "      <td>1957</td>\n",
       "      <td>12247.39532</td>\n",
       "    </tr>\n",
       "    <tr>\n",
       "      <th>New Zealand</th>\n",
       "      <td>1962</td>\n",
       "      <td>13175.67800</td>\n",
       "    </tr>\n",
       "    <tr>\n",
       "      <th>New Zealand</th>\n",
       "      <td>1967</td>\n",
       "      <td>14463.91893</td>\n",
       "    </tr>\n",
       "    <tr>\n",
       "      <th>New Zealand</th>\n",
       "      <td>1972</td>\n",
       "      <td>16046.03728</td>\n",
       "    </tr>\n",
       "    <tr>\n",
       "      <th>New Zealand</th>\n",
       "      <td>1977</td>\n",
       "      <td>16233.71770</td>\n",
       "    </tr>\n",
       "    <tr>\n",
       "      <th>New Zealand</th>\n",
       "      <td>1982</td>\n",
       "      <td>17632.41040</td>\n",
       "    </tr>\n",
       "    <tr>\n",
       "      <th>New Zealand</th>\n",
       "      <td>1987</td>\n",
       "      <td>19007.19129</td>\n",
       "    </tr>\n",
       "    <tr>\n",
       "      <th>New Zealand</th>\n",
       "      <td>1992</td>\n",
       "      <td>18363.32494</td>\n",
       "    </tr>\n",
       "    <tr>\n",
       "      <th>New Zealand</th>\n",
       "      <td>1997</td>\n",
       "      <td>21050.41377</td>\n",
       "    </tr>\n",
       "    <tr>\n",
       "      <th>New Zealand</th>\n",
       "      <td>2002</td>\n",
       "      <td>23189.80135</td>\n",
       "    </tr>\n",
       "    <tr>\n",
       "      <th>New Zealand</th>\n",
       "      <td>2007</td>\n",
       "      <td>25185.00911</td>\n",
       "    </tr>\n",
       "  </tbody>\n",
       "</table>\n",
       "</div>"
      ],
      "text/plain": [
       "             year    gdpPercap\n",
       "country                       \n",
       "Australia    1952  10039.59564\n",
       "Australia    1957  10949.64959\n",
       "Australia    1962  12217.22686\n",
       "Australia    1967  14526.12465\n",
       "Australia    1972  16788.62948\n",
       "Australia    1977  18334.19751\n",
       "Australia    1982  19477.00928\n",
       "Australia    1987  21888.88903\n",
       "Australia    1992  23424.76683\n",
       "Australia    1997  26997.93657\n",
       "Australia    2002  30687.75473\n",
       "Australia    2007  34435.36744\n",
       "New Zealand  1952  10556.57566\n",
       "New Zealand  1957  12247.39532\n",
       "New Zealand  1962  13175.67800\n",
       "New Zealand  1967  14463.91893\n",
       "New Zealand  1972  16046.03728\n",
       "New Zealand  1977  16233.71770\n",
       "New Zealand  1982  17632.41040\n",
       "New Zealand  1987  19007.19129\n",
       "New Zealand  1992  18363.32494\n",
       "New Zealand  1997  21050.41377\n",
       "New Zealand  2002  23189.80135\n",
       "New Zealand  2007  25185.00911"
      ]
     },
     "execution_count": 80,
     "metadata": {},
     "output_type": "execute_result"
    }
   ],
   "source": [
    "gdp_oceania=df.loc[['Australia','New Zealand'],['year','gdpPercap']]\n",
    "gdp_oceania"
   ]
  },
  {
   "cell_type": "code",
   "execution_count": 81,
   "metadata": {},
   "outputs": [
    {
     "data": {
      "text/html": [
       "<div>\n",
       "<style scoped>\n",
       "    .dataframe tbody tr th:only-of-type {\n",
       "        vertical-align: middle;\n",
       "    }\n",
       "\n",
       "    .dataframe tbody tr th {\n",
       "        vertical-align: top;\n",
       "    }\n",
       "\n",
       "    .dataframe thead th {\n",
       "        text-align: right;\n",
       "    }\n",
       "</style>\n",
       "<table border=\"1\" class=\"dataframe\">\n",
       "  <thead>\n",
       "    <tr style=\"text-align: right;\">\n",
       "      <th>country</th>\n",
       "      <th>Australia</th>\n",
       "      <th>New Zealand</th>\n",
       "    </tr>\n",
       "    <tr>\n",
       "      <th>year</th>\n",
       "      <th></th>\n",
       "      <th></th>\n",
       "    </tr>\n",
       "  </thead>\n",
       "  <tbody>\n",
       "    <tr>\n",
       "      <th>1952</th>\n",
       "      <td>10039.59564</td>\n",
       "      <td>10556.57566</td>\n",
       "    </tr>\n",
       "    <tr>\n",
       "      <th>1957</th>\n",
       "      <td>10949.64959</td>\n",
       "      <td>12247.39532</td>\n",
       "    </tr>\n",
       "    <tr>\n",
       "      <th>1962</th>\n",
       "      <td>12217.22686</td>\n",
       "      <td>13175.67800</td>\n",
       "    </tr>\n",
       "    <tr>\n",
       "      <th>1967</th>\n",
       "      <td>14526.12465</td>\n",
       "      <td>14463.91893</td>\n",
       "    </tr>\n",
       "    <tr>\n",
       "      <th>1972</th>\n",
       "      <td>16788.62948</td>\n",
       "      <td>16046.03728</td>\n",
       "    </tr>\n",
       "    <tr>\n",
       "      <th>1977</th>\n",
       "      <td>18334.19751</td>\n",
       "      <td>16233.71770</td>\n",
       "    </tr>\n",
       "    <tr>\n",
       "      <th>1982</th>\n",
       "      <td>19477.00928</td>\n",
       "      <td>17632.41040</td>\n",
       "    </tr>\n",
       "    <tr>\n",
       "      <th>1987</th>\n",
       "      <td>21888.88903</td>\n",
       "      <td>19007.19129</td>\n",
       "    </tr>\n",
       "    <tr>\n",
       "      <th>1992</th>\n",
       "      <td>23424.76683</td>\n",
       "      <td>18363.32494</td>\n",
       "    </tr>\n",
       "    <tr>\n",
       "      <th>1997</th>\n",
       "      <td>26997.93657</td>\n",
       "      <td>21050.41377</td>\n",
       "    </tr>\n",
       "    <tr>\n",
       "      <th>2002</th>\n",
       "      <td>30687.75473</td>\n",
       "      <td>23189.80135</td>\n",
       "    </tr>\n",
       "    <tr>\n",
       "      <th>2007</th>\n",
       "      <td>34435.36744</td>\n",
       "      <td>25185.00911</td>\n",
       "    </tr>\n",
       "  </tbody>\n",
       "</table>\n",
       "</div>"
      ],
      "text/plain": [
       "country    Australia  New Zealand\n",
       "year                             \n",
       "1952     10039.59564  10556.57566\n",
       "1957     10949.64959  12247.39532\n",
       "1962     12217.22686  13175.67800\n",
       "1967     14526.12465  14463.91893\n",
       "1972     16788.62948  16046.03728\n",
       "1977     18334.19751  16233.71770\n",
       "1982     19477.00928  17632.41040\n",
       "1987     21888.88903  19007.19129\n",
       "1992     23424.76683  18363.32494\n",
       "1997     26997.93657  21050.41377\n",
       "2002     30687.75473  23189.80135\n",
       "2007     34435.36744  25185.00911"
      ]
     },
     "execution_count": 81,
     "metadata": {},
     "output_type": "execute_result"
    }
   ],
   "source": [
    "gdp_oceania=pd.pivot_table(gdp_oceania, values='gdpPercap', index='year',columns='country')\n",
    "gdp_oceania"
   ]
  },
  {
   "cell_type": "code",
   "execution_count": 82,
   "metadata": {},
   "outputs": [
    {
     "data": {
      "text/plain": [
       "Text(0.5, 1.0, 'GAPMINDER')"
      ]
     },
     "execution_count": 82,
     "metadata": {},
     "output_type": "execute_result"
    },
    {
     "data": {
      "image/png": "[encoded data removed]",
      "text/plain": [
       "<Figure size 432x288 with 1 Axes>"
      ]
     },
     "metadata": {
      "needs_background": "light"
     },
     "output_type": "display_data"
    }
   ],
   "source": [
    "plt.plot(gdp_oceania)\n",
    "plt.xlabel('Year') # taking them as integers\n",
    "plt.ylabel('GDP per capita, $1,000')\n",
    "plt.title('GAPMINDER')"
   ]
  },
  {
   "cell_type": "code",
   "execution_count": 83,
   "metadata": {},
   "outputs": [
    {
     "data": {
      "text/plain": [
       "['1952',\n",
       " '1957',\n",
       " '1962',\n",
       " '1967',\n",
       " '1972',\n",
       " '1977',\n",
       " '1982',\n",
       " '1987',\n",
       " '1992',\n",
       " '1997',\n",
       " '2002',\n",
       " '2007']"
      ]
     },
     "execution_count": 83,
     "metadata": {},
     "output_type": "execute_result"
    }
   ],
   "source": [
    "years=[] # getitng years as strings:\n",
    "for yr in gdp_oceania.index.values:\n",
    "    years.append(str(yr))\n",
    "years"
   ]
  },
  {
   "cell_type": "code",
   "execution_count": 84,
   "metadata": {},
   "outputs": [
    {
     "data": {
      "text/plain": [
       "Text(0.5, 1.0, 'GAPMINDER')"
      ]
     },
     "execution_count": 84,
     "metadata": {},
     "output_type": "execute_result"
    },
    {
     "data": {
      "image/png": "[encoded data removed]",
      "text/plain": [
       "<Figure size 432x288 with 1 Axes>"
      ]
     },
     "metadata": {
      "needs_background": "light"
     },
     "output_type": "display_data"
    }
   ],
   "source": [
    "plt.plot(years,gdp_oceania)\n",
    "plt.xlabel('Year') # strings\n",
    "plt.ylabel('GDP per capita, $1,000')\n",
    "plt.title('GAPMINDER')"
   ]
  },
  {
   "cell_type": "code",
   "execution_count": 85,
   "metadata": {},
   "outputs": [
    {
     "data": {
      "text/plain": [
       "Text(0.5, 1.0, 'GAPMINDER')"
      ]
     },
     "execution_count": 85,
     "metadata": {},
     "output_type": "execute_result"
    },
    {
     "data": {
      "image/png": "[encoded data removed]",
      "text/plain": [
       "<Figure size 432x288 with 1 Axes>"
      ]
     },
     "metadata": {
      "needs_background": "light"
     },
     "output_type": "display_data"
    }
   ],
   "source": [
    "plt.plot(years,gdp_oceania.loc[:,'Australia'],'g--') # g == green; -- dashed line style\n",
    "plt.title('GAPMINDER')"
   ]
  },
  {
   "cell_type": "code",
   "execution_count": 86,
   "metadata": {},
   "outputs": [
    {
     "data": {
      "text/plain": [
       "Text(0.5, 1.0, 'GAPMINDER')"
      ]
     },
     "execution_count": 86,
     "metadata": {},
     "output_type": "execute_result"
    },
    {
     "data": {
      "image/png": "[encoded data removed]",
      "text/plain": [
       "<Figure size 432x288 with 1 Axes>"
      ]
     },
     "metadata": {
      "needs_background": "light"
     },
     "output_type": "display_data"
    }
   ],
   "source": [
    "plt.plot(years,gdp_oceania.loc[:,'Australia'],'k:') # k == black; : dotted line\n",
    "plt.title('GAPMINDER')"
   ]
  },
  {
   "cell_type": "code",
   "execution_count": 87,
   "metadata": {},
   "outputs": [
    {
     "data": {
      "text/plain": [
       "Text(0.5, 1.0, 'GAPMINDER')"
      ]
     },
     "execution_count": 87,
     "metadata": {},
     "output_type": "execute_result"
    },
    {
     "data": {
      "image/png": "[encoded data removed]",
      "text/plain": [
       "<Figure size 432x288 with 1 Axes>"
      ]
     },
     "metadata": {
      "needs_background": "light"
     },
     "output_type": "display_data"
    }
   ],
   "source": [
    "plt.plot(years,gdp_oceania.loc[:,'Australia'],'rD-') \n",
    "plt.title('GAPMINDER')"
   ]
  },
  {
   "cell_type": "code",
   "execution_count": 88,
   "metadata": {},
   "outputs": [
    {
     "data": {
      "text/plain": [
       "<matplotlib.legend.Legend at 0x1158b02e8>"
      ]
     },
     "execution_count": 88,
     "metadata": {},
     "output_type": "execute_result"
    },
    {
     "data": {
      "image/png": "[encoded data removed]",
      "text/plain": [
       "<Figure size 432x288 with 1 Axes>"
      ]
     },
     "metadata": {
      "needs_background": "light"
     },
     "output_type": "display_data"
    }
   ],
   "source": [
    "plt.plot(years,gdp_oceania.loc[:,'Australia'],'k:', label='Australia') # k == black; : dotted line\n",
    "plt.plot(years,gdp_oceania.loc[:,'New Zealand'],'r-',label='New Zealand') # k == black; : dotted line\n",
    "plt.title('GAPMINDER')\n",
    "#plt.legend() #plt.legend() default is best, 1 is upper right, 2 upper left\n",
    "plt.legend(loc=1)"
   ]
  },
  {
   "cell_type": "code",
   "execution_count": 89,
   "metadata": {},
   "outputs": [],
   "source": [
    "plt.plot?"
   ]
  },
  {
   "cell_type": "code",
   "execution_count": 90,
   "metadata": {},
   "outputs": [
    {
     "data": {
      "text/plain": [
       "<matplotlib.legend.Legend at 0x1157e38d0>"
      ]
     },
     "execution_count": 90,
     "metadata": {},
     "output_type": "execute_result"
    },
    {
     "data": {
      "image/png": "[encoded data removed]",
      "text/plain": [
       "<Figure size 432x288 with 1 Axes>"
      ]
     },
     "metadata": {
      "needs_background": "light"
     },
     "output_type": "display_data"
    }
   ],
   "source": [
    "gdp_oceania.plot(kind='barh') # bar\n",
    "plt.xlabel('Year')\n",
    "plt.ylabel('GDP per capita, $1,000')\n",
    "plt.title('GAPMINDER')\n",
    "#plt.legend() default is best, 1 is upper right, 2 upper left\n",
    "plt.legend(loc=1)"
   ]
  },
  {
   "cell_type": "code",
   "execution_count": 91,
   "metadata": {},
   "outputs": [
    {
     "data": {
      "text/plain": [
       "<matplotlib.axes._subplots.AxesSubplot at 0x1159a5518>"
      ]
     },
     "execution_count": 91,
     "metadata": {},
     "output_type": "execute_result"
    },
    {
     "data": {
      "image/png": "[encoded data removed]",
      "text/plain": [
       "<Figure size 432x288 with 1 Axes>"
      ]
     },
     "metadata": {},
     "output_type": "display_data"
    }
   ],
   "source": [
    "plt.style.use('ggplot')\n",
    "gdp_oceania.plot(kind='barh')"
   ]
  },
  {
   "cell_type": "code",
   "execution_count": 92,
   "metadata": {},
   "outputs": [
    {
     "name": "stdout",
     "output_type": "stream",
     "text": [
      "['seaborn-dark', 'seaborn-darkgrid', 'seaborn-ticks', 'fivethirtyeight', 'seaborn-whitegrid', 'classic', '_classic_test', 'fast', 'seaborn-talk', 'seaborn-dark-palette', 'seaborn-bright', 'seaborn-pastel', 'grayscale', 'seaborn-notebook', 'ggplot', 'seaborn-colorblind', 'seaborn-muted', 'seaborn', 'Solarize_Light2', 'seaborn-paper', 'bmh', 'tableau-colorblind10', 'seaborn-white', 'dark_background', 'seaborn-poster', 'seaborn-deep']\n"
     ]
    }
   ],
   "source": [
    "print(plt.style.available)\n",
    "#plt.rcParams.update(plt.rcParamsDefault)"
   ]
  },
  {
   "cell_type": "code",
   "execution_count": 93,
   "metadata": {},
   "outputs": [
    {
     "data": {
      "text/plain": [
       "<matplotlib.axes._subplots.AxesSubplot at 0x115b73da0>"
      ]
     },
     "execution_count": 93,
     "metadata": {},
     "output_type": "execute_result"
    },
    {
     "data": {
      "image/png": "[encoded data removed]",
      "text/plain": [
       "<Figure size 432x288 with 1 Axes>"
      ]
     },
     "metadata": {},
     "output_type": "display_data"
    }
   ],
   "source": [
    "plt.style.use('seaborn-dark')\n",
    "gdp_oceania.plot(kind='barh')"
   ]
  },
  {
   "cell_type": "code",
   "execution_count": 94,
   "metadata": {
    "scrolled": false
   },
   "outputs": [],
   "source": [
    "# for style in plt.style.available:\n",
    "#     plt.style.use(style)\n",
    "#     gdp_oceania.plot(kind='barh')"
   ]
  },
  {
   "cell_type": "markdown",
   "metadata": {},
   "source": [
    "# 6 - Saving plot to figure"
   ]
  },
  {
   "cell_type": "code",
   "execution_count": 95,
   "metadata": {},
   "outputs": [
    {
     "data": {
      "image/png": "[encoded data removed]",
      "text/plain": [
       "<Figure size 432x288 with 1 Axes>"
      ]
     },
     "metadata": {},
     "output_type": "display_data"
    }
   ],
   "source": [
    "plt.style.use('tableau-colorblind10')\n",
    "gdp_oceania.plot(kind='barh')\n",
    "plt.savefig('oceania_barh.png',dpi=300)"
   ]
  },
  {
   "cell_type": "code",
   "execution_count": 96,
   "metadata": {},
   "outputs": [
    {
     "name": "stdout",
     "output_type": "stream",
     "text": [
      "2-16-2020_UofA_Carpentry_Python.ipynb  oceania_barh.png\r\n",
      "gapminder_final.csv                    \u001b[34mold_materials\u001b[m\u001b[m/\r\n",
      "gapminder_summ_stats.csv               two_countries_summ_stats.csv\r\n"
     ]
    }
   ],
   "source": [
    "ls"
   ]
  },
  {
   "cell_type": "markdown",
   "metadata": {},
   "source": [
    "# Coffee break #2"
   ]
  },
  {
   "cell_type": "markdown",
   "metadata": {},
   "source": [
    "# CHEEKY EXERCISE!\n",
    "\n",
    "# Google is your best friend! Talk to your neighbor too (:\n",
    "\n",
    "#  Plot a line graph with the `min`, `mean`, and `max` GDP per capita over time for all countries in the `Americas`, use `bmh` style, and save plot to a figure."
   ]
  },
  {
   "cell_type": "code",
   "execution_count": 97,
   "metadata": {},
   "outputs": [
    {
     "data": {
      "text/html": [
       "<div>\n",
       "<style scoped>\n",
       "    .dataframe tbody tr th:only-of-type {\n",
       "        vertical-align: middle;\n",
       "    }\n",
       "\n",
       "    .dataframe tbody tr th {\n",
       "        vertical-align: top;\n",
       "    }\n",
       "\n",
       "    .dataframe thead th {\n",
       "        text-align: right;\n",
       "    }\n",
       "</style>\n",
       "<table border=\"1\" class=\"dataframe\">\n",
       "  <thead>\n",
       "    <tr style=\"text-align: right;\">\n",
       "      <th>country</th>\n",
       "      <th>Argentina</th>\n",
       "      <th>Bolivia</th>\n",
       "      <th>Brazil</th>\n",
       "      <th>Canada</th>\n",
       "      <th>Chile</th>\n",
       "      <th>Colombia</th>\n",
       "      <th>Costa Rica</th>\n",
       "      <th>Cuba</th>\n",
       "      <th>Dominican Republic</th>\n",
       "      <th>Ecuador</th>\n",
       "      <th>...</th>\n",
       "      <th>Mexico</th>\n",
       "      <th>Nicaragua</th>\n",
       "      <th>Panama</th>\n",
       "      <th>Paraguay</th>\n",
       "      <th>Peru</th>\n",
       "      <th>Puerto Rico</th>\n",
       "      <th>Trinidad and Tobago</th>\n",
       "      <th>United States</th>\n",
       "      <th>Uruguay</th>\n",
       "      <th>Venezuela</th>\n",
       "    </tr>\n",
       "    <tr>\n",
       "      <th>year</th>\n",
       "      <th></th>\n",
       "      <th></th>\n",
       "      <th></th>\n",
       "      <th></th>\n",
       "      <th></th>\n",
       "      <th></th>\n",
       "      <th></th>\n",
       "      <th></th>\n",
       "      <th></th>\n",
       "      <th></th>\n",
       "      <th></th>\n",
       "      <th></th>\n",
       "      <th></th>\n",
       "      <th></th>\n",
       "      <th></th>\n",
       "      <th></th>\n",
       "      <th></th>\n",
       "      <th></th>\n",
       "      <th></th>\n",
       "      <th></th>\n",
       "      <th></th>\n",
       "    </tr>\n",
       "  </thead>\n",
       "  <tbody>\n",
       "    <tr>\n",
       "      <th>1952</th>\n",
       "      <td>5911.315053</td>\n",
       "      <td>2677.326347</td>\n",
       "      <td>2108.944355</td>\n",
       "      <td>11367.16112</td>\n",
       "      <td>3939.978789</td>\n",
       "      <td>2144.115096</td>\n",
       "      <td>2627.009471</td>\n",
       "      <td>5586.538780</td>\n",
       "      <td>1397.717137</td>\n",
       "      <td>3522.110717</td>\n",
       "      <td>...</td>\n",
       "      <td>3478.125529</td>\n",
       "      <td>3112.363948</td>\n",
       "      <td>2480.380334</td>\n",
       "      <td>1952.308701</td>\n",
       "      <td>3758.523437</td>\n",
       "      <td>3081.959785</td>\n",
       "      <td>3023.271928</td>\n",
       "      <td>13990.48208</td>\n",
       "      <td>5716.766744</td>\n",
       "      <td>7689.799761</td>\n",
       "    </tr>\n",
       "    <tr>\n",
       "      <th>1957</th>\n",
       "      <td>6856.856212</td>\n",
       "      <td>2127.686326</td>\n",
       "      <td>2487.365989</td>\n",
       "      <td>12489.95006</td>\n",
       "      <td>4315.622723</td>\n",
       "      <td>2323.805581</td>\n",
       "      <td>2990.010802</td>\n",
       "      <td>6092.174359</td>\n",
       "      <td>1544.402995</td>\n",
       "      <td>3780.546651</td>\n",
       "      <td>...</td>\n",
       "      <td>4131.546641</td>\n",
       "      <td>3457.415947</td>\n",
       "      <td>2961.800905</td>\n",
       "      <td>2046.154706</td>\n",
       "      <td>4245.256698</td>\n",
       "      <td>3907.156189</td>\n",
       "      <td>4100.393400</td>\n",
       "      <td>14847.12712</td>\n",
       "      <td>6150.772969</td>\n",
       "      <td>9802.466526</td>\n",
       "    </tr>\n",
       "    <tr>\n",
       "      <th>1962</th>\n",
       "      <td>7133.166023</td>\n",
       "      <td>2180.972546</td>\n",
       "      <td>3336.585802</td>\n",
       "      <td>13462.48555</td>\n",
       "      <td>4519.094331</td>\n",
       "      <td>2492.351109</td>\n",
       "      <td>3460.937025</td>\n",
       "      <td>5180.755910</td>\n",
       "      <td>1662.137359</td>\n",
       "      <td>4086.114078</td>\n",
       "      <td>...</td>\n",
       "      <td>4581.609385</td>\n",
       "      <td>3634.364406</td>\n",
       "      <td>3536.540301</td>\n",
       "      <td>2148.027146</td>\n",
       "      <td>4957.037982</td>\n",
       "      <td>5108.344630</td>\n",
       "      <td>4997.523971</td>\n",
       "      <td>16173.14586</td>\n",
       "      <td>5603.357717</td>\n",
       "      <td>8422.974165</td>\n",
       "    </tr>\n",
       "    <tr>\n",
       "      <th>1967</th>\n",
       "      <td>8052.953021</td>\n",
       "      <td>2586.886053</td>\n",
       "      <td>3429.864357</td>\n",
       "      <td>16076.58803</td>\n",
       "      <td>5106.654313</td>\n",
       "      <td>2678.729839</td>\n",
       "      <td>4161.727834</td>\n",
       "      <td>5690.268015</td>\n",
       "      <td>1653.723003</td>\n",
       "      <td>4579.074215</td>\n",
       "      <td>...</td>\n",
       "      <td>5754.733883</td>\n",
       "      <td>4643.393534</td>\n",
       "      <td>4421.009084</td>\n",
       "      <td>2299.376311</td>\n",
       "      <td>5788.093330</td>\n",
       "      <td>6929.277714</td>\n",
       "      <td>5621.368472</td>\n",
       "      <td>19530.36557</td>\n",
       "      <td>5444.619620</td>\n",
       "      <td>9541.474188</td>\n",
       "    </tr>\n",
       "    <tr>\n",
       "      <th>1972</th>\n",
       "      <td>9443.038526</td>\n",
       "      <td>2980.331339</td>\n",
       "      <td>4985.711467</td>\n",
       "      <td>18970.57086</td>\n",
       "      <td>5494.024437</td>\n",
       "      <td>3264.660041</td>\n",
       "      <td>5118.146939</td>\n",
       "      <td>5305.445256</td>\n",
       "      <td>2189.874499</td>\n",
       "      <td>5280.994710</td>\n",
       "      <td>...</td>\n",
       "      <td>6809.406690</td>\n",
       "      <td>4688.593267</td>\n",
       "      <td>5364.249663</td>\n",
       "      <td>2523.337977</td>\n",
       "      <td>5937.827283</td>\n",
       "      <td>9123.041742</td>\n",
       "      <td>6619.551419</td>\n",
       "      <td>21806.03594</td>\n",
       "      <td>5703.408898</td>\n",
       "      <td>10505.259660</td>\n",
       "    </tr>\n",
       "    <tr>\n",
       "      <th>1977</th>\n",
       "      <td>10079.026740</td>\n",
       "      <td>3548.097832</td>\n",
       "      <td>6660.118654</td>\n",
       "      <td>22090.88306</td>\n",
       "      <td>4756.763836</td>\n",
       "      <td>3815.807870</td>\n",
       "      <td>5926.876967</td>\n",
       "      <td>6380.494966</td>\n",
       "      <td>2681.988900</td>\n",
       "      <td>6679.623260</td>\n",
       "      <td>...</td>\n",
       "      <td>7674.929108</td>\n",
       "      <td>5486.371089</td>\n",
       "      <td>5351.912144</td>\n",
       "      <td>3248.373311</td>\n",
       "      <td>6281.290855</td>\n",
       "      <td>9770.524921</td>\n",
       "      <td>7899.554209</td>\n",
       "      <td>24072.63213</td>\n",
       "      <td>6504.339663</td>\n",
       "      <td>13143.950950</td>\n",
       "    </tr>\n",
       "    <tr>\n",
       "      <th>1982</th>\n",
       "      <td>8997.897412</td>\n",
       "      <td>3156.510452</td>\n",
       "      <td>7030.835878</td>\n",
       "      <td>22898.79214</td>\n",
       "      <td>5095.665738</td>\n",
       "      <td>4397.575659</td>\n",
       "      <td>5262.734751</td>\n",
       "      <td>7316.918107</td>\n",
       "      <td>2861.092386</td>\n",
       "      <td>7213.791267</td>\n",
       "      <td>...</td>\n",
       "      <td>9611.147541</td>\n",
       "      <td>3470.338156</td>\n",
       "      <td>7009.601598</td>\n",
       "      <td>4258.503604</td>\n",
       "      <td>6434.501797</td>\n",
       "      <td>10330.989150</td>\n",
       "      <td>9119.528607</td>\n",
       "      <td>25009.55914</td>\n",
       "      <td>6920.223051</td>\n",
       "      <td>11152.410110</td>\n",
       "    </tr>\n",
       "    <tr>\n",
       "      <th>1987</th>\n",
       "      <td>9139.671389</td>\n",
       "      <td>2753.691490</td>\n",
       "      <td>7807.095818</td>\n",
       "      <td>26626.51503</td>\n",
       "      <td>5547.063754</td>\n",
       "      <td>4903.219100</td>\n",
       "      <td>5629.915318</td>\n",
       "      <td>7532.924763</td>\n",
       "      <td>2899.842175</td>\n",
       "      <td>6481.776993</td>\n",
       "      <td>...</td>\n",
       "      <td>8688.156003</td>\n",
       "      <td>2955.984375</td>\n",
       "      <td>7034.779161</td>\n",
       "      <td>3998.875695</td>\n",
       "      <td>6360.943444</td>\n",
       "      <td>12281.341910</td>\n",
       "      <td>7388.597823</td>\n",
       "      <td>29884.35041</td>\n",
       "      <td>7452.398969</td>\n",
       "      <td>9883.584648</td>\n",
       "    </tr>\n",
       "    <tr>\n",
       "      <th>1992</th>\n",
       "      <td>9308.418710</td>\n",
       "      <td>2961.699694</td>\n",
       "      <td>6950.283021</td>\n",
       "      <td>26342.88426</td>\n",
       "      <td>7596.125964</td>\n",
       "      <td>5444.648617</td>\n",
       "      <td>6160.416317</td>\n",
       "      <td>5592.843963</td>\n",
       "      <td>3044.214214</td>\n",
       "      <td>7103.702595</td>\n",
       "      <td>...</td>\n",
       "      <td>9472.384295</td>\n",
       "      <td>2170.151724</td>\n",
       "      <td>6618.743050</td>\n",
       "      <td>4196.411078</td>\n",
       "      <td>4446.380924</td>\n",
       "      <td>14641.587110</td>\n",
       "      <td>7370.990932</td>\n",
       "      <td>32003.93224</td>\n",
       "      <td>8137.004775</td>\n",
       "      <td>10733.926310</td>\n",
       "    </tr>\n",
       "    <tr>\n",
       "      <th>1997</th>\n",
       "      <td>10967.281950</td>\n",
       "      <td>3326.143191</td>\n",
       "      <td>7957.980824</td>\n",
       "      <td>28954.92589</td>\n",
       "      <td>10118.053180</td>\n",
       "      <td>6117.361746</td>\n",
       "      <td>6677.045314</td>\n",
       "      <td>5431.990415</td>\n",
       "      <td>3614.101285</td>\n",
       "      <td>7429.455877</td>\n",
       "      <td>...</td>\n",
       "      <td>9767.297530</td>\n",
       "      <td>2253.023004</td>\n",
       "      <td>7113.692252</td>\n",
       "      <td>4247.400261</td>\n",
       "      <td>5838.347657</td>\n",
       "      <td>16999.433300</td>\n",
       "      <td>8792.573126</td>\n",
       "      <td>35767.43303</td>\n",
       "      <td>9230.240708</td>\n",
       "      <td>10165.495180</td>\n",
       "    </tr>\n",
       "    <tr>\n",
       "      <th>2002</th>\n",
       "      <td>8797.640716</td>\n",
       "      <td>3413.262690</td>\n",
       "      <td>8131.212843</td>\n",
       "      <td>33328.96507</td>\n",
       "      <td>10778.783850</td>\n",
       "      <td>5755.259962</td>\n",
       "      <td>7723.447195</td>\n",
       "      <td>6340.646683</td>\n",
       "      <td>4563.808154</td>\n",
       "      <td>5773.044512</td>\n",
       "      <td>...</td>\n",
       "      <td>10742.440530</td>\n",
       "      <td>2474.548819</td>\n",
       "      <td>7356.031934</td>\n",
       "      <td>3783.674243</td>\n",
       "      <td>5909.020073</td>\n",
       "      <td>18855.606180</td>\n",
       "      <td>11460.600230</td>\n",
       "      <td>39097.09955</td>\n",
       "      <td>7727.002004</td>\n",
       "      <td>8605.047831</td>\n",
       "    </tr>\n",
       "    <tr>\n",
       "      <th>2007</th>\n",
       "      <td>12779.379640</td>\n",
       "      <td>3822.137084</td>\n",
       "      <td>9065.800825</td>\n",
       "      <td>36319.23501</td>\n",
       "      <td>13171.638850</td>\n",
       "      <td>7006.580419</td>\n",
       "      <td>9645.061420</td>\n",
       "      <td>8948.102923</td>\n",
       "      <td>6025.374752</td>\n",
       "      <td>6873.262326</td>\n",
       "      <td>...</td>\n",
       "      <td>11977.574960</td>\n",
       "      <td>2749.320965</td>\n",
       "      <td>9809.185636</td>\n",
       "      <td>4172.838464</td>\n",
       "      <td>7408.905561</td>\n",
       "      <td>19328.709010</td>\n",
       "      <td>18008.509240</td>\n",
       "      <td>42951.65309</td>\n",
       "      <td>10611.462990</td>\n",
       "      <td>11415.805690</td>\n",
       "    </tr>\n",
       "  </tbody>\n",
       "</table>\n",
       "<p>12 rows × 25 columns</p>\n",
       "</div>"
      ],
      "text/plain": [
       "country     Argentina      Bolivia       Brazil       Canada         Chile  \\\n",
       "year                                                                         \n",
       "1952      5911.315053  2677.326347  2108.944355  11367.16112   3939.978789   \n",
       "1957      6856.856212  2127.686326  2487.365989  12489.95006   4315.622723   \n",
       "1962      7133.166023  2180.972546  3336.585802  13462.48555   4519.094331   \n",
       "1967      8052.953021  2586.886053  3429.864357  16076.58803   5106.654313   \n",
       "1972      9443.038526  2980.331339  4985.711467  18970.57086   5494.024437   \n",
       "1977     10079.026740  3548.097832  6660.118654  22090.88306   4756.763836   \n",
       "1982      8997.897412  3156.510452  7030.835878  22898.79214   5095.665738   \n",
       "1987      9139.671389  2753.691490  7807.095818  26626.51503   5547.063754   \n",
       "1992      9308.418710  2961.699694  6950.283021  26342.88426   7596.125964   \n",
       "1997     10967.281950  3326.143191  7957.980824  28954.92589  10118.053180   \n",
       "2002      8797.640716  3413.262690  8131.212843  33328.96507  10778.783850   \n",
       "2007     12779.379640  3822.137084  9065.800825  36319.23501  13171.638850   \n",
       "\n",
       "country     Colombia   Costa Rica         Cuba  Dominican Republic  \\\n",
       "year                                                                 \n",
       "1952     2144.115096  2627.009471  5586.538780         1397.717137   \n",
       "1957     2323.805581  2990.010802  6092.174359         1544.402995   \n",
       "1962     2492.351109  3460.937025  5180.755910         1662.137359   \n",
       "1967     2678.729839  4161.727834  5690.268015         1653.723003   \n",
       "1972     3264.660041  5118.146939  5305.445256         2189.874499   \n",
       "1977     3815.807870  5926.876967  6380.494966         2681.988900   \n",
       "1982     4397.575659  5262.734751  7316.918107         2861.092386   \n",
       "1987     4903.219100  5629.915318  7532.924763         2899.842175   \n",
       "1992     5444.648617  6160.416317  5592.843963         3044.214214   \n",
       "1997     6117.361746  6677.045314  5431.990415         3614.101285   \n",
       "2002     5755.259962  7723.447195  6340.646683         4563.808154   \n",
       "2007     7006.580419  9645.061420  8948.102923         6025.374752   \n",
       "\n",
       "country      Ecuador  ...        Mexico    Nicaragua       Panama  \\\n",
       "year                  ...                                           \n",
       "1952     3522.110717  ...   3478.125529  3112.363948  2480.380334   \n",
       "1957     3780.546651  ...   4131.546641  3457.415947  2961.800905   \n",
       "1962     4086.114078  ...   4581.609385  3634.364406  3536.540301   \n",
       "1967     4579.074215  ...   5754.733883  4643.393534  4421.009084   \n",
       "1972     5280.994710  ...   6809.406690  4688.593267  5364.249663   \n",
       "1977     6679.623260  ...   7674.929108  5486.371089  5351.912144   \n",
       "1982     7213.791267  ...   9611.147541  3470.338156  7009.601598   \n",
       "1987     6481.776993  ...   8688.156003  2955.984375  7034.779161   \n",
       "1992     7103.702595  ...   9472.384295  2170.151724  6618.743050   \n",
       "1997     7429.455877  ...   9767.297530  2253.023004  7113.692252   \n",
       "2002     5773.044512  ...  10742.440530  2474.548819  7356.031934   \n",
       "2007     6873.262326  ...  11977.574960  2749.320965  9809.185636   \n",
       "\n",
       "country     Paraguay         Peru   Puerto Rico  Trinidad and Tobago  \\\n",
       "year                                                                   \n",
       "1952     1952.308701  3758.523437   3081.959785          3023.271928   \n",
       "1957     2046.154706  4245.256698   3907.156189          4100.393400   \n",
       "1962     2148.027146  4957.037982   5108.344630          4997.523971   \n",
       "1967     2299.376311  5788.093330   6929.277714          5621.368472   \n",
       "1972     2523.337977  5937.827283   9123.041742          6619.551419   \n",
       "1977     3248.373311  6281.290855   9770.524921          7899.554209   \n",
       "1982     4258.503604  6434.501797  10330.989150          9119.528607   \n",
       "1987     3998.875695  6360.943444  12281.341910          7388.597823   \n",
       "1992     4196.411078  4446.380924  14641.587110          7370.990932   \n",
       "1997     4247.400261  5838.347657  16999.433300          8792.573126   \n",
       "2002     3783.674243  5909.020073  18855.606180         11460.600230   \n",
       "2007     4172.838464  7408.905561  19328.709010         18008.509240   \n",
       "\n",
       "country  United States       Uruguay     Venezuela  \n",
       "year                                                \n",
       "1952       13990.48208   5716.766744   7689.799761  \n",
       "1957       14847.12712   6150.772969   9802.466526  \n",
       "1962       16173.14586   5603.357717   8422.974165  \n",
       "1967       19530.36557   5444.619620   9541.474188  \n",
       "1972       21806.03594   5703.408898  10505.259660  \n",
       "1977       24072.63213   6504.339663  13143.950950  \n",
       "1982       25009.55914   6920.223051  11152.410110  \n",
       "1987       29884.35041   7452.398969   9883.584648  \n",
       "1992       32003.93224   8137.004775  10733.926310  \n",
       "1997       35767.43303   9230.240708  10165.495180  \n",
       "2002       39097.09955   7727.002004   8605.047831  \n",
       "2007       42951.65309  10611.462990  11415.805690  \n",
       "\n",
       "[12 rows x 25 columns]"
      ]
     },
     "execution_count": 97,
     "metadata": {},
     "output_type": "execute_result"
    }
   ],
   "source": [
    "gdp_americas = df[df['continent']=='Americas'].pivot_table(values='gdpPercap', index='year',columns='country')\n",
    "gdp_americas"
   ]
  },
  {
   "cell_type": "code",
   "execution_count": 98,
   "metadata": {
    "scrolled": false
   },
   "outputs": [
    {
     "data": {
      "text/plain": [
       "country\n",
       "Argentina               5911.315053\n",
       "Bolivia                 2127.686326\n",
       "Brazil                  2108.944355\n",
       "Canada                 11367.161120\n",
       "Chile                   3939.978789\n",
       "Colombia                2144.115096\n",
       "Costa Rica              2627.009471\n",
       "Cuba                    5180.755910\n",
       "Dominican Republic      1397.717137\n",
       "Ecuador                 3522.110717\n",
       "El Salvador             3048.302900\n",
       "Guatemala               2428.237769\n",
       "Haiti                   1201.637154\n",
       "Honduras                2194.926204\n",
       "Jamaica                 2898.530881\n",
       "Mexico                  3478.125529\n",
       "Nicaragua               2170.151724\n",
       "Panama                  2480.380334\n",
       "Paraguay                1952.308701\n",
       "Peru                    3758.523437\n",
       "Puerto Rico             3081.959785\n",
       "Trinidad and Tobago     3023.271928\n",
       "United States          13990.482080\n",
       "Uruguay                 5444.619620\n",
       "Venezuela               7689.799761\n",
       "dtype: float64"
      ]
     },
     "execution_count": 98,
     "metadata": {},
     "output_type": "execute_result"
    }
   ],
   "source": [
    "gdp_americas.min()"
   ]
  },
  {
   "cell_type": "code",
   "execution_count": 99,
   "metadata": {},
   "outputs": [
    {
     "data": {
      "text/plain": [
       "year\n",
       "1952    1397.717137\n",
       "1957    1544.402995\n",
       "1962    1662.137359\n",
       "1967    1452.057666\n",
       "1972    1654.456946\n",
       "1977    1874.298931\n",
       "1982    2011.159549\n",
       "1987    1823.015995\n",
       "1992    1456.309517\n",
       "1997    1341.726931\n",
       "2002    1270.364932\n",
       "2007    1201.637154\n",
       "dtype: float64"
      ]
     },
     "execution_count": 99,
     "metadata": {},
     "output_type": "execute_result"
    }
   ],
   "source": [
    "gdp_americas.T.min()"
   ]
  },
  {
   "cell_type": "code",
   "execution_count": 100,
   "metadata": {},
   "outputs": [
    {
     "data": {
      "text/plain": [
       "['1952',\n",
       " '1957',\n",
       " '1962',\n",
       " '1967',\n",
       " '1972',\n",
       " '1977',\n",
       " '1982',\n",
       " '1987',\n",
       " '1992',\n",
       " '1997',\n",
       " '2002',\n",
       " '2007']"
      ]
     },
     "execution_count": 100,
     "metadata": {},
     "output_type": "execute_result"
    }
   ],
   "source": [
    "years=[] # getitng years as strings:\n",
    "for yr in gdp_americas.index.values:\n",
    "    years.append(str(yr))\n",
    "years"
   ]
  },
  {
   "cell_type": "code",
   "execution_count": 101,
   "metadata": {
    "scrolled": false
   },
   "outputs": [
    {
     "data": {
      "image/png": "[encoded data removed]",
      "text/plain": [
       "<Figure size 432x288 with 1 Axes>"
      ]
     },
     "metadata": {},
     "output_type": "display_data"
    }
   ],
   "source": [
    "plt.style.use('ggplot')\n",
    "plt.plot(years,gdp_americas.T.min(), label='min')\n",
    "plt.plot(years,gdp_americas.T.max(),label='max')\n",
    "plt.plot(years,gdp_americas.T.mean(),label='mean')\n",
    "plt.legend(loc='best')\n",
    "plt.xlabel('Years')\n",
    "plt.savefig('americas_basic_stats.png')"
   ]
  },
  {
   "cell_type": "code",
   "execution_count": 102,
   "metadata": {},
   "outputs": [
    {
     "name": "stdout",
     "output_type": "stream",
     "text": [
      "2-16-2020_UofA_Carpentry_Python.ipynb  oceania_barh.png\r\n",
      "americas_basic_stats.png               \u001b[34mold_materials\u001b[m\u001b[m/\r\n",
      "gapminder_final.csv                    two_countries_summ_stats.csv\r\n",
      "gapminder_summ_stats.csv\r\n"
     ]
    }
   ],
   "source": [
    "ls"
   ]
  },
  {
   "cell_type": "markdown",
   "metadata": {},
   "source": [
    "# 6 - OMG! Let's keep plotting!"
   ]
  },
  {
   "cell_type": "markdown",
   "metadata": {},
   "source": [
    "## Histogram\n",
    "\n",
    "https://matplotlib.org/gallery/statistics/histogram_multihist.html"
   ]
  },
  {
   "cell_type": "code",
   "execution_count": 104,
   "metadata": {},
   "outputs": [
    {
     "data": {
      "text/html": [
       "<div>\n",
       "<style scoped>\n",
       "    .dataframe tbody tr th:only-of-type {\n",
       "        vertical-align: middle;\n",
       "    }\n",
       "\n",
       "    .dataframe tbody tr th {\n",
       "        vertical-align: top;\n",
       "    }\n",
       "\n",
       "    .dataframe thead th {\n",
       "        text-align: right;\n",
       "    }\n",
       "</style>\n",
       "<table border=\"1\" class=\"dataframe\">\n",
       "  <thead>\n",
       "    <tr style=\"text-align: right;\">\n",
       "      <th></th>\n",
       "      <th>continent</th>\n",
       "      <th>year</th>\n",
       "      <th>pop</th>\n",
       "      <th>lifeExp</th>\n",
       "      <th>gdpPercap</th>\n",
       "    </tr>\n",
       "    <tr>\n",
       "      <th>country</th>\n",
       "      <th></th>\n",
       "      <th></th>\n",
       "      <th></th>\n",
       "      <th></th>\n",
       "      <th></th>\n",
       "    </tr>\n",
       "  </thead>\n",
       "  <tbody>\n",
       "    <tr>\n",
       "      <th>Afghanistan</th>\n",
       "      <td>Asia</td>\n",
       "      <td>1997</td>\n",
       "      <td>22227415.0</td>\n",
       "      <td>41.763</td>\n",
       "      <td>635.341351</td>\n",
       "    </tr>\n",
       "    <tr>\n",
       "      <th>Afghanistan</th>\n",
       "      <td>Asia</td>\n",
       "      <td>2002</td>\n",
       "      <td>25268405.0</td>\n",
       "      <td>42.129</td>\n",
       "      <td>726.734055</td>\n",
       "    </tr>\n",
       "    <tr>\n",
       "      <th>Afghanistan</th>\n",
       "      <td>Asia</td>\n",
       "      <td>2007</td>\n",
       "      <td>31889923.0</td>\n",
       "      <td>43.828</td>\n",
       "      <td>974.580338</td>\n",
       "    </tr>\n",
       "    <tr>\n",
       "      <th>Afghanistan</th>\n",
       "      <td>Asia</td>\n",
       "      <td>1952</td>\n",
       "      <td>8425333.0</td>\n",
       "      <td>28.801</td>\n",
       "      <td>779.445314</td>\n",
       "    </tr>\n",
       "    <tr>\n",
       "      <th>Afghanistan</th>\n",
       "      <td>Asia</td>\n",
       "      <td>1957</td>\n",
       "      <td>9240934.0</td>\n",
       "      <td>30.332</td>\n",
       "      <td>820.853030</td>\n",
       "    </tr>\n",
       "    <tr>\n",
       "      <th>...</th>\n",
       "      <td>...</td>\n",
       "      <td>...</td>\n",
       "      <td>...</td>\n",
       "      <td>...</td>\n",
       "      <td>...</td>\n",
       "    </tr>\n",
       "    <tr>\n",
       "      <th>Zimbabwe</th>\n",
       "      <td>Africa</td>\n",
       "      <td>1987</td>\n",
       "      <td>9216418.0</td>\n",
       "      <td>62.351</td>\n",
       "      <td>706.157306</td>\n",
       "    </tr>\n",
       "    <tr>\n",
       "      <th>Zimbabwe</th>\n",
       "      <td>Africa</td>\n",
       "      <td>1992</td>\n",
       "      <td>10704340.0</td>\n",
       "      <td>60.377</td>\n",
       "      <td>693.420786</td>\n",
       "    </tr>\n",
       "    <tr>\n",
       "      <th>Zimbabwe</th>\n",
       "      <td>Africa</td>\n",
       "      <td>1997</td>\n",
       "      <td>11404948.0</td>\n",
       "      <td>46.809</td>\n",
       "      <td>792.449960</td>\n",
       "    </tr>\n",
       "    <tr>\n",
       "      <th>Zimbabwe</th>\n",
       "      <td>Africa</td>\n",
       "      <td>2002</td>\n",
       "      <td>11926563.0</td>\n",
       "      <td>39.989</td>\n",
       "      <td>672.038623</td>\n",
       "    </tr>\n",
       "    <tr>\n",
       "      <th>Zimbabwe</th>\n",
       "      <td>Africa</td>\n",
       "      <td>2007</td>\n",
       "      <td>12311143.0</td>\n",
       "      <td>43.487</td>\n",
       "      <td>469.709298</td>\n",
       "    </tr>\n",
       "  </tbody>\n",
       "</table>\n",
       "<p>1704 rows × 5 columns</p>\n",
       "</div>"
      ],
      "text/plain": [
       "            continent  year         pop  lifeExp   gdpPercap\n",
       "country                                                     \n",
       "Afghanistan      Asia  1997  22227415.0   41.763  635.341351\n",
       "Afghanistan      Asia  2002  25268405.0   42.129  726.734055\n",
       "Afghanistan      Asia  2007  31889923.0   43.828  974.580338\n",
       "Afghanistan      Asia  1952   8425333.0   28.801  779.445314\n",
       "Afghanistan      Asia  1957   9240934.0   30.332  820.853030\n",
       "...               ...   ...         ...      ...         ...\n",
       "Zimbabwe       Africa  1987   9216418.0   62.351  706.157306\n",
       "Zimbabwe       Africa  1992  10704340.0   60.377  693.420786\n",
       "Zimbabwe       Africa  1997  11404948.0   46.809  792.449960\n",
       "Zimbabwe       Africa  2002  11926563.0   39.989  672.038623\n",
       "Zimbabwe       Africa  2007  12311143.0   43.487  469.709298\n",
       "\n",
       "[1704 rows x 5 columns]"
      ]
     },
     "execution_count": 104,
     "metadata": {},
     "output_type": "execute_result"
    }
   ],
   "source": [
    "df"
   ]
  },
  {
   "cell_type": "code",
   "execution_count": 105,
   "metadata": {},
   "outputs": [],
   "source": [
    "df=df.reset_index()"
   ]
  },
  {
   "cell_type": "code",
   "execution_count": 106,
   "metadata": {},
   "outputs": [
    {
     "data": {
      "text/html": [
       "<div>\n",
       "<style scoped>\n",
       "    .dataframe tbody tr th:only-of-type {\n",
       "        vertical-align: middle;\n",
       "    }\n",
       "\n",
       "    .dataframe tbody tr th {\n",
       "        vertical-align: top;\n",
       "    }\n",
       "\n",
       "    .dataframe thead th {\n",
       "        text-align: right;\n",
       "    }\n",
       "</style>\n",
       "<table border=\"1\" class=\"dataframe\">\n",
       "  <thead>\n",
       "    <tr style=\"text-align: right;\">\n",
       "      <th></th>\n",
       "      <th>year</th>\n",
       "      <th>gdpPercap</th>\n",
       "      <th>country</th>\n",
       "    </tr>\n",
       "  </thead>\n",
       "  <tbody>\n",
       "    <tr>\n",
       "      <th>0</th>\n",
       "      <td>1997</td>\n",
       "      <td>635.341351</td>\n",
       "      <td>Afghanistan</td>\n",
       "    </tr>\n",
       "    <tr>\n",
       "      <th>1</th>\n",
       "      <td>2002</td>\n",
       "      <td>726.734055</td>\n",
       "      <td>Afghanistan</td>\n",
       "    </tr>\n",
       "    <tr>\n",
       "      <th>2</th>\n",
       "      <td>2007</td>\n",
       "      <td>974.580338</td>\n",
       "      <td>Afghanistan</td>\n",
       "    </tr>\n",
       "    <tr>\n",
       "      <th>3</th>\n",
       "      <td>1952</td>\n",
       "      <td>779.445314</td>\n",
       "      <td>Afghanistan</td>\n",
       "    </tr>\n",
       "    <tr>\n",
       "      <th>4</th>\n",
       "      <td>1957</td>\n",
       "      <td>820.853030</td>\n",
       "      <td>Afghanistan</td>\n",
       "    </tr>\n",
       "    <tr>\n",
       "      <th>...</th>\n",
       "      <td>...</td>\n",
       "      <td>...</td>\n",
       "      <td>...</td>\n",
       "    </tr>\n",
       "    <tr>\n",
       "      <th>1699</th>\n",
       "      <td>1987</td>\n",
       "      <td>706.157306</td>\n",
       "      <td>Zimbabwe</td>\n",
       "    </tr>\n",
       "    <tr>\n",
       "      <th>1700</th>\n",
       "      <td>1992</td>\n",
       "      <td>693.420786</td>\n",
       "      <td>Zimbabwe</td>\n",
       "    </tr>\n",
       "    <tr>\n",
       "      <th>1701</th>\n",
       "      <td>1997</td>\n",
       "      <td>792.449960</td>\n",
       "      <td>Zimbabwe</td>\n",
       "    </tr>\n",
       "    <tr>\n",
       "      <th>1702</th>\n",
       "      <td>2002</td>\n",
       "      <td>672.038623</td>\n",
       "      <td>Zimbabwe</td>\n",
       "    </tr>\n",
       "    <tr>\n",
       "      <th>1703</th>\n",
       "      <td>2007</td>\n",
       "      <td>469.709298</td>\n",
       "      <td>Zimbabwe</td>\n",
       "    </tr>\n",
       "  </tbody>\n",
       "</table>\n",
       "<p>1704 rows × 3 columns</p>\n",
       "</div>"
      ],
      "text/plain": [
       "      year   gdpPercap      country\n",
       "0     1997  635.341351  Afghanistan\n",
       "1     2002  726.734055  Afghanistan\n",
       "2     2007  974.580338  Afghanistan\n",
       "3     1952  779.445314  Afghanistan\n",
       "4     1957  820.853030  Afghanistan\n",
       "...    ...         ...          ...\n",
       "1699  1987  706.157306     Zimbabwe\n",
       "1700  1992  693.420786     Zimbabwe\n",
       "1701  1997  792.449960     Zimbabwe\n",
       "1702  2002  672.038623     Zimbabwe\n",
       "1703  2007  469.709298     Zimbabwe\n",
       "\n",
       "[1704 rows x 3 columns]"
      ]
     },
     "execution_count": 106,
     "metadata": {},
     "output_type": "execute_result"
    }
   ],
   "source": [
    "subset_yr=df.loc[:,['year','gdpPercap','country']]\n",
    "subset_yr"
   ]
  },
  {
   "cell_type": "code",
   "execution_count": 107,
   "metadata": {},
   "outputs": [
    {
     "data": {
      "text/plain": [
       "1952"
      ]
     },
     "execution_count": 107,
     "metadata": {},
     "output_type": "execute_result"
    }
   ],
   "source": [
    "subset_yr['year'].min()"
   ]
  },
  {
   "cell_type": "code",
   "execution_count": 108,
   "metadata": {},
   "outputs": [
    {
     "data": {
      "text/plain": [
       "2007"
      ]
     },
     "execution_count": 108,
     "metadata": {},
     "output_type": "execute_result"
    }
   ],
   "source": [
    "subset_yr['year'].max()"
   ]
  },
  {
   "cell_type": "code",
   "execution_count": 109,
   "metadata": {},
   "outputs": [
    {
     "data": {
      "text/html": [
       "<div>\n",
       "<style scoped>\n",
       "    .dataframe tbody tr th:only-of-type {\n",
       "        vertical-align: middle;\n",
       "    }\n",
       "\n",
       "    .dataframe tbody tr th {\n",
       "        vertical-align: top;\n",
       "    }\n",
       "\n",
       "    .dataframe thead th {\n",
       "        text-align: right;\n",
       "    }\n",
       "</style>\n",
       "<table border=\"1\" class=\"dataframe\">\n",
       "  <thead>\n",
       "    <tr style=\"text-align: right;\">\n",
       "      <th></th>\n",
       "      <th>year</th>\n",
       "      <th>gdpPercap</th>\n",
       "      <th>country</th>\n",
       "    </tr>\n",
       "  </thead>\n",
       "  <tbody>\n",
       "    <tr>\n",
       "      <th>2</th>\n",
       "      <td>2007</td>\n",
       "      <td>974.580338</td>\n",
       "      <td>Afghanistan</td>\n",
       "    </tr>\n",
       "    <tr>\n",
       "      <th>3</th>\n",
       "      <td>1952</td>\n",
       "      <td>779.445314</td>\n",
       "      <td>Afghanistan</td>\n",
       "    </tr>\n",
       "    <tr>\n",
       "      <th>12</th>\n",
       "      <td>1952</td>\n",
       "      <td>1601.056136</td>\n",
       "      <td>Albania</td>\n",
       "    </tr>\n",
       "    <tr>\n",
       "      <th>23</th>\n",
       "      <td>2007</td>\n",
       "      <td>5937.029526</td>\n",
       "      <td>Albania</td>\n",
       "    </tr>\n",
       "    <tr>\n",
       "      <th>29</th>\n",
       "      <td>1952</td>\n",
       "      <td>2449.008185</td>\n",
       "      <td>Algeria</td>\n",
       "    </tr>\n",
       "    <tr>\n",
       "      <th>...</th>\n",
       "      <td>...</td>\n",
       "      <td>...</td>\n",
       "      <td>...</td>\n",
       "    </tr>\n",
       "    <tr>\n",
       "      <th>1679</th>\n",
       "      <td>2007</td>\n",
       "      <td>2280.769906</td>\n",
       "      <td>Yemen, Rep.</td>\n",
       "    </tr>\n",
       "    <tr>\n",
       "      <th>1680</th>\n",
       "      <td>1952</td>\n",
       "      <td>1147.388831</td>\n",
       "      <td>Zambia</td>\n",
       "    </tr>\n",
       "    <tr>\n",
       "      <th>1691</th>\n",
       "      <td>2007</td>\n",
       "      <td>1271.211593</td>\n",
       "      <td>Zambia</td>\n",
       "    </tr>\n",
       "    <tr>\n",
       "      <th>1692</th>\n",
       "      <td>1952</td>\n",
       "      <td>406.884115</td>\n",
       "      <td>Zimbabwe</td>\n",
       "    </tr>\n",
       "    <tr>\n",
       "      <th>1703</th>\n",
       "      <td>2007</td>\n",
       "      <td>469.709298</td>\n",
       "      <td>Zimbabwe</td>\n",
       "    </tr>\n",
       "  </tbody>\n",
       "</table>\n",
       "<p>284 rows × 3 columns</p>\n",
       "</div>"
      ],
      "text/plain": [
       "      year    gdpPercap      country\n",
       "2     2007   974.580338  Afghanistan\n",
       "3     1952   779.445314  Afghanistan\n",
       "12    1952  1601.056136      Albania\n",
       "23    2007  5937.029526      Albania\n",
       "29    1952  2449.008185      Algeria\n",
       "...    ...          ...          ...\n",
       "1679  2007  2280.769906  Yemen, Rep.\n",
       "1680  1952  1147.388831       Zambia\n",
       "1691  2007  1271.211593       Zambia\n",
       "1692  1952   406.884115     Zimbabwe\n",
       "1703  2007   469.709298     Zimbabwe\n",
       "\n",
       "[284 rows x 3 columns]"
      ]
     },
     "execution_count": 109,
     "metadata": {},
     "output_type": "execute_result"
    }
   ],
   "source": [
    "subset_yr=subset_yr[subset_yr['year'].isin([1952,2007])]\n",
    "subset_yr"
   ]
  },
  {
   "cell_type": "code",
   "execution_count": 110,
   "metadata": {},
   "outputs": [
    {
     "data": {
      "text/html": [
       "<div>\n",
       "<style scoped>\n",
       "    .dataframe tbody tr th:only-of-type {\n",
       "        vertical-align: middle;\n",
       "    }\n",
       "\n",
       "    .dataframe tbody tr th {\n",
       "        vertical-align: top;\n",
       "    }\n",
       "\n",
       "    .dataframe thead th {\n",
       "        text-align: right;\n",
       "    }\n",
       "</style>\n",
       "<table border=\"1\" class=\"dataframe\">\n",
       "  <thead>\n",
       "    <tr style=\"text-align: right;\">\n",
       "      <th>country</th>\n",
       "      <th>Afghanistan</th>\n",
       "      <th>Albania</th>\n",
       "      <th>Algeria</th>\n",
       "      <th>Angola</th>\n",
       "      <th>Argentina</th>\n",
       "      <th>Australia</th>\n",
       "      <th>Austria</th>\n",
       "      <th>Bahrain</th>\n",
       "      <th>Bangladesh</th>\n",
       "      <th>Belgium</th>\n",
       "      <th>...</th>\n",
       "      <th>Uganda</th>\n",
       "      <th>United Kingdom</th>\n",
       "      <th>United States</th>\n",
       "      <th>Uruguay</th>\n",
       "      <th>Venezuela</th>\n",
       "      <th>Vietnam</th>\n",
       "      <th>West Bank and Gaza</th>\n",
       "      <th>Yemen, Rep.</th>\n",
       "      <th>Zambia</th>\n",
       "      <th>Zimbabwe</th>\n",
       "    </tr>\n",
       "    <tr>\n",
       "      <th>year</th>\n",
       "      <th></th>\n",
       "      <th></th>\n",
       "      <th></th>\n",
       "      <th></th>\n",
       "      <th></th>\n",
       "      <th></th>\n",
       "      <th></th>\n",
       "      <th></th>\n",
       "      <th></th>\n",
       "      <th></th>\n",
       "      <th></th>\n",
       "      <th></th>\n",
       "      <th></th>\n",
       "      <th></th>\n",
       "      <th></th>\n",
       "      <th></th>\n",
       "      <th></th>\n",
       "      <th></th>\n",
       "      <th></th>\n",
       "      <th></th>\n",
       "      <th></th>\n",
       "    </tr>\n",
       "  </thead>\n",
       "  <tbody>\n",
       "    <tr>\n",
       "      <th>1952</th>\n",
       "      <td>779.445314</td>\n",
       "      <td>1601.056136</td>\n",
       "      <td>2449.008185</td>\n",
       "      <td>3520.610273</td>\n",
       "      <td>5911.315053</td>\n",
       "      <td>10039.59564</td>\n",
       "      <td>6137.076492</td>\n",
       "      <td>9867.084765</td>\n",
       "      <td>684.244172</td>\n",
       "      <td>8343.105127</td>\n",
       "      <td>...</td>\n",
       "      <td>734.753484</td>\n",
       "      <td>9979.508487</td>\n",
       "      <td>13990.48208</td>\n",
       "      <td>5716.766744</td>\n",
       "      <td>7689.799761</td>\n",
       "      <td>605.066492</td>\n",
       "      <td>1515.592329</td>\n",
       "      <td>781.717576</td>\n",
       "      <td>1147.388831</td>\n",
       "      <td>406.884115</td>\n",
       "    </tr>\n",
       "    <tr>\n",
       "      <th>2007</th>\n",
       "      <td>974.580338</td>\n",
       "      <td>5937.029526</td>\n",
       "      <td>6223.367465</td>\n",
       "      <td>4797.231267</td>\n",
       "      <td>12779.379640</td>\n",
       "      <td>34435.36744</td>\n",
       "      <td>36126.492700</td>\n",
       "      <td>29796.048340</td>\n",
       "      <td>1391.253792</td>\n",
       "      <td>33692.605080</td>\n",
       "      <td>...</td>\n",
       "      <td>1056.380121</td>\n",
       "      <td>33203.261280</td>\n",
       "      <td>42951.65309</td>\n",
       "      <td>10611.462990</td>\n",
       "      <td>11415.805690</td>\n",
       "      <td>2441.576404</td>\n",
       "      <td>3025.349798</td>\n",
       "      <td>2280.769906</td>\n",
       "      <td>1271.211593</td>\n",
       "      <td>469.709298</td>\n",
       "    </tr>\n",
       "  </tbody>\n",
       "</table>\n",
       "<p>2 rows × 142 columns</p>\n",
       "</div>"
      ],
      "text/plain": [
       "country  Afghanistan      Albania      Algeria       Angola     Argentina  \\\n",
       "year                                                                        \n",
       "1952      779.445314  1601.056136  2449.008185  3520.610273   5911.315053   \n",
       "2007      974.580338  5937.029526  6223.367465  4797.231267  12779.379640   \n",
       "\n",
       "country    Australia       Austria       Bahrain   Bangladesh       Belgium  \\\n",
       "year                                                                          \n",
       "1952     10039.59564   6137.076492   9867.084765   684.244172   8343.105127   \n",
       "2007     34435.36744  36126.492700  29796.048340  1391.253792  33692.605080   \n",
       "\n",
       "country  ...       Uganda  United Kingdom  United States       Uruguay  \\\n",
       "year     ...                                                             \n",
       "1952     ...   734.753484     9979.508487    13990.48208   5716.766744   \n",
       "2007     ...  1056.380121    33203.261280    42951.65309  10611.462990   \n",
       "\n",
       "country     Venezuela      Vietnam  West Bank and Gaza  Yemen, Rep.  \\\n",
       "year                                                                  \n",
       "1952      7689.799761   605.066492         1515.592329   781.717576   \n",
       "2007     11415.805690  2441.576404         3025.349798  2280.769906   \n",
       "\n",
       "country       Zambia    Zimbabwe  \n",
       "year                              \n",
       "1952     1147.388831  406.884115  \n",
       "2007     1271.211593  469.709298  \n",
       "\n",
       "[2 rows x 142 columns]"
      ]
     },
     "execution_count": 110,
     "metadata": {},
     "output_type": "execute_result"
    }
   ],
   "source": [
    "subset_yr=subset_yr.pivot_table(values='gdpPercap', index='year',columns='country')\n",
    "subset_yr"
   ]
  },
  {
   "cell_type": "code",
   "execution_count": 111,
   "metadata": {
    "scrolled": false
   },
   "outputs": [
    {
     "data": {
      "text/plain": [
       "<matplotlib.legend.Legend at 0x115caa2e8>"
      ]
     },
     "execution_count": 111,
     "metadata": {},
     "output_type": "execute_result"
    },
    {
     "data": {
      "image/png": "[encoded data removed]",
      "text/plain": [
       "<Figure size 432x288 with 1 Axes>"
      ]
     },
     "metadata": {},
     "output_type": "display_data"
    }
   ],
   "source": [
    "plt.style.use('seaborn-white')\n",
    "plt.hist(x=subset_yr, bins=100, stacked=True, alpha=0.85, label=subset_yr.index.values)\n",
    "plt.xlabel('GDP')\n",
    "plt.ylabel('Frequency')\n",
    "plt.title('Year: 1952-2007')\n",
    "plt.xlim(0, 60000)\n",
    "plt.legend()"
   ]
  },
  {
   "cell_type": "code",
   "execution_count": 112,
   "metadata": {},
   "outputs": [
    {
     "data": {
      "text/plain": [
       "<matplotlib.legend.Legend at 0x1168f3e80>"
      ]
     },
     "execution_count": 112,
     "metadata": {},
     "output_type": "execute_result"
    },
    {
     "data": {
      "image/png": "[encoded data removed]",
      "text/plain": [
       "<Figure size 432x288 with 1 Axes>"
      ]
     },
     "metadata": {},
     "output_type": "display_data"
    }
   ],
   "source": [
    "plt.style.use('seaborn-white')\n",
    "colors=['green','purple']\n",
    "plt.hist(x=subset_yr, bins=100, stacked=True, alpha=0.85, label=subset_yr.index.values, color=colors)\n",
    "plt.xlabel('GDP')\n",
    "plt.ylabel('Frequency')\n",
    "plt.title('Year: 1952-2007')\n",
    "plt.xlim(0, 60000)\n",
    "plt.legend()"
   ]
  },
  {
   "cell_type": "markdown",
   "metadata": {},
   "source": [
    "## Scatterplot"
   ]
  },
  {
   "cell_type": "code",
   "execution_count": 115,
   "metadata": {},
   "outputs": [
    {
     "data": {
      "text/html": [
       "<div>\n",
       "<style scoped>\n",
       "    .dataframe tbody tr th:only-of-type {\n",
       "        vertical-align: middle;\n",
       "    }\n",
       "\n",
       "    .dataframe tbody tr th {\n",
       "        vertical-align: top;\n",
       "    }\n",
       "\n",
       "    .dataframe thead th {\n",
       "        text-align: right;\n",
       "    }\n",
       "</style>\n",
       "<table border=\"1\" class=\"dataframe\">\n",
       "  <thead>\n",
       "    <tr style=\"text-align: right;\">\n",
       "      <th></th>\n",
       "      <th>country</th>\n",
       "      <th>continent</th>\n",
       "      <th>year</th>\n",
       "      <th>pop</th>\n",
       "      <th>lifeExp</th>\n",
       "      <th>gdpPercap</th>\n",
       "    </tr>\n",
       "  </thead>\n",
       "  <tbody>\n",
       "    <tr>\n",
       "      <th>0</th>\n",
       "      <td>Afghanistan</td>\n",
       "      <td>Asia</td>\n",
       "      <td>2007</td>\n",
       "      <td>31889923.0</td>\n",
       "      <td>43.828</td>\n",
       "      <td>974.580338</td>\n",
       "    </tr>\n",
       "    <tr>\n",
       "      <th>1</th>\n",
       "      <td>Albania</td>\n",
       "      <td>Europe</td>\n",
       "      <td>2007</td>\n",
       "      <td>3600523.0</td>\n",
       "      <td>76.423</td>\n",
       "      <td>5937.029526</td>\n",
       "    </tr>\n",
       "    <tr>\n",
       "      <th>2</th>\n",
       "      <td>Algeria</td>\n",
       "      <td>Africa</td>\n",
       "      <td>2007</td>\n",
       "      <td>33333216.0</td>\n",
       "      <td>72.301</td>\n",
       "      <td>6223.367465</td>\n",
       "    </tr>\n",
       "    <tr>\n",
       "      <th>3</th>\n",
       "      <td>Angola</td>\n",
       "      <td>Africa</td>\n",
       "      <td>2007</td>\n",
       "      <td>12420476.0</td>\n",
       "      <td>42.731</td>\n",
       "      <td>4797.231267</td>\n",
       "    </tr>\n",
       "    <tr>\n",
       "      <th>4</th>\n",
       "      <td>Argentina</td>\n",
       "      <td>Americas</td>\n",
       "      <td>2007</td>\n",
       "      <td>40301927.0</td>\n",
       "      <td>75.320</td>\n",
       "      <td>12779.379640</td>\n",
       "    </tr>\n",
       "    <tr>\n",
       "      <th>...</th>\n",
       "      <td>...</td>\n",
       "      <td>...</td>\n",
       "      <td>...</td>\n",
       "      <td>...</td>\n",
       "      <td>...</td>\n",
       "      <td>...</td>\n",
       "    </tr>\n",
       "    <tr>\n",
       "      <th>137</th>\n",
       "      <td>Vietnam</td>\n",
       "      <td>Asia</td>\n",
       "      <td>2007</td>\n",
       "      <td>85262356.0</td>\n",
       "      <td>74.249</td>\n",
       "      <td>2441.576404</td>\n",
       "    </tr>\n",
       "    <tr>\n",
       "      <th>138</th>\n",
       "      <td>West Bank and Gaza</td>\n",
       "      <td>Asia</td>\n",
       "      <td>2007</td>\n",
       "      <td>4018332.0</td>\n",
       "      <td>73.422</td>\n",
       "      <td>3025.349798</td>\n",
       "    </tr>\n",
       "    <tr>\n",
       "      <th>139</th>\n",
       "      <td>Yemen, Rep.</td>\n",
       "      <td>Asia</td>\n",
       "      <td>2007</td>\n",
       "      <td>22211743.0</td>\n",
       "      <td>62.698</td>\n",
       "      <td>2280.769906</td>\n",
       "    </tr>\n",
       "    <tr>\n",
       "      <th>140</th>\n",
       "      <td>Zambia</td>\n",
       "      <td>Africa</td>\n",
       "      <td>2007</td>\n",
       "      <td>11746035.0</td>\n",
       "      <td>42.384</td>\n",
       "      <td>1271.211593</td>\n",
       "    </tr>\n",
       "    <tr>\n",
       "      <th>141</th>\n",
       "      <td>Zimbabwe</td>\n",
       "      <td>Africa</td>\n",
       "      <td>2007</td>\n",
       "      <td>12311143.0</td>\n",
       "      <td>43.487</td>\n",
       "      <td>469.709298</td>\n",
       "    </tr>\n",
       "  </tbody>\n",
       "</table>\n",
       "<p>142 rows × 6 columns</p>\n",
       "</div>"
      ],
      "text/plain": [
       "                country continent  year         pop  lifeExp     gdpPercap\n",
       "0           Afghanistan      Asia  2007  31889923.0   43.828    974.580338\n",
       "1               Albania    Europe  2007   3600523.0   76.423   5937.029526\n",
       "2               Algeria    Africa  2007  33333216.0   72.301   6223.367465\n",
       "3                Angola    Africa  2007  12420476.0   42.731   4797.231267\n",
       "4             Argentina  Americas  2007  40301927.0   75.320  12779.379640\n",
       "..                  ...       ...   ...         ...      ...           ...\n",
       "137             Vietnam      Asia  2007  85262356.0   74.249   2441.576404\n",
       "138  West Bank and Gaza      Asia  2007   4018332.0   73.422   3025.349798\n",
       "139         Yemen, Rep.      Asia  2007  22211743.0   62.698   2280.769906\n",
       "140              Zambia    Africa  2007  11746035.0   42.384   1271.211593\n",
       "141            Zimbabwe    Africa  2007  12311143.0   43.487    469.709298\n",
       "\n",
       "[142 rows x 6 columns]"
      ]
     },
     "execution_count": 115,
     "metadata": {},
     "output_type": "execute_result"
    }
   ],
   "source": [
    "subset_lifeExp=df\n",
    "subset_lifeExp=subset_lifeExp[subset_lifeExp['year']==2007].reset_index(drop=True)\n",
    "subset_lifeExp"
   ]
  },
  {
   "cell_type": "code",
   "execution_count": 116,
   "metadata": {},
   "outputs": [
    {
     "data": {
      "text/plain": [
       "(0, 60000)"
      ]
     },
     "execution_count": 116,
     "metadata": {},
     "output_type": "execute_result"
    },
    {
     "data": {
      "image/png": "[encoded data removed]",
      "text/plain": [
       "<Figure size 432x288 with 1 Axes>"
      ]
     },
     "metadata": {},
     "output_type": "display_data"
    }
   ],
   "source": [
    "plt.scatter(x=subset_lifeExp['gdpPercap'],y=subset_lifeExp['lifeExp'])\n",
    "plt.xlim(0,60000)"
   ]
  },
  {
   "cell_type": "code",
   "execution_count": 118,
   "metadata": {
    "scrolled": false
   },
   "outputs": [
    {
     "data": {
      "text/plain": [
       "(-3000, 60000)"
      ]
     },
     "execution_count": 118,
     "metadata": {},
     "output_type": "execute_result"
    },
    {
     "data": {
      "image/png": "[encoded data removed]",
      "text/plain": [
       "<Figure size 432x288 with 1 Axes>"
      ]
     },
     "metadata": {},
     "output_type": "display_data"
    }
   ],
   "source": [
    "plt.scatter(x=subset_lifeExp['gdpPercap'],y=subset_lifeExp['lifeExp'],\n",
    "           s=subset_lifeExp['pop']/1e6) # add scalar of the dots\n",
    "plt.xlim(-3000,60000)"
   ]
  },
  {
   "cell_type": "code",
   "execution_count": 119,
   "metadata": {},
   "outputs": [],
   "source": [
    "# Transform Continent into numerical values group1->1, group2->2...\n",
    "subset_lifeExp['continent']=pd.Categorical(subset_lifeExp['continent'])"
   ]
  },
  {
   "cell_type": "code",
   "execution_count": 120,
   "metadata": {},
   "outputs": [
    {
     "data": {
      "text/plain": [
       "0      2\n",
       "1      3\n",
       "2      0\n",
       "3      0\n",
       "4      1\n",
       "      ..\n",
       "137    2\n",
       "138    2\n",
       "139    2\n",
       "140    0\n",
       "141    0\n",
       "Length: 142, dtype: int8"
      ]
     },
     "execution_count": 120,
     "metadata": {},
     "output_type": "execute_result"
    }
   ],
   "source": [
    "subset_lifeExp['continent'].cat.codes"
   ]
  },
  {
   "cell_type": "code",
   "execution_count": 122,
   "metadata": {},
   "outputs": [
    {
     "data": {
      "text/plain": [
       "(-3000, 60000)"
      ]
     },
     "execution_count": 122,
     "metadata": {},
     "output_type": "execute_result"
    },
    {
     "data": {
      "image/png": "[encoded data removed]",
      "text/plain": [
       "<Figure size 432x288 with 1 Axes>"
      ]
     },
     "metadata": {},
     "output_type": "display_data"
    }
   ],
   "source": [
    "plt.scatter(x=subset_lifeExp['gdpPercap'],y=subset_lifeExp['lifeExp'],\n",
    "           s=subset_lifeExp['pop']/1e6,\n",
    "           c=subset_lifeExp['continent'].cat.codes, cmap=\"Accent\", \n",
    "            alpha=0.6, edgecolors=\"white\", linewidth=2) # add scalar of the dots\n",
    "#plt.xlim(0,60000)\n",
    "plt.xlim(-3000,60000)\n",
    "\n",
    "#plt.savefig('all_gdp_vs_lifeExp.png')"
   ]
  },
  {
   "cell_type": "markdown",
   "metadata": {},
   "source": [
    "## Boxplots"
   ]
  },
  {
   "cell_type": "markdown",
   "metadata": {},
   "source": [
    "https://pandas.pydata.org/pandas-docs/stable/reference/api/pandas.DataFrame.boxplot.html\n",
    "\n",
    "https://pandas.pydata.org/pandas-docs/stable/reference/api/pandas.DataFrame.boxplot.html#pandas.DataFrame.boxplot\n",
    "\n",
    "\n",
    "I find it very hard to use plt to create boxplots. So for the boxplots below, we'll teach using the pandas methods for plotting."
   ]
  },
  {
   "cell_type": "code",
   "execution_count": 123,
   "metadata": {
    "scrolled": true
   },
   "outputs": [
    {
     "data": {
      "text/html": [
       "<div>\n",
       "<style scoped>\n",
       "    .dataframe tbody tr th:only-of-type {\n",
       "        vertical-align: middle;\n",
       "    }\n",
       "\n",
       "    .dataframe tbody tr th {\n",
       "        vertical-align: top;\n",
       "    }\n",
       "\n",
       "    .dataframe thead th {\n",
       "        text-align: right;\n",
       "    }\n",
       "</style>\n",
       "<table border=\"1\" class=\"dataframe\">\n",
       "  <thead>\n",
       "    <tr style=\"text-align: right;\">\n",
       "      <th></th>\n",
       "      <th>country</th>\n",
       "      <th>continent</th>\n",
       "      <th>year</th>\n",
       "      <th>pop</th>\n",
       "      <th>lifeExp</th>\n",
       "      <th>gdpPercap</th>\n",
       "    </tr>\n",
       "  </thead>\n",
       "  <tbody>\n",
       "    <tr>\n",
       "      <th>0</th>\n",
       "      <td>Afghanistan</td>\n",
       "      <td>Asia</td>\n",
       "      <td>1997</td>\n",
       "      <td>22227415.0</td>\n",
       "      <td>41.763</td>\n",
       "      <td>635.341351</td>\n",
       "    </tr>\n",
       "    <tr>\n",
       "      <th>1</th>\n",
       "      <td>Afghanistan</td>\n",
       "      <td>Asia</td>\n",
       "      <td>2002</td>\n",
       "      <td>25268405.0</td>\n",
       "      <td>42.129</td>\n",
       "      <td>726.734055</td>\n",
       "    </tr>\n",
       "    <tr>\n",
       "      <th>2</th>\n",
       "      <td>Afghanistan</td>\n",
       "      <td>Asia</td>\n",
       "      <td>2007</td>\n",
       "      <td>31889923.0</td>\n",
       "      <td>43.828</td>\n",
       "      <td>974.580338</td>\n",
       "    </tr>\n",
       "    <tr>\n",
       "      <th>3</th>\n",
       "      <td>Afghanistan</td>\n",
       "      <td>Asia</td>\n",
       "      <td>1952</td>\n",
       "      <td>8425333.0</td>\n",
       "      <td>28.801</td>\n",
       "      <td>779.445314</td>\n",
       "    </tr>\n",
       "    <tr>\n",
       "      <th>4</th>\n",
       "      <td>Afghanistan</td>\n",
       "      <td>Asia</td>\n",
       "      <td>1957</td>\n",
       "      <td>9240934.0</td>\n",
       "      <td>30.332</td>\n",
       "      <td>820.853030</td>\n",
       "    </tr>\n",
       "  </tbody>\n",
       "</table>\n",
       "</div>"
      ],
      "text/plain": [
       "       country continent  year         pop  lifeExp   gdpPercap\n",
       "0  Afghanistan      Asia  1997  22227415.0   41.763  635.341351\n",
       "1  Afghanistan      Asia  2002  25268405.0   42.129  726.734055\n",
       "2  Afghanistan      Asia  2007  31889923.0   43.828  974.580338\n",
       "3  Afghanistan      Asia  1952   8425333.0   28.801  779.445314\n",
       "4  Afghanistan      Asia  1957   9240934.0   30.332  820.853030"
      ]
     },
     "execution_count": 123,
     "metadata": {},
     "output_type": "execute_result"
    }
   ],
   "source": [
    "df.head()"
   ]
  },
  {
   "cell_type": "code",
   "execution_count": 124,
   "metadata": {},
   "outputs": [
    {
     "data": {
      "text/html": [
       "<div>\n",
       "<style scoped>\n",
       "    .dataframe tbody tr th:only-of-type {\n",
       "        vertical-align: middle;\n",
       "    }\n",
       "\n",
       "    .dataframe tbody tr th {\n",
       "        vertical-align: top;\n",
       "    }\n",
       "\n",
       "    .dataframe thead th {\n",
       "        text-align: right;\n",
       "    }\n",
       "</style>\n",
       "<table border=\"1\" class=\"dataframe\">\n",
       "  <thead>\n",
       "    <tr style=\"text-align: right;\">\n",
       "      <th>year</th>\n",
       "      <th>1952</th>\n",
       "      <th>1957</th>\n",
       "      <th>1962</th>\n",
       "      <th>1967</th>\n",
       "      <th>1972</th>\n",
       "      <th>1977</th>\n",
       "      <th>1982</th>\n",
       "      <th>1987</th>\n",
       "      <th>1992</th>\n",
       "      <th>1997</th>\n",
       "      <th>2002</th>\n",
       "      <th>2007</th>\n",
       "    </tr>\n",
       "    <tr>\n",
       "      <th>continent</th>\n",
       "      <th></th>\n",
       "      <th></th>\n",
       "      <th></th>\n",
       "      <th></th>\n",
       "      <th></th>\n",
       "      <th></th>\n",
       "      <th></th>\n",
       "      <th></th>\n",
       "      <th></th>\n",
       "      <th></th>\n",
       "      <th></th>\n",
       "      <th></th>\n",
       "    </tr>\n",
       "  </thead>\n",
       "  <tbody>\n",
       "    <tr>\n",
       "      <th>Africa</th>\n",
       "      <td>39.135500</td>\n",
       "      <td>41.266346</td>\n",
       "      <td>43.319442</td>\n",
       "      <td>45.334538</td>\n",
       "      <td>47.450942</td>\n",
       "      <td>49.580423</td>\n",
       "      <td>51.592865</td>\n",
       "      <td>53.344788</td>\n",
       "      <td>53.629577</td>\n",
       "      <td>53.598269</td>\n",
       "      <td>53.325231</td>\n",
       "      <td>54.806038</td>\n",
       "    </tr>\n",
       "    <tr>\n",
       "      <th>Americas</th>\n",
       "      <td>53.279840</td>\n",
       "      <td>55.960280</td>\n",
       "      <td>58.398760</td>\n",
       "      <td>60.410920</td>\n",
       "      <td>62.394920</td>\n",
       "      <td>64.391560</td>\n",
       "      <td>66.228840</td>\n",
       "      <td>68.090720</td>\n",
       "      <td>69.568360</td>\n",
       "      <td>71.150480</td>\n",
       "      <td>72.422040</td>\n",
       "      <td>73.608120</td>\n",
       "    </tr>\n",
       "    <tr>\n",
       "      <th>Asia</th>\n",
       "      <td>46.314394</td>\n",
       "      <td>49.318544</td>\n",
       "      <td>51.563223</td>\n",
       "      <td>54.663640</td>\n",
       "      <td>57.319269</td>\n",
       "      <td>59.610556</td>\n",
       "      <td>62.617939</td>\n",
       "      <td>64.851182</td>\n",
       "      <td>66.537212</td>\n",
       "      <td>68.020515</td>\n",
       "      <td>69.233879</td>\n",
       "      <td>70.728485</td>\n",
       "    </tr>\n",
       "    <tr>\n",
       "      <th>Europe</th>\n",
       "      <td>64.408500</td>\n",
       "      <td>66.703067</td>\n",
       "      <td>68.539233</td>\n",
       "      <td>69.737600</td>\n",
       "      <td>70.775033</td>\n",
       "      <td>71.937767</td>\n",
       "      <td>72.806400</td>\n",
       "      <td>73.642167</td>\n",
       "      <td>74.440100</td>\n",
       "      <td>75.505167</td>\n",
       "      <td>76.700600</td>\n",
       "      <td>77.648600</td>\n",
       "    </tr>\n",
       "    <tr>\n",
       "      <th>Oceania</th>\n",
       "      <td>69.255000</td>\n",
       "      <td>70.295000</td>\n",
       "      <td>71.085000</td>\n",
       "      <td>71.310000</td>\n",
       "      <td>71.910000</td>\n",
       "      <td>72.855000</td>\n",
       "      <td>74.290000</td>\n",
       "      <td>75.320000</td>\n",
       "      <td>76.945000</td>\n",
       "      <td>78.190000</td>\n",
       "      <td>79.740000</td>\n",
       "      <td>80.719500</td>\n",
       "    </tr>\n",
       "  </tbody>\n",
       "</table>\n",
       "</div>"
      ],
      "text/plain": [
       "year            1952       1957       1962       1967       1972       1977  \\\n",
       "continent                                                                     \n",
       "Africa     39.135500  41.266346  43.319442  45.334538  47.450942  49.580423   \n",
       "Americas   53.279840  55.960280  58.398760  60.410920  62.394920  64.391560   \n",
       "Asia       46.314394  49.318544  51.563223  54.663640  57.319269  59.610556   \n",
       "Europe     64.408500  66.703067  68.539233  69.737600  70.775033  71.937767   \n",
       "Oceania    69.255000  70.295000  71.085000  71.310000  71.910000  72.855000   \n",
       "\n",
       "year            1982       1987       1992       1997       2002       2007  \n",
       "continent                                                                    \n",
       "Africa     51.592865  53.344788  53.629577  53.598269  53.325231  54.806038  \n",
       "Americas   66.228840  68.090720  69.568360  71.150480  72.422040  73.608120  \n",
       "Asia       62.617939  64.851182  66.537212  68.020515  69.233879  70.728485  \n",
       "Europe     72.806400  73.642167  74.440100  75.505167  76.700600  77.648600  \n",
       "Oceania    74.290000  75.320000  76.945000  78.190000  79.740000  80.719500  "
      ]
     },
     "execution_count": 124,
     "metadata": {},
     "output_type": "execute_result"
    }
   ],
   "source": [
    "subset_boxplot1=df.pivot_table(values='lifeExp', columns='year', index='continent')\n",
    "subset_boxplot1"
   ]
  },
  {
   "cell_type": "code",
   "execution_count": 125,
   "metadata": {},
   "outputs": [
    {
     "data": {
      "image/png": "[encoded data removed]",
      "text/plain": [
       "<Figure size 432x288 with 1 Axes>"
      ]
     },
     "metadata": {},
     "output_type": "display_data"
    }
   ],
   "source": [
    "subset_boxplot1.boxplot();"
   ]
  },
  {
   "cell_type": "code",
   "execution_count": 126,
   "metadata": {},
   "outputs": [
    {
     "data": {
      "image/png": "[encoded data removed]",
      "text/plain": [
       "<Figure size 432x288 with 1 Axes>"
      ]
     },
     "metadata": {},
     "output_type": "display_data"
    }
   ],
   "source": [
    "subset_boxplot1.boxplot(sym='gD');"
   ]
  },
  {
   "cell_type": "code",
   "execution_count": 127,
   "metadata": {},
   "outputs": [
    {
     "data": {
      "text/html": [
       "<div>\n",
       "<style scoped>\n",
       "    .dataframe tbody tr th:only-of-type {\n",
       "        vertical-align: middle;\n",
       "    }\n",
       "\n",
       "    .dataframe tbody tr th {\n",
       "        vertical-align: top;\n",
       "    }\n",
       "\n",
       "    .dataframe thead th {\n",
       "        text-align: right;\n",
       "    }\n",
       "</style>\n",
       "<table border=\"1\" class=\"dataframe\">\n",
       "  <thead>\n",
       "    <tr style=\"text-align: right;\">\n",
       "      <th>continent</th>\n",
       "      <th>Africa</th>\n",
       "      <th>Americas</th>\n",
       "      <th>Asia</th>\n",
       "      <th>Europe</th>\n",
       "      <th>Oceania</th>\n",
       "    </tr>\n",
       "    <tr>\n",
       "      <th>year</th>\n",
       "      <th></th>\n",
       "      <th></th>\n",
       "      <th></th>\n",
       "      <th></th>\n",
       "      <th></th>\n",
       "    </tr>\n",
       "  </thead>\n",
       "  <tbody>\n",
       "    <tr>\n",
       "      <th>1952</th>\n",
       "      <td>39.135500</td>\n",
       "      <td>53.27984</td>\n",
       "      <td>46.314394</td>\n",
       "      <td>64.408500</td>\n",
       "      <td>69.2550</td>\n",
       "    </tr>\n",
       "    <tr>\n",
       "      <th>1957</th>\n",
       "      <td>41.266346</td>\n",
       "      <td>55.96028</td>\n",
       "      <td>49.318544</td>\n",
       "      <td>66.703067</td>\n",
       "      <td>70.2950</td>\n",
       "    </tr>\n",
       "    <tr>\n",
       "      <th>1962</th>\n",
       "      <td>43.319442</td>\n",
       "      <td>58.39876</td>\n",
       "      <td>51.563223</td>\n",
       "      <td>68.539233</td>\n",
       "      <td>71.0850</td>\n",
       "    </tr>\n",
       "    <tr>\n",
       "      <th>1967</th>\n",
       "      <td>45.334538</td>\n",
       "      <td>60.41092</td>\n",
       "      <td>54.663640</td>\n",
       "      <td>69.737600</td>\n",
       "      <td>71.3100</td>\n",
       "    </tr>\n",
       "    <tr>\n",
       "      <th>1972</th>\n",
       "      <td>47.450942</td>\n",
       "      <td>62.39492</td>\n",
       "      <td>57.319269</td>\n",
       "      <td>70.775033</td>\n",
       "      <td>71.9100</td>\n",
       "    </tr>\n",
       "    <tr>\n",
       "      <th>1977</th>\n",
       "      <td>49.580423</td>\n",
       "      <td>64.39156</td>\n",
       "      <td>59.610556</td>\n",
       "      <td>71.937767</td>\n",
       "      <td>72.8550</td>\n",
       "    </tr>\n",
       "    <tr>\n",
       "      <th>1982</th>\n",
       "      <td>51.592865</td>\n",
       "      <td>66.22884</td>\n",
       "      <td>62.617939</td>\n",
       "      <td>72.806400</td>\n",
       "      <td>74.2900</td>\n",
       "    </tr>\n",
       "    <tr>\n",
       "      <th>1987</th>\n",
       "      <td>53.344788</td>\n",
       "      <td>68.09072</td>\n",
       "      <td>64.851182</td>\n",
       "      <td>73.642167</td>\n",
       "      <td>75.3200</td>\n",
       "    </tr>\n",
       "    <tr>\n",
       "      <th>1992</th>\n",
       "      <td>53.629577</td>\n",
       "      <td>69.56836</td>\n",
       "      <td>66.537212</td>\n",
       "      <td>74.440100</td>\n",
       "      <td>76.9450</td>\n",
       "    </tr>\n",
       "    <tr>\n",
       "      <th>1997</th>\n",
       "      <td>53.598269</td>\n",
       "      <td>71.15048</td>\n",
       "      <td>68.020515</td>\n",
       "      <td>75.505167</td>\n",
       "      <td>78.1900</td>\n",
       "    </tr>\n",
       "    <tr>\n",
       "      <th>2002</th>\n",
       "      <td>53.325231</td>\n",
       "      <td>72.42204</td>\n",
       "      <td>69.233879</td>\n",
       "      <td>76.700600</td>\n",
       "      <td>79.7400</td>\n",
       "    </tr>\n",
       "    <tr>\n",
       "      <th>2007</th>\n",
       "      <td>54.806038</td>\n",
       "      <td>73.60812</td>\n",
       "      <td>70.728485</td>\n",
       "      <td>77.648600</td>\n",
       "      <td>80.7195</td>\n",
       "    </tr>\n",
       "  </tbody>\n",
       "</table>\n",
       "</div>"
      ],
      "text/plain": [
       "continent     Africa  Americas       Asia     Europe  Oceania\n",
       "year                                                         \n",
       "1952       39.135500  53.27984  46.314394  64.408500  69.2550\n",
       "1957       41.266346  55.96028  49.318544  66.703067  70.2950\n",
       "1962       43.319442  58.39876  51.563223  68.539233  71.0850\n",
       "1967       45.334538  60.41092  54.663640  69.737600  71.3100\n",
       "1972       47.450942  62.39492  57.319269  70.775033  71.9100\n",
       "1977       49.580423  64.39156  59.610556  71.937767  72.8550\n",
       "1982       51.592865  66.22884  62.617939  72.806400  74.2900\n",
       "1987       53.344788  68.09072  64.851182  73.642167  75.3200\n",
       "1992       53.629577  69.56836  66.537212  74.440100  76.9450\n",
       "1997       53.598269  71.15048  68.020515  75.505167  78.1900\n",
       "2002       53.325231  72.42204  69.233879  76.700600  79.7400\n",
       "2007       54.806038  73.60812  70.728485  77.648600  80.7195"
      ]
     },
     "execution_count": 127,
     "metadata": {},
     "output_type": "execute_result"
    }
   ],
   "source": [
    "subset_boxplot2=df.pivot_table(values='lifeExp', columns='continent', index='year')\n",
    "subset_boxplot2"
   ]
  },
  {
   "cell_type": "code",
   "execution_count": 128,
   "metadata": {},
   "outputs": [
    {
     "data": {
      "image/png": "[encoded data removed]",
      "text/plain": [
       "<Figure size 432x288 with 1 Axes>"
      ]
     },
     "metadata": {},
     "output_type": "display_data"
    }
   ],
   "source": [
    "subset_boxplot2.boxplot();"
   ]
  },
  {
   "cell_type": "code",
   "execution_count": 129,
   "metadata": {},
   "outputs": [
    {
     "data": {
      "image/png": "[encoded data removed]",
      "text/plain": [
       "<Figure size 432x288 with 1 Axes>"
      ]
     },
     "metadata": {},
     "output_type": "display_data"
    }
   ],
   "source": [
    "subset_boxplot2.boxplot(vert=False);"
   ]
  },
  {
   "cell_type": "code",
   "execution_count": 130,
   "metadata": {},
   "outputs": [
    {
     "data": {
      "text/html": [
       "<div>\n",
       "<style scoped>\n",
       "    .dataframe tbody tr th:only-of-type {\n",
       "        vertical-align: middle;\n",
       "    }\n",
       "\n",
       "    .dataframe tbody tr th {\n",
       "        vertical-align: top;\n",
       "    }\n",
       "\n",
       "    .dataframe thead th {\n",
       "        text-align: right;\n",
       "    }\n",
       "</style>\n",
       "<table border=\"1\" class=\"dataframe\">\n",
       "  <thead>\n",
       "    <tr style=\"text-align: right;\">\n",
       "      <th></th>\n",
       "      <th>country</th>\n",
       "      <th>continent</th>\n",
       "      <th>year</th>\n",
       "      <th>pop</th>\n",
       "      <th>lifeExp</th>\n",
       "      <th>gdpPercap</th>\n",
       "    </tr>\n",
       "  </thead>\n",
       "  <tbody>\n",
       "    <tr>\n",
       "      <th>0</th>\n",
       "      <td>Afghanistan</td>\n",
       "      <td>Asia</td>\n",
       "      <td>2007</td>\n",
       "      <td>31889923.0</td>\n",
       "      <td>43.828</td>\n",
       "      <td>974.580338</td>\n",
       "    </tr>\n",
       "    <tr>\n",
       "      <th>1</th>\n",
       "      <td>Albania</td>\n",
       "      <td>Europe</td>\n",
       "      <td>2007</td>\n",
       "      <td>3600523.0</td>\n",
       "      <td>76.423</td>\n",
       "      <td>5937.029526</td>\n",
       "    </tr>\n",
       "    <tr>\n",
       "      <th>2</th>\n",
       "      <td>Algeria</td>\n",
       "      <td>Africa</td>\n",
       "      <td>2007</td>\n",
       "      <td>33333216.0</td>\n",
       "      <td>72.301</td>\n",
       "      <td>6223.367465</td>\n",
       "    </tr>\n",
       "    <tr>\n",
       "      <th>3</th>\n",
       "      <td>Angola</td>\n",
       "      <td>Africa</td>\n",
       "      <td>2007</td>\n",
       "      <td>12420476.0</td>\n",
       "      <td>42.731</td>\n",
       "      <td>4797.231267</td>\n",
       "    </tr>\n",
       "    <tr>\n",
       "      <th>4</th>\n",
       "      <td>Argentina</td>\n",
       "      <td>Americas</td>\n",
       "      <td>2007</td>\n",
       "      <td>40301927.0</td>\n",
       "      <td>75.320</td>\n",
       "      <td>12779.379640</td>\n",
       "    </tr>\n",
       "  </tbody>\n",
       "</table>\n",
       "</div>"
      ],
      "text/plain": [
       "       country continent  year         pop  lifeExp     gdpPercap\n",
       "0  Afghanistan      Asia  2007  31889923.0   43.828    974.580338\n",
       "1      Albania    Europe  2007   3600523.0   76.423   5937.029526\n",
       "2      Algeria    Africa  2007  33333216.0   72.301   6223.367465\n",
       "3       Angola    Africa  2007  12420476.0   42.731   4797.231267\n",
       "4    Argentina  Americas  2007  40301927.0   75.320  12779.379640"
      ]
     },
     "execution_count": 130,
     "metadata": {},
     "output_type": "execute_result"
    }
   ],
   "source": [
    "subset_lifeExp.head()"
   ]
  },
  {
   "cell_type": "code",
   "execution_count": 131,
   "metadata": {},
   "outputs": [
    {
     "data": {
      "text/html": [
       "<div>\n",
       "<style scoped>\n",
       "    .dataframe tbody tr th:only-of-type {\n",
       "        vertical-align: middle;\n",
       "    }\n",
       "\n",
       "    .dataframe tbody tr th {\n",
       "        vertical-align: top;\n",
       "    }\n",
       "\n",
       "    .dataframe thead th {\n",
       "        text-align: right;\n",
       "    }\n",
       "</style>\n",
       "<table border=\"1\" class=\"dataframe\">\n",
       "  <thead>\n",
       "    <tr style=\"text-align: right;\">\n",
       "      <th></th>\n",
       "      <th>lifeExp</th>\n",
       "      <th>continent</th>\n",
       "    </tr>\n",
       "  </thead>\n",
       "  <tbody>\n",
       "    <tr>\n",
       "      <th>0</th>\n",
       "      <td>43.828</td>\n",
       "      <td>Asia</td>\n",
       "    </tr>\n",
       "    <tr>\n",
       "      <th>1</th>\n",
       "      <td>76.423</td>\n",
       "      <td>Europe</td>\n",
       "    </tr>\n",
       "    <tr>\n",
       "      <th>2</th>\n",
       "      <td>72.301</td>\n",
       "      <td>Africa</td>\n",
       "    </tr>\n",
       "    <tr>\n",
       "      <th>3</th>\n",
       "      <td>42.731</td>\n",
       "      <td>Africa</td>\n",
       "    </tr>\n",
       "    <tr>\n",
       "      <th>4</th>\n",
       "      <td>75.320</td>\n",
       "      <td>Americas</td>\n",
       "    </tr>\n",
       "    <tr>\n",
       "      <th>...</th>\n",
       "      <td>...</td>\n",
       "      <td>...</td>\n",
       "    </tr>\n",
       "    <tr>\n",
       "      <th>137</th>\n",
       "      <td>74.249</td>\n",
       "      <td>Asia</td>\n",
       "    </tr>\n",
       "    <tr>\n",
       "      <th>138</th>\n",
       "      <td>73.422</td>\n",
       "      <td>Asia</td>\n",
       "    </tr>\n",
       "    <tr>\n",
       "      <th>139</th>\n",
       "      <td>62.698</td>\n",
       "      <td>Asia</td>\n",
       "    </tr>\n",
       "    <tr>\n",
       "      <th>140</th>\n",
       "      <td>42.384</td>\n",
       "      <td>Africa</td>\n",
       "    </tr>\n",
       "    <tr>\n",
       "      <th>141</th>\n",
       "      <td>43.487</td>\n",
       "      <td>Africa</td>\n",
       "    </tr>\n",
       "  </tbody>\n",
       "</table>\n",
       "<p>142 rows × 2 columns</p>\n",
       "</div>"
      ],
      "text/plain": [
       "     lifeExp continent\n",
       "0     43.828      Asia\n",
       "1     76.423    Europe\n",
       "2     72.301    Africa\n",
       "3     42.731    Africa\n",
       "4     75.320  Americas\n",
       "..       ...       ...\n",
       "137   74.249      Asia\n",
       "138   73.422      Asia\n",
       "139   62.698      Asia\n",
       "140   42.384    Africa\n",
       "141   43.487    Africa\n",
       "\n",
       "[142 rows x 2 columns]"
      ]
     },
     "execution_count": 131,
     "metadata": {},
     "output_type": "execute_result"
    }
   ],
   "source": [
    "subset_lifeExp.loc[:,['lifeExp','continent']]"
   ]
  },
  {
   "cell_type": "code",
   "execution_count": 132,
   "metadata": {},
   "outputs": [
    {
     "data": {
      "image/png": "[encoded data removed]",
      "text/plain": [
       "<Figure size 432x288 with 1 Axes>"
      ]
     },
     "metadata": {},
     "output_type": "display_data"
    }
   ],
   "source": [
    "subset_lifeExp.loc[:,['lifeExp','continent']].boxplot(by='continent', sym='r+');"
   ]
  },
  {
   "cell_type": "code",
   "execution_count": 139,
   "metadata": {},
   "outputs": [
    {
     "data": {
      "text/html": [
       "<div>\n",
       "<style scoped>\n",
       "    .dataframe tbody tr th:only-of-type {\n",
       "        vertical-align: middle;\n",
       "    }\n",
       "\n",
       "    .dataframe tbody tr th {\n",
       "        vertical-align: top;\n",
       "    }\n",
       "\n",
       "    .dataframe thead th {\n",
       "        text-align: right;\n",
       "    }\n",
       "</style>\n",
       "<table border=\"1\" class=\"dataframe\">\n",
       "  <thead>\n",
       "    <tr style=\"text-align: right;\">\n",
       "      <th></th>\n",
       "      <th>lifeExp</th>\n",
       "      <th>continent</th>\n",
       "      <th>country</th>\n",
       "      <th>year</th>\n",
       "    </tr>\n",
       "  </thead>\n",
       "  <tbody>\n",
       "    <tr>\n",
       "      <th>0</th>\n",
       "      <td>41.763</td>\n",
       "      <td>Asia</td>\n",
       "      <td>Afghanistan</td>\n",
       "      <td>1997</td>\n",
       "    </tr>\n",
       "    <tr>\n",
       "      <th>1</th>\n",
       "      <td>43.828</td>\n",
       "      <td>Asia</td>\n",
       "      <td>Afghanistan</td>\n",
       "      <td>2007</td>\n",
       "    </tr>\n",
       "    <tr>\n",
       "      <th>2</th>\n",
       "      <td>28.801</td>\n",
       "      <td>Asia</td>\n",
       "      <td>Afghanistan</td>\n",
       "      <td>1952</td>\n",
       "    </tr>\n",
       "    <tr>\n",
       "      <th>3</th>\n",
       "      <td>39.854</td>\n",
       "      <td>Asia</td>\n",
       "      <td>Afghanistan</td>\n",
       "      <td>1982</td>\n",
       "    </tr>\n",
       "    <tr>\n",
       "      <th>4</th>\n",
       "      <td>55.230</td>\n",
       "      <td>Europe</td>\n",
       "      <td>Albania</td>\n",
       "      <td>1952</td>\n",
       "    </tr>\n",
       "    <tr>\n",
       "      <th>...</th>\n",
       "      <td>...</td>\n",
       "      <td>...</td>\n",
       "      <td>...</td>\n",
       "      <td>...</td>\n",
       "    </tr>\n",
       "    <tr>\n",
       "      <th>563</th>\n",
       "      <td>42.384</td>\n",
       "      <td>Africa</td>\n",
       "      <td>Zambia</td>\n",
       "      <td>2007</td>\n",
       "    </tr>\n",
       "    <tr>\n",
       "      <th>564</th>\n",
       "      <td>48.451</td>\n",
       "      <td>Africa</td>\n",
       "      <td>Zimbabwe</td>\n",
       "      <td>1952</td>\n",
       "    </tr>\n",
       "    <tr>\n",
       "      <th>565</th>\n",
       "      <td>60.363</td>\n",
       "      <td>Africa</td>\n",
       "      <td>Zimbabwe</td>\n",
       "      <td>1982</td>\n",
       "    </tr>\n",
       "    <tr>\n",
       "      <th>566</th>\n",
       "      <td>46.809</td>\n",
       "      <td>Africa</td>\n",
       "      <td>Zimbabwe</td>\n",
       "      <td>1997</td>\n",
       "    </tr>\n",
       "    <tr>\n",
       "      <th>567</th>\n",
       "      <td>43.487</td>\n",
       "      <td>Africa</td>\n",
       "      <td>Zimbabwe</td>\n",
       "      <td>2007</td>\n",
       "    </tr>\n",
       "  </tbody>\n",
       "</table>\n",
       "<p>568 rows × 4 columns</p>\n",
       "</div>"
      ],
      "text/plain": [
       "     lifeExp continent      country  year\n",
       "0     41.763      Asia  Afghanistan  1997\n",
       "1     43.828      Asia  Afghanistan  2007\n",
       "2     28.801      Asia  Afghanistan  1952\n",
       "3     39.854      Asia  Afghanistan  1982\n",
       "4     55.230    Europe      Albania  1952\n",
       "..       ...       ...          ...   ...\n",
       "563   42.384    Africa       Zambia  2007\n",
       "564   48.451    Africa     Zimbabwe  1952\n",
       "565   60.363    Africa     Zimbabwe  1982\n",
       "566   46.809    Africa     Zimbabwe  1997\n",
       "567   43.487    Africa     Zimbabwe  2007\n",
       "\n",
       "[568 rows x 4 columns]"
      ]
     },
     "execution_count": 139,
     "metadata": {},
     "output_type": "execute_result"
    }
   ],
   "source": [
    "subset_lifeExp_2=df[df['year'].isin([1952,1982,1997,2007])].loc[:,['lifeExp','continent','country','year']].reset_index(drop=True)\n",
    "subset_lifeExp_2['year']=pd.Categorical(subset_lifeExp_2['year'])\n",
    "subset_lifeExp_2"
   ]
  },
  {
   "cell_type": "code",
   "execution_count": 140,
   "metadata": {},
   "outputs": [
    {
     "data": {
      "image/png": "[encoded data removed]",
      "text/plain": [
       "<Figure size 432x288 with 1 Axes>"
      ]
     },
     "metadata": {},
     "output_type": "display_data"
    }
   ],
   "source": [
    "subset_lifeExp_2.boxplot(by='year');"
   ]
  },
  {
   "cell_type": "code",
   "execution_count": 141,
   "metadata": {},
   "outputs": [
    {
     "data": {
      "image/png": "[encoded data removed]",
      "text/plain": [
       "<Figure size 432x288 with 1 Axes>"
      ]
     },
     "metadata": {},
     "output_type": "display_data"
    }
   ],
   "source": [
    "subset_lifeExp_2.boxplot(by=['continent']);"
   ]
  },
  {
   "cell_type": "code",
   "execution_count": 142,
   "metadata": {},
   "outputs": [
    {
     "data": {
      "text/html": [
       "<div>\n",
       "<style scoped>\n",
       "    .dataframe tbody tr th:only-of-type {\n",
       "        vertical-align: middle;\n",
       "    }\n",
       "\n",
       "    .dataframe tbody tr th {\n",
       "        vertical-align: top;\n",
       "    }\n",
       "\n",
       "    .dataframe thead th {\n",
       "        text-align: right;\n",
       "    }\n",
       "</style>\n",
       "<table border=\"1\" class=\"dataframe\">\n",
       "  <thead>\n",
       "    <tr style=\"text-align: right;\">\n",
       "      <th></th>\n",
       "      <th>year</th>\n",
       "      <th>1952</th>\n",
       "      <th>1982</th>\n",
       "      <th>1997</th>\n",
       "      <th>2007</th>\n",
       "    </tr>\n",
       "    <tr>\n",
       "      <th>country</th>\n",
       "      <th>continent</th>\n",
       "      <th></th>\n",
       "      <th></th>\n",
       "      <th></th>\n",
       "      <th></th>\n",
       "    </tr>\n",
       "  </thead>\n",
       "  <tbody>\n",
       "    <tr>\n",
       "      <th>Afghanistan</th>\n",
       "      <th>Asia</th>\n",
       "      <td>28.801</td>\n",
       "      <td>39.854</td>\n",
       "      <td>41.763</td>\n",
       "      <td>43.828</td>\n",
       "    </tr>\n",
       "    <tr>\n",
       "      <th>Albania</th>\n",
       "      <th>Europe</th>\n",
       "      <td>55.230</td>\n",
       "      <td>70.420</td>\n",
       "      <td>72.950</td>\n",
       "      <td>76.423</td>\n",
       "    </tr>\n",
       "    <tr>\n",
       "      <th>Algeria</th>\n",
       "      <th>Africa</th>\n",
       "      <td>43.077</td>\n",
       "      <td>61.368</td>\n",
       "      <td>69.152</td>\n",
       "      <td>72.301</td>\n",
       "    </tr>\n",
       "    <tr>\n",
       "      <th>Angola</th>\n",
       "      <th>Africa</th>\n",
       "      <td>30.015</td>\n",
       "      <td>39.942</td>\n",
       "      <td>40.963</td>\n",
       "      <td>42.731</td>\n",
       "    </tr>\n",
       "    <tr>\n",
       "      <th>Argentina</th>\n",
       "      <th>Americas</th>\n",
       "      <td>62.485</td>\n",
       "      <td>69.942</td>\n",
       "      <td>73.275</td>\n",
       "      <td>75.320</td>\n",
       "    </tr>\n",
       "    <tr>\n",
       "      <th>...</th>\n",
       "      <th>...</th>\n",
       "      <td>...</td>\n",
       "      <td>...</td>\n",
       "      <td>...</td>\n",
       "      <td>...</td>\n",
       "    </tr>\n",
       "    <tr>\n",
       "      <th>Vietnam</th>\n",
       "      <th>Asia</th>\n",
       "      <td>40.412</td>\n",
       "      <td>58.816</td>\n",
       "      <td>70.672</td>\n",
       "      <td>74.249</td>\n",
       "    </tr>\n",
       "    <tr>\n",
       "      <th>West Bank and Gaza</th>\n",
       "      <th>Asia</th>\n",
       "      <td>43.160</td>\n",
       "      <td>64.406</td>\n",
       "      <td>71.096</td>\n",
       "      <td>73.422</td>\n",
       "    </tr>\n",
       "    <tr>\n",
       "      <th>Yemen, Rep.</th>\n",
       "      <th>Asia</th>\n",
       "      <td>32.548</td>\n",
       "      <td>49.113</td>\n",
       "      <td>58.020</td>\n",
       "      <td>62.698</td>\n",
       "    </tr>\n",
       "    <tr>\n",
       "      <th>Zambia</th>\n",
       "      <th>Africa</th>\n",
       "      <td>42.038</td>\n",
       "      <td>51.821</td>\n",
       "      <td>40.238</td>\n",
       "      <td>42.384</td>\n",
       "    </tr>\n",
       "    <tr>\n",
       "      <th>Zimbabwe</th>\n",
       "      <th>Africa</th>\n",
       "      <td>48.451</td>\n",
       "      <td>60.363</td>\n",
       "      <td>46.809</td>\n",
       "      <td>43.487</td>\n",
       "    </tr>\n",
       "  </tbody>\n",
       "</table>\n",
       "<p>142 rows × 4 columns</p>\n",
       "</div>"
      ],
      "text/plain": [
       "year                            1952    1982    1997    2007\n",
       "country            continent                                \n",
       "Afghanistan        Asia       28.801  39.854  41.763  43.828\n",
       "Albania            Europe     55.230  70.420  72.950  76.423\n",
       "Algeria            Africa     43.077  61.368  69.152  72.301\n",
       "Angola             Africa     30.015  39.942  40.963  42.731\n",
       "Argentina          Americas   62.485  69.942  73.275  75.320\n",
       "...                              ...     ...     ...     ...\n",
       "Vietnam            Asia       40.412  58.816  70.672  74.249\n",
       "West Bank and Gaza Asia       43.160  64.406  71.096  73.422\n",
       "Yemen, Rep.        Asia       32.548  49.113  58.020  62.698\n",
       "Zambia             Africa     42.038  51.821  40.238  42.384\n",
       "Zimbabwe           Africa     48.451  60.363  46.809  43.487\n",
       "\n",
       "[142 rows x 4 columns]"
      ]
     },
     "execution_count": 142,
     "metadata": {},
     "output_type": "execute_result"
    }
   ],
   "source": [
    "subset_lifeExp_3=subset_lifeExp_2.pivot_table(values='lifeExp', index=['country','continent'], columns='year')\n",
    "subset_lifeExp_3"
   ]
  },
  {
   "cell_type": "code",
   "execution_count": 144,
   "metadata": {},
   "outputs": [
    {
     "data": {
      "image/png": "[encoded data removed]",
      "text/plain": [
       "<Figure size 432x288 with 4 Axes>"
      ]
     },
     "metadata": {},
     "output_type": "display_data"
    }
   ],
   "source": [
    "# layout tuple (rows, columns), optional\n",
    "# matplotlib.rcParams['figure.figsize'] = [width, height]\n",
    "#plt.rcParams['figure.figsize'] = [7, 5]\n",
    "subset_lifeExp_3.boxplot(by='continent');"
   ]
  },
  {
   "cell_type": "code",
   "execution_count": 145,
   "metadata": {},
   "outputs": [
    {
     "data": {
      "image/png": "[encoded data removed]",
      "text/plain": [
       "<Figure size 432x288 with 4 Axes>"
      ]
     },
     "metadata": {},
     "output_type": "display_data"
    }
   ],
   "source": [
    "# layout tuple (rows, columns), optional\n",
    "subset_lifeExp_3.boxplot(by='continent',layout=(1,4), rot=45);"
   ]
  },
  {
   "cell_type": "code",
   "execution_count": 146,
   "metadata": {},
   "outputs": [],
   "source": [
    "# matplotlib.rcParams['figure.figsize'] = [width, height]\n",
    "plt.rcParams['figure.figsize'] = [15, 5]\n",
    "plt.rcParams['figure.dpi'] = 300\n",
    "#plt.rcParams.update(plt.rcParamsDefault)"
   ]
  },
  {
   "cell_type": "code",
   "execution_count": 149,
   "metadata": {},
   "outputs": [
    {
     "data": {
      "image/png": "[encoded data removed]",
      "text/plain": [
       "<Figure size 4500x1500 with 4 Axes>"
      ]
     },
     "metadata": {},
     "output_type": "display_data"
    }
   ],
   "source": [
    "# layout tuple (rows, columns), optional\n",
    "subset_lifeExp_3.boxplot(by='continent',layout=(1,4), rot=45);"
   ]
  },
  {
   "cell_type": "markdown",
   "metadata": {},
   "source": [
    "We are done, people!\n",
    "\n",
    "How are we feeling after 2 days of workshop????\n",
    "\n",
    "Who are we: Judge Judy or crazy cat?"
   ]
  },
  {
   "cell_type": "markdown",
   "metadata": {},
   "source": [
    "![1](https://media.giphy.com/media/7yDthHaq2haXS/giphy.gif)\n",
    "![2](https://media.giphy.com/media/JIX9t2j0ZTN9S/giphy.gif)"
   ]
  },
  {
   "cell_type": "markdown",
   "metadata": {},
   "source": [
    "If time permitting...\n",
    "\n",
    "# HELP ME PLIS!"
   ]
  },
  {
   "cell_type": "markdown",
   "metadata": {},
   "source": [
    "## Errors"
   ]
  },
  {
   "cell_type": "markdown",
   "metadata": {},
   "source": [
    "##### Variable errors"
   ]
  },
  {
   "cell_type": "code",
   "execution_count": 150,
   "metadata": {},
   "outputs": [
    {
     "ename": "NameError",
     "evalue": "name 'chocolate_cake' is not defined",
     "output_type": "error",
     "traceback": [
      "\u001b[0;31m---------------------------------------------------------------------------\u001b[0m",
      "\u001b[0;31mNameError\u001b[0m                                 Traceback (most recent call last)",
      "\u001b[0;32m<ipython-input-150-9507c04e8ac2>\u001b[0m in \u001b[0;36m<module>\u001b[0;34m\u001b[0m\n\u001b[1;32m      1\u001b[0m \u001b[0;31m# need to create/define a variable before using it\u001b[0m\u001b[0;34m\u001b[0m\u001b[0;34m\u001b[0m\u001b[0m\n\u001b[0;32m----> 2\u001b[0;31m \u001b[0mchocolate_cake\u001b[0m\u001b[0;34m\u001b[0m\u001b[0m\n\u001b[0m",
      "\u001b[0;31mNameError\u001b[0m: name 'chocolate_cake' is not defined"
     ]
    }
   ],
   "source": [
    "# need to create/define a variable before using it\n",
    "chocolate_cake"
   ]
  },
  {
   "cell_type": "code",
   "execution_count": 151,
   "metadata": {},
   "outputs": [],
   "source": [
    "# this also includes mispellings...\n",
    "first_name='Nathalia'"
   ]
  },
  {
   "cell_type": "code",
   "execution_count": 152,
   "metadata": {},
   "outputs": [
    {
     "ename": "NameError",
     "evalue": "name 'firt_name' is not defined",
     "output_type": "error",
     "traceback": [
      "\u001b[0;31m---------------------------------------------------------------------------\u001b[0m",
      "\u001b[0;31mNameError\u001b[0m                                 Traceback (most recent call last)",
      "\u001b[0;32m<ipython-input-152-22cbac91693e>\u001b[0m in \u001b[0;36m<module>\u001b[0;34m\u001b[0m\n\u001b[0;32m----> 1\u001b[0;31m \u001b[0mfirt_name\u001b[0m\u001b[0;34m\u001b[0m\u001b[0m\n\u001b[0m",
      "\u001b[0;31mNameError\u001b[0m: name 'firt_name' is not defined"
     ]
    }
   ],
   "source": [
    "firt_name"
   ]
  },
  {
   "cell_type": "markdown",
   "metadata": {},
   "source": [
    "##### Syntax errors"
   ]
  },
  {
   "cell_type": "code",
   "execution_count": 153,
   "metadata": {},
   "outputs": [
    {
     "ename": "SyntaxError",
     "evalue": "unexpected EOF while parsing (<ipython-input-153-9aa910f8efe1>, line 4)",
     "output_type": "error",
     "traceback": [
      "\u001b[0;36m  File \u001b[0;32m\"<ipython-input-153-9aa910f8efe1>\"\u001b[0;36m, line \u001b[0;32m4\u001b[0m\n\u001b[0;31m    print(len(first_name)\u001b[0m\n\u001b[0m                         ^\u001b[0m\n\u001b[0;31mSyntaxError\u001b[0m\u001b[0;31m:\u001b[0m unexpected EOF while parsing\n"
     ]
    }
   ],
   "source": [
    "# Syntax errors: when you forget to close a ) \n",
    "## EOF - end of file\n",
    "## means that the end of your source code was reached before all code blocks were completed\n",
    "print(len(first_name)"
   ]
  },
  {
   "cell_type": "code",
   "execution_count": 154,
   "metadata": {},
   "outputs": [
    {
     "name": "stdout",
     "output_type": "stream",
     "text": [
      "8\n"
     ]
    }
   ],
   "source": [
    "print(len(first_name))"
   ]
  },
  {
   "cell_type": "code",
   "execution_count": 155,
   "metadata": {
    "scrolled": true
   },
   "outputs": [],
   "source": [
    "# Syntax errors: when you forgot a , \n",
    "tires=4"
   ]
  },
  {
   "cell_type": "code",
   "execution_count": 156,
   "metadata": {},
   "outputs": [
    {
     "ename": "SyntaxError",
     "evalue": "invalid syntax (<ipython-input-156-01f85abfb9f9>, line 1)",
     "output_type": "error",
     "traceback": [
      "\u001b[0;36m  File \u001b[0;32m\"<ipython-input-156-01f85abfb9f9>\"\u001b[0;36m, line \u001b[0;32m1\u001b[0m\n\u001b[0;31m    print('My car has'tires,' tires')\u001b[0m\n\u001b[0m                          ^\u001b[0m\n\u001b[0;31mSyntaxError\u001b[0m\u001b[0;31m:\u001b[0m invalid syntax\n"
     ]
    }
   ],
   "source": [
    "print('My car has'tires,' tires')"
   ]
  },
  {
   "cell_type": "code",
   "execution_count": 157,
   "metadata": {},
   "outputs": [
    {
     "ename": "SyntaxError",
     "evalue": "EOL while scanning string literal (<ipython-input-157-76a8f144bb3c>, line 3)",
     "output_type": "error",
     "traceback": [
      "\u001b[0;36m  File \u001b[0;32m\"<ipython-input-157-76a8f144bb3c>\"\u001b[0;36m, line \u001b[0;32m3\u001b[0m\n\u001b[0;31m    print('My car has',tires,' tires)\u001b[0m\n\u001b[0m                                     ^\u001b[0m\n\u001b[0;31mSyntaxError\u001b[0m\u001b[0;31m:\u001b[0m EOL while scanning string literal\n"
     ]
    }
   ],
   "source": [
    "# Syntax errors: forgot to close a quote ' in a string\n",
    "## EOL = end of line\n",
    "print('My car has',tires,' tires)"
   ]
  },
  {
   "cell_type": "code",
   "execution_count": 158,
   "metadata": {},
   "outputs": [
    {
     "name": "stdout",
     "output_type": "stream",
     "text": [
      "My car has 4  tires\n"
     ]
    }
   ],
   "source": [
    "tires=4\n",
    "print('My car has',tires,' tires')"
   ]
  },
  {
   "cell_type": "code",
   "execution_count": 159,
   "metadata": {},
   "outputs": [],
   "source": [
    "# Syntax errors: when you forget the colon at the end of a line\n",
    "data=[1,2,3,4]"
   ]
  },
  {
   "cell_type": "code",
   "execution_count": 160,
   "metadata": {},
   "outputs": [
    {
     "ename": "SyntaxError",
     "evalue": "invalid syntax (<ipython-input-160-a7d1fd1e1f30>, line 1)",
     "output_type": "error",
     "traceback": [
      "\u001b[0;36m  File \u001b[0;32m\"<ipython-input-160-a7d1fd1e1f30>\"\u001b[0;36m, line \u001b[0;32m1\u001b[0m\n\u001b[0;31m    for i in data\u001b[0m\n\u001b[0m                 ^\u001b[0m\n\u001b[0;31mSyntaxError\u001b[0m\u001b[0;31m:\u001b[0m invalid syntax\n"
     ]
    }
   ],
   "source": [
    "for i in data\n",
    "    print(i**2)"
   ]
  },
  {
   "cell_type": "code",
   "execution_count": 161,
   "metadata": {},
   "outputs": [
    {
     "ename": "IndentationError",
     "evalue": "expected an indented block (<ipython-input-161-9354b20bbb57>, line 3)",
     "output_type": "error",
     "traceback": [
      "\u001b[0;36m  File \u001b[0;32m\"<ipython-input-161-9354b20bbb57>\"\u001b[0;36m, line \u001b[0;32m3\u001b[0m\n\u001b[0;31m    print(i**2)\u001b[0m\n\u001b[0m        ^\u001b[0m\n\u001b[0;31mIndentationError\u001b[0m\u001b[0;31m:\u001b[0m expected an indented block\n"
     ]
    }
   ],
   "source": [
    "# Indentation errors: forgot to indent\n",
    "for i in data:\n",
    "print(i**2)"
   ]
  },
  {
   "cell_type": "code",
   "execution_count": 162,
   "metadata": {
    "scrolled": true
   },
   "outputs": [
    {
     "name": "stdout",
     "output_type": "stream",
     "text": [
      "1\n",
      "4\n",
      "9\n",
      "16\n"
     ]
    }
   ],
   "source": [
    "for i in data:\n",
    "    print(i**2)"
   ]
  },
  {
   "cell_type": "markdown",
   "metadata": {},
   "source": [
    "##### Index errors"
   ]
  },
  {
   "cell_type": "code",
   "execution_count": 163,
   "metadata": {},
   "outputs": [],
   "source": [
    "groceries=['banana','cheese','bread']"
   ]
  },
  {
   "cell_type": "code",
   "execution_count": 164,
   "metadata": {},
   "outputs": [
    {
     "ename": "IndexError",
     "evalue": "list index out of range",
     "output_type": "error",
     "traceback": [
      "\u001b[0;31m---------------------------------------------------------------------------\u001b[0m",
      "\u001b[0;31mIndexError\u001b[0m                                Traceback (most recent call last)",
      "\u001b[0;32m<ipython-input-164-87080ad480f6>\u001b[0m in \u001b[0;36m<module>\u001b[0;34m\u001b[0m\n\u001b[0;32m----> 1\u001b[0;31m \u001b[0mgroceries\u001b[0m\u001b[0;34m[\u001b[0m\u001b[0;36m3\u001b[0m\u001b[0;34m]\u001b[0m\u001b[0;34m\u001b[0m\u001b[0m\n\u001b[0m",
      "\u001b[0;31mIndexError\u001b[0m: list index out of range"
     ]
    }
   ],
   "source": [
    "groceries[3]"
   ]
  },
  {
   "cell_type": "markdown",
   "metadata": {},
   "source": [
    "##### Character in strings are IMMUTABLE"
   ]
  },
  {
   "cell_type": "code",
   "execution_count": 165,
   "metadata": {},
   "outputs": [],
   "source": [
    "fruit='mango'"
   ]
  },
  {
   "cell_type": "code",
   "execution_count": 166,
   "metadata": {},
   "outputs": [
    {
     "data": {
      "text/plain": [
       "'g'"
      ]
     },
     "execution_count": 166,
     "metadata": {},
     "output_type": "execute_result"
    }
   ],
   "source": [
    "fruit[3]"
   ]
  },
  {
   "cell_type": "code",
   "execution_count": 167,
   "metadata": {},
   "outputs": [
    {
     "ename": "TypeError",
     "evalue": "'str' object does not support item assignment",
     "output_type": "error",
     "traceback": [
      "\u001b[0;31m---------------------------------------------------------------------------\u001b[0m",
      "\u001b[0;31mTypeError\u001b[0m                                 Traceback (most recent call last)",
      "\u001b[0;32m<ipython-input-167-ed8f8adeae61>\u001b[0m in \u001b[0;36m<module>\u001b[0;34m\u001b[0m\n\u001b[0;32m----> 1\u001b[0;31m \u001b[0mfruit\u001b[0m\u001b[0;34m[\u001b[0m\u001b[0;36m3\u001b[0m\u001b[0;34m]\u001b[0m\u001b[0;34m=\u001b[0m\u001b[0;34m'G'\u001b[0m\u001b[0;34m\u001b[0m\u001b[0m\n\u001b[0m",
      "\u001b[0;31mTypeError\u001b[0m: 'str' object does not support item assignment"
     ]
    }
   ],
   "source": [
    "fruit[3]='G'"
   ]
  },
  {
   "cell_type": "markdown",
   "metadata": {},
   "source": [
    "##### Item in list is MUTABLE"
   ]
  },
  {
   "cell_type": "code",
   "execution_count": 168,
   "metadata": {},
   "outputs": [],
   "source": [
    "fruits=['mango','cherry']"
   ]
  },
  {
   "cell_type": "code",
   "execution_count": 169,
   "metadata": {},
   "outputs": [
    {
     "data": {
      "text/plain": [
       "'cherry'"
      ]
     },
     "execution_count": 169,
     "metadata": {},
     "output_type": "execute_result"
    }
   ],
   "source": [
    "fruits[1]"
   ]
  },
  {
   "cell_type": "code",
   "execution_count": 170,
   "metadata": {},
   "outputs": [],
   "source": [
    "fruits[1]='apple'"
   ]
  },
  {
   "cell_type": "code",
   "execution_count": 171,
   "metadata": {},
   "outputs": [
    {
     "data": {
      "text/plain": [
       "['mango', 'apple']"
      ]
     },
     "execution_count": 171,
     "metadata": {},
     "output_type": "execute_result"
    }
   ],
   "source": [
    "fruits"
   ]
  },
  {
   "cell_type": "markdown",
   "metadata": {},
   "source": [
    "##### Character in item of a list is IMMUTABLE"
   ]
  },
  {
   "cell_type": "code",
   "execution_count": 173,
   "metadata": {},
   "outputs": [
    {
     "data": {
      "text/plain": [
       "'apple'"
      ]
     },
     "execution_count": 173,
     "metadata": {},
     "output_type": "execute_result"
    }
   ],
   "source": [
    "fruits[1]"
   ]
  },
  {
   "cell_type": "code",
   "execution_count": 174,
   "metadata": {},
   "outputs": [
    {
     "data": {
      "text/plain": [
       "'p'"
      ]
     },
     "execution_count": 174,
     "metadata": {},
     "output_type": "execute_result"
    }
   ],
   "source": [
    "fruits[1][2]"
   ]
  },
  {
   "cell_type": "code",
   "execution_count": 175,
   "metadata": {},
   "outputs": [
    {
     "ename": "TypeError",
     "evalue": "'str' object does not support item assignment",
     "output_type": "error",
     "traceback": [
      "\u001b[0;31m---------------------------------------------------------------------------\u001b[0m",
      "\u001b[0;31mTypeError\u001b[0m                                 Traceback (most recent call last)",
      "\u001b[0;32m<ipython-input-175-5a3a42788dfb>\u001b[0m in \u001b[0;36m<module>\u001b[0;34m\u001b[0m\n\u001b[0;32m----> 1\u001b[0;31m \u001b[0mfruits\u001b[0m\u001b[0;34m[\u001b[0m\u001b[0;36m1\u001b[0m\u001b[0;34m]\u001b[0m\u001b[0;34m[\u001b[0m\u001b[0;36m2\u001b[0m\u001b[0;34m]\u001b[0m\u001b[0;34m=\u001b[0m\u001b[0;34m'P'\u001b[0m\u001b[0;34m\u001b[0m\u001b[0m\n\u001b[0m",
      "\u001b[0;31mTypeError\u001b[0m: 'str' object does not support item assignment"
     ]
    }
   ],
   "source": [
    "fruits[1][2]='P'"
   ]
  },
  {
   "cell_type": "markdown",
   "metadata": {},
   "source": [
    "### Help yo'self (: "
   ]
  },
  {
   "cell_type": "code",
   "execution_count": 176,
   "metadata": {},
   "outputs": [
    {
     "name": "stdout",
     "output_type": "stream",
     "text": [
      "Help on built-in function print in module builtins:\n",
      "\n",
      "print(...)\n",
      "    print(value, ..., sep=' ', end='\\n', file=sys.stdout, flush=False)\n",
      "    \n",
      "    Prints the values to a stream, or to sys.stdout by default.\n",
      "    Optional keyword arguments:\n",
      "    file:  a file-like object (stream); defaults to the current sys.stdout.\n",
      "    sep:   string inserted between values, default a space.\n",
      "    end:   string appended after the last value, default a newline.\n",
      "    flush: whether to forcibly flush the stream.\n",
      "\n"
     ]
    }
   ],
   "source": [
    "help(print)"
   ]
  },
  {
   "cell_type": "code",
   "execution_count": 14,
   "metadata": {},
   "outputs": [
    {
     "name": "stdout",
     "output_type": "stream",
     "text": [
      "Help on built-in function len in module builtins:\n",
      "\n",
      "len(obj, /)\n",
      "    Return the number of items in a container.\n",
      "\n"
     ]
    }
   ],
   "source": [
    "help(len)"
   ]
  },
  {
   "cell_type": "code",
   "execution_count": 177,
   "metadata": {},
   "outputs": [],
   "source": [
    "?len"
   ]
  },
  {
   "cell_type": "code",
   "execution_count": 178,
   "metadata": {},
   "outputs": [],
   "source": [
    "?data"
   ]
  },
  {
   "cell_type": "code",
   "execution_count": 180,
   "metadata": {
    "collapsed": true
   },
   "outputs": [
    {
     "data": {
      "text/plain": [
       "['__add__',\n",
       " '__class__',\n",
       " '__contains__',\n",
       " '__delattr__',\n",
       " '__delitem__',\n",
       " '__dir__',\n",
       " '__doc__',\n",
       " '__eq__',\n",
       " '__format__',\n",
       " '__ge__',\n",
       " '__getattribute__',\n",
       " '__getitem__',\n",
       " '__gt__',\n",
       " '__hash__',\n",
       " '__iadd__',\n",
       " '__imul__',\n",
       " '__init__',\n",
       " '__init_subclass__',\n",
       " '__iter__',\n",
       " '__le__',\n",
       " '__len__',\n",
       " '__lt__',\n",
       " '__mul__',\n",
       " '__ne__',\n",
       " '__new__',\n",
       " '__reduce__',\n",
       " '__reduce_ex__',\n",
       " '__repr__',\n",
       " '__reversed__',\n",
       " '__rmul__',\n",
       " '__setattr__',\n",
       " '__setitem__',\n",
       " '__sizeof__',\n",
       " '__str__',\n",
       " '__subclasshook__',\n",
       " 'append',\n",
       " 'clear',\n",
       " 'copy',\n",
       " 'count',\n",
       " 'extend',\n",
       " 'index',\n",
       " 'insert',\n",
       " 'pop',\n",
       " 'remove',\n",
       " 'reverse',\n",
       " 'sort']"
      ]
     },
     "execution_count": 180,
     "metadata": {},
     "output_type": "execute_result"
    }
   ],
   "source": [
    "dir(data)"
   ]
  },
  {
   "cell_type": "markdown",
   "metadata": {},
   "source": [
    "```\n",
    "help(your_data_object)\n",
    "dir(your_data_object) \n",
    "```"
   ]
  },
  {
   "cell_type": "markdown",
   "metadata": {},
   "source": [
    "## Items with double underscores have to do with classes, another type of object which is beyond the scope of this lesson to discuss. So for now, only focus your attention to the names that do not start with double underscores.\n",
    "\n",
    "_______________________________________"
   ]
  },
  {
   "cell_type": "markdown",
   "metadata": {},
   "source": [
    "# Bye-Bye!\n",
    "\n",
    "# Thanks for coming to the workshop!\n",
    "\n",
    "# Keep practicing and don't give up!"
   ]
  }
 ],
 "metadata": {
  "kernelspec": {
   "display_name": "Python 3",
   "language": "python",
   "name": "python3"
  },
  "language_info": {
   "codemirror_mode": {
    "name": "ipython",
    "version": 3
   },
   "file_extension": ".py",
   "mimetype": "text/x-python",
   "name": "python",
   "nbconvert_exporter": "python",
   "pygments_lexer": "ipython3",
   "version": "3.6.3"
  }
 },
 "nbformat": 4,
 "nbformat_minor": 2
}
